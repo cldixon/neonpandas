{
 "cells": [
  {
   "cell_type": "markdown",
   "metadata": {},
   "source": [
    "# Development for NeonPandas"
   ]
  },
  {
   "cell_type": "code",
   "execution_count": 1,
   "metadata": {},
   "outputs": [],
   "source": [
    "import numpy as np\n",
    "import pandas as pd \n",
    "import neonpandas as npd\n",
    "\n",
    "from utils import cypher\n",
    "from utils import df_tools\n",
    "from utils.node import Node"
   ]
  },
  {
   "cell_type": "markdown",
   "metadata": {},
   "source": [
    "## Load Pets Dataset"
   ]
  },
  {
   "cell_type": "code",
   "execution_count": 2,
   "metadata": {},
   "outputs": [
    {
     "data": {
      "text/html": [
       "<div>\n",
       "<style scoped>\n",
       "    .dataframe tbody tr th:only-of-type {\n",
       "        vertical-align: middle;\n",
       "    }\n",
       "\n",
       "    .dataframe tbody tr th {\n",
       "        vertical-align: top;\n",
       "    }\n",
       "\n",
       "    .dataframe thead th {\n",
       "        text-align: right;\n",
       "    }\n",
       "</style>\n",
       "<table border=\"1\" class=\"dataframe\">\n",
       "  <thead>\n",
       "    <tr style=\"text-align: right;\">\n",
       "      <th></th>\n",
       "      <th>name</th>\n",
       "      <th>species</th>\n",
       "      <th>color</th>\n",
       "      <th>age</th>\n",
       "      <th>behavior</th>\n",
       "    </tr>\n",
       "  </thead>\n",
       "  <tbody>\n",
       "    <tr>\n",
       "      <td>0</td>\n",
       "      <td>Ralph</td>\n",
       "      <td>Dog</td>\n",
       "      <td>black</td>\n",
       "      <td>10.0</td>\n",
       "      <td>NaN</td>\n",
       "    </tr>\n",
       "    <tr>\n",
       "      <td>1</td>\n",
       "      <td>Pip</td>\n",
       "      <td>Cat</td>\n",
       "      <td>yellow</td>\n",
       "      <td>6.0</td>\n",
       "      <td>good</td>\n",
       "    </tr>\n",
       "    <tr>\n",
       "      <td>2</td>\n",
       "      <td>Babe</td>\n",
       "      <td>Pig</td>\n",
       "      <td>NaN</td>\n",
       "      <td>3.0</td>\n",
       "      <td>NaN</td>\n",
       "    </tr>\n",
       "    <tr>\n",
       "      <td>3</td>\n",
       "      <td>Bubbles</td>\n",
       "      <td>Fish</td>\n",
       "      <td>red</td>\n",
       "      <td>NaN</td>\n",
       "      <td>acceptable</td>\n",
       "    </tr>\n",
       "    <tr>\n",
       "      <td>4</td>\n",
       "      <td>Freckles</td>\n",
       "      <td>Horse</td>\n",
       "      <td>brown</td>\n",
       "      <td>NaN</td>\n",
       "      <td>NaN</td>\n",
       "    </tr>\n",
       "  </tbody>\n",
       "</table>\n",
       "</div>"
      ],
      "text/plain": [
       "       name species   color   age    behavior\n",
       "0     Ralph     Dog   black  10.0         NaN\n",
       "1       Pip     Cat  yellow   6.0        good\n",
       "2      Babe     Pig     NaN   3.0         NaN\n",
       "3   Bubbles    Fish     red   NaN  acceptable\n",
       "4  Freckles   Horse   brown   NaN         NaN"
      ]
     },
     "execution_count": 2,
     "metadata": {},
     "output_type": "execute_result"
    }
   ],
   "source": [
    "data = pd.read_csv('pets.csv')\n",
    "data"
   ]
  },
  {
   "cell_type": "markdown",
   "metadata": {},
   "source": [
    "## NeonPandas NodeFrame\n",
    "Look behind the scenes (e.g. `pets`) to see the _neo_node_ index that makes this all work."
   ]
  },
  {
   "cell_type": "code",
   "execution_count": 3,
   "metadata": {
    "scrolled": true
   },
   "outputs": [
    {
     "data": {
      "text/html": [
       "<style  type=\"text/css\" >\n",
       "</style><table id=\"T_982222aa_c26f_11ea_a3aa_784f43755733\" ><thead>    <tr>        <th class=\"col_heading level0 col0\" >labels</th>        <th class=\"col_heading level0 col1\" >name</th>        <th class=\"col_heading level0 col2\" >color</th>        <th class=\"col_heading level0 col3\" >age</th>        <th class=\"col_heading level0 col4\" >behavior</th>    </tr></thead><tbody>\n",
       "                <tr>\n",
       "                                <td id=\"T_982222aa_c26f_11ea_a3aa_784f43755733row0_col0\" class=\"data row0 col0\" >('Pet', 'Dog')</td>\n",
       "                        <td id=\"T_982222aa_c26f_11ea_a3aa_784f43755733row0_col1\" class=\"data row0 col1\" >Ralph</td>\n",
       "                        <td id=\"T_982222aa_c26f_11ea_a3aa_784f43755733row0_col2\" class=\"data row0 col2\" >black</td>\n",
       "                        <td id=\"T_982222aa_c26f_11ea_a3aa_784f43755733row0_col3\" class=\"data row0 col3\" >10</td>\n",
       "                        <td id=\"T_982222aa_c26f_11ea_a3aa_784f43755733row0_col4\" class=\"data row0 col4\" >nan</td>\n",
       "            </tr>\n",
       "            <tr>\n",
       "                                <td id=\"T_982222aa_c26f_11ea_a3aa_784f43755733row1_col0\" class=\"data row1 col0\" >('Pet', 'Cat')</td>\n",
       "                        <td id=\"T_982222aa_c26f_11ea_a3aa_784f43755733row1_col1\" class=\"data row1 col1\" >Pip</td>\n",
       "                        <td id=\"T_982222aa_c26f_11ea_a3aa_784f43755733row1_col2\" class=\"data row1 col2\" >yellow</td>\n",
       "                        <td id=\"T_982222aa_c26f_11ea_a3aa_784f43755733row1_col3\" class=\"data row1 col3\" >6</td>\n",
       "                        <td id=\"T_982222aa_c26f_11ea_a3aa_784f43755733row1_col4\" class=\"data row1 col4\" >good</td>\n",
       "            </tr>\n",
       "            <tr>\n",
       "                                <td id=\"T_982222aa_c26f_11ea_a3aa_784f43755733row2_col0\" class=\"data row2 col0\" >('Pet', 'Pig')</td>\n",
       "                        <td id=\"T_982222aa_c26f_11ea_a3aa_784f43755733row2_col1\" class=\"data row2 col1\" >Babe</td>\n",
       "                        <td id=\"T_982222aa_c26f_11ea_a3aa_784f43755733row2_col2\" class=\"data row2 col2\" >nan</td>\n",
       "                        <td id=\"T_982222aa_c26f_11ea_a3aa_784f43755733row2_col3\" class=\"data row2 col3\" >3</td>\n",
       "                        <td id=\"T_982222aa_c26f_11ea_a3aa_784f43755733row2_col4\" class=\"data row2 col4\" >nan</td>\n",
       "            </tr>\n",
       "            <tr>\n",
       "                                <td id=\"T_982222aa_c26f_11ea_a3aa_784f43755733row3_col0\" class=\"data row3 col0\" >('Pet', 'Fish')</td>\n",
       "                        <td id=\"T_982222aa_c26f_11ea_a3aa_784f43755733row3_col1\" class=\"data row3 col1\" >Bubbles</td>\n",
       "                        <td id=\"T_982222aa_c26f_11ea_a3aa_784f43755733row3_col2\" class=\"data row3 col2\" >red</td>\n",
       "                        <td id=\"T_982222aa_c26f_11ea_a3aa_784f43755733row3_col3\" class=\"data row3 col3\" >nan</td>\n",
       "                        <td id=\"T_982222aa_c26f_11ea_a3aa_784f43755733row3_col4\" class=\"data row3 col4\" >acceptable</td>\n",
       "            </tr>\n",
       "            <tr>\n",
       "                                <td id=\"T_982222aa_c26f_11ea_a3aa_784f43755733row4_col0\" class=\"data row4 col0\" >('Pet', 'Horse')</td>\n",
       "                        <td id=\"T_982222aa_c26f_11ea_a3aa_784f43755733row4_col1\" class=\"data row4 col1\" >Freckles</td>\n",
       "                        <td id=\"T_982222aa_c26f_11ea_a3aa_784f43755733row4_col2\" class=\"data row4 col2\" >brown</td>\n",
       "                        <td id=\"T_982222aa_c26f_11ea_a3aa_784f43755733row4_col3\" class=\"data row4 col3\" >nan</td>\n",
       "                        <td id=\"T_982222aa_c26f_11ea_a3aa_784f43755733row4_col4\" class=\"data row4 col4\" >nan</td>\n",
       "            </tr>\n",
       "    </tbody></table>"
      ],
      "text/plain": [
       "<pandas.io.formats.style.Styler at 0x7f9ae882fc10>"
      ]
     },
     "execution_count": 3,
     "metadata": {},
     "output_type": "execute_result"
    }
   ],
   "source": [
    "pets = npd.NodeFrame(data, id_col='name', lbl_col='species', labels='Pet')\n",
    "pets.show()"
   ]
  },
  {
   "cell_type": "code",
   "execution_count": 4,
   "metadata": {},
   "outputs": [
    {
     "data": {
      "text/html": [
       "<div>\n",
       "<style scoped>\n",
       "    .dataframe tbody tr th:only-of-type {\n",
       "        vertical-align: middle;\n",
       "    }\n",
       "\n",
       "    .dataframe tbody tr th {\n",
       "        vertical-align: top;\n",
       "    }\n",
       "\n",
       "    .dataframe thead th {\n",
       "        text-align: right;\n",
       "    }\n",
       "</style>\n",
       "<table border=\"1\" class=\"dataframe\">\n",
       "  <thead>\n",
       "    <tr style=\"text-align: right;\">\n",
       "      <th></th>\n",
       "      <th>labels</th>\n",
       "      <th>name</th>\n",
       "      <th>color</th>\n",
       "      <th>age</th>\n",
       "      <th>behavior</th>\n",
       "    </tr>\n",
       "    <tr>\n",
       "      <th>neo_idx</th>\n",
       "      <th></th>\n",
       "      <th></th>\n",
       "      <th></th>\n",
       "      <th></th>\n",
       "      <th></th>\n",
       "    </tr>\n",
       "  </thead>\n",
       "  <tbody>\n",
       "    <tr>\n",
       "      <td>(n:Pet:Dog {name: \"Ralph\"})</td>\n",
       "      <td>(Pet, Dog)</td>\n",
       "      <td>Ralph</td>\n",
       "      <td>black</td>\n",
       "      <td>10.0</td>\n",
       "      <td>NaN</td>\n",
       "    </tr>\n",
       "    <tr>\n",
       "      <td>(n:Pet:Cat {name: \"Pip\"})</td>\n",
       "      <td>(Pet, Cat)</td>\n",
       "      <td>Pip</td>\n",
       "      <td>yellow</td>\n",
       "      <td>6.0</td>\n",
       "      <td>good</td>\n",
       "    </tr>\n",
       "    <tr>\n",
       "      <td>(n:Pet:Pig {name: \"Babe\"})</td>\n",
       "      <td>(Pet, Pig)</td>\n",
       "      <td>Babe</td>\n",
       "      <td>NaN</td>\n",
       "      <td>3.0</td>\n",
       "      <td>NaN</td>\n",
       "    </tr>\n",
       "    <tr>\n",
       "      <td>(n:Pet:Fish {name: \"Bubbles\"})</td>\n",
       "      <td>(Pet, Fish)</td>\n",
       "      <td>Bubbles</td>\n",
       "      <td>red</td>\n",
       "      <td>NaN</td>\n",
       "      <td>acceptable</td>\n",
       "    </tr>\n",
       "    <tr>\n",
       "      <td>(n:Pet:Horse {name: \"Freckles\"})</td>\n",
       "      <td>(Pet, Horse)</td>\n",
       "      <td>Freckles</td>\n",
       "      <td>brown</td>\n",
       "      <td>NaN</td>\n",
       "      <td>NaN</td>\n",
       "    </tr>\n",
       "  </tbody>\n",
       "</table>\n",
       "</div>"
      ],
      "text/plain": [
       "                                        labels      name   color   age  \\\n",
       "neo_idx                                                                  \n",
       "(n:Pet:Dog {name: \"Ralph\"})         (Pet, Dog)     Ralph   black  10.0   \n",
       "(n:Pet:Cat {name: \"Pip\"})           (Pet, Cat)       Pip  yellow   6.0   \n",
       "(n:Pet:Pig {name: \"Babe\"})          (Pet, Pig)      Babe     NaN   3.0   \n",
       "(n:Pet:Fish {name: \"Bubbles\"})     (Pet, Fish)   Bubbles     red   NaN   \n",
       "(n:Pet:Horse {name: \"Freckles\"})  (Pet, Horse)  Freckles   brown   NaN   \n",
       "\n",
       "                                    behavior  \n",
       "neo_idx                                       \n",
       "(n:Pet:Dog {name: \"Ralph\"})              NaN  \n",
       "(n:Pet:Cat {name: \"Pip\"})               good  \n",
       "(n:Pet:Pig {name: \"Babe\"})               NaN  \n",
       "(n:Pet:Fish {name: \"Bubbles\"})    acceptable  \n",
       "(n:Pet:Horse {name: \"Freckles\"})         NaN  "
      ]
     },
     "execution_count": 4,
     "metadata": {},
     "output_type": "execute_result"
    }
   ],
   "source": [
    "pets"
   ]
  },
  {
   "cell_type": "markdown",
   "metadata": {},
   "source": [
    "## Set up Graph"
   ]
  },
  {
   "cell_type": "code",
   "execution_count": 5,
   "metadata": {},
   "outputs": [],
   "source": [
    "graph = npd.Graph(uri='bolt://localhost:7687', auth=('neo4j', 'neonpandas'))"
   ]
  },
  {
   "cell_type": "markdown",
   "metadata": {},
   "source": [
    "### Creates Nodes"
   ]
  },
  {
   "cell_type": "code",
   "execution_count": null,
   "metadata": {},
   "outputs": [],
   "source": [
    "graph.create_nodes(pets)"
   ]
  },
  {
   "cell_type": "markdown",
   "metadata": {},
   "source": [
    "## NeonPandas EdgeFrame"
   ]
  },
  {
   "cell_type": "code",
   "execution_count": 6,
   "metadata": {},
   "outputs": [
    {
     "data": {
      "text/html": [
       "<div>\n",
       "<style scoped>\n",
       "    .dataframe tbody tr th:only-of-type {\n",
       "        vertical-align: middle;\n",
       "    }\n",
       "\n",
       "    .dataframe tbody tr th {\n",
       "        vertical-align: top;\n",
       "    }\n",
       "\n",
       "    .dataframe thead th {\n",
       "        text-align: right;\n",
       "    }\n",
       "</style>\n",
       "<table border=\"1\" class=\"dataframe\">\n",
       "  <thead>\n",
       "    <tr style=\"text-align: right;\">\n",
       "      <th></th>\n",
       "      <th>src</th>\n",
       "      <th>rel_type</th>\n",
       "      <th>dest</th>\n",
       "      <th>reporter</th>\n",
       "    </tr>\n",
       "  </thead>\n",
       "  <tbody>\n",
       "    <tr>\n",
       "      <td>0</td>\n",
       "      <td>Ralph</td>\n",
       "      <td>FRIENDLY_WITH</td>\n",
       "      <td>Bubbles</td>\n",
       "      <td>Jenny</td>\n",
       "    </tr>\n",
       "    <tr>\n",
       "      <td>1</td>\n",
       "      <td>Pip</td>\n",
       "      <td>MEAN_TO</td>\n",
       "      <td>Babe</td>\n",
       "      <td>Frank</td>\n",
       "    </tr>\n",
       "    <tr>\n",
       "      <td>2</td>\n",
       "      <td>Ralph</td>\n",
       "      <td>MEAN_TO</td>\n",
       "      <td>Freckles</td>\n",
       "      <td>Frank</td>\n",
       "    </tr>\n",
       "    <tr>\n",
       "      <td>3</td>\n",
       "      <td>Freckles</td>\n",
       "      <td>FRIENDLY_WITH</td>\n",
       "      <td>Babe</td>\n",
       "      <td>Tommy</td>\n",
       "    </tr>\n",
       "    <tr>\n",
       "      <td>4</td>\n",
       "      <td>Pip</td>\n",
       "      <td>JUST_MET</td>\n",
       "      <td>Barney</td>\n",
       "      <td>Jenny</td>\n",
       "    </tr>\n",
       "  </tbody>\n",
       "</table>\n",
       "</div>"
      ],
      "text/plain": [
       "        src       rel_type      dest reporter\n",
       "0     Ralph  FRIENDLY_WITH   Bubbles    Jenny\n",
       "1       Pip        MEAN_TO      Babe    Frank\n",
       "2     Ralph        MEAN_TO  Freckles    Frank\n",
       "3  Freckles  FRIENDLY_WITH      Babe    Tommy\n",
       "4       Pip       JUST_MET    Barney    Jenny"
      ]
     },
     "execution_count": 6,
     "metadata": {},
     "output_type": "execute_result"
    }
   ],
   "source": [
    "edges = pd.DataFrame([\n",
    "    {'src': 'Ralph', 'rel_type': 'FRIENDLY_WITH', 'dest': 'Bubbles', 'reporter': 'Jenny'},\n",
    "    {'src': 'Pip', 'rel_type': 'MEAN_TO', 'dest': 'Babe', 'reporter': 'Frank'},\n",
    "    {'src': 'Ralph', 'rel_type': 'MEAN_TO', 'dest': 'Freckles', 'reporter': 'Frank'},\n",
    "    {'src': 'Freckles', 'rel_type': 'FRIENDLY_WITH', 'dest': 'Babe', 'reporter': 'Tommy'},\n",
    "    {'src': 'Pip', 'rel_type': 'JUST_MET', 'dest': 'Barney', 'reporter': 'Jenny'}\n",
    "])\n",
    "edges"
   ]
  },
  {
   "cell_type": "markdown",
   "metadata": {},
   "source": [
    "#### Requirements for EdgeFrame\n",
    "- Designate source, relationship-type, and dest columns (i.e. src, dest, rel_type)\n",
    "- Ability to join **src** and **dest** cols with NodeFrame to get ID info (e.g. labels, id_props, etc.)\n",
    "- `create_edges()` method with option to set **src** and **dest** (individually) to `MATCH` or `MERGE`\n",
    "- Assumes all columns in EdgeFrame beyond **src**, **dest**, and **rel-type** are edge properties"
   ]
  },
  {
   "cell_type": "code",
   "execution_count": 7,
   "metadata": {},
   "outputs": [
    {
     "data": {
      "text/html": [
       "<div>\n",
       "<style scoped>\n",
       "    .dataframe tbody tr th:only-of-type {\n",
       "        vertical-align: middle;\n",
       "    }\n",
       "\n",
       "    .dataframe tbody tr th {\n",
       "        vertical-align: top;\n",
       "    }\n",
       "\n",
       "    .dataframe thead th {\n",
       "        text-align: right;\n",
       "    }\n",
       "</style>\n",
       "<table border=\"1\" class=\"dataframe\">\n",
       "  <thead>\n",
       "    <tr style=\"text-align: right;\">\n",
       "      <th></th>\n",
       "      <th>rel_type</th>\n",
       "      <th>src</th>\n",
       "      <th>dest</th>\n",
       "      <th>reporter</th>\n",
       "    </tr>\n",
       "  </thead>\n",
       "  <tbody>\n",
       "    <tr>\n",
       "      <td>0</td>\n",
       "      <td>FRIENDLY_WITH</td>\n",
       "      <td>Ralph</td>\n",
       "      <td>Bubbles</td>\n",
       "      <td>Jenny</td>\n",
       "    </tr>\n",
       "    <tr>\n",
       "      <td>1</td>\n",
       "      <td>MEAN_TO</td>\n",
       "      <td>Pip</td>\n",
       "      <td>Babe</td>\n",
       "      <td>Frank</td>\n",
       "    </tr>\n",
       "    <tr>\n",
       "      <td>2</td>\n",
       "      <td>MEAN_TO</td>\n",
       "      <td>Ralph</td>\n",
       "      <td>Freckles</td>\n",
       "      <td>Frank</td>\n",
       "    </tr>\n",
       "    <tr>\n",
       "      <td>3</td>\n",
       "      <td>FRIENDLY_WITH</td>\n",
       "      <td>Freckles</td>\n",
       "      <td>Babe</td>\n",
       "      <td>Tommy</td>\n",
       "    </tr>\n",
       "    <tr>\n",
       "      <td>4</td>\n",
       "      <td>JUST_MET</td>\n",
       "      <td>Pip</td>\n",
       "      <td>Barney</td>\n",
       "      <td>Jenny</td>\n",
       "    </tr>\n",
       "  </tbody>\n",
       "</table>\n",
       "</div>"
      ],
      "text/plain": [
       "        rel_type       src      dest reporter\n",
       "0  FRIENDLY_WITH     Ralph   Bubbles    Jenny\n",
       "1        MEAN_TO       Pip      Babe    Frank\n",
       "2        MEAN_TO     Ralph  Freckles    Frank\n",
       "3  FRIENDLY_WITH  Freckles      Babe    Tommy\n",
       "4       JUST_MET       Pip    Barney    Jenny"
      ]
     },
     "execution_count": 7,
     "metadata": {},
     "output_type": "execute_result"
    }
   ],
   "source": [
    "edges = npd.EdgeFrame(edges, rel_col='rel_type')\n",
    "#edges = npd.EdgeFrame(edges[['src', 'dest']], rel_type='SHARES_OWNER')\n",
    "edges"
   ]
  },
  {
   "cell_type": "code",
   "execution_count": 15,
   "metadata": {},
   "outputs": [],
   "source": [
    "def enrich_edgeframe(edges, nodes, default=None):\n",
    "    src_default, dest_default = _parse_default_param(default)\n",
    "    src_lbls = '{}_labels'.format(edges.src_col)\n",
    "    dest_lbls = '{}_labels'.format(edges.dest_col)\n",
    "    # src join\n",
    "    test = edges.merge(nodes[[nodes.id_col, 'labels']],\n",
    "                      left_on=edges.src_col, right_on=nodes.id_col,\n",
    "                      how='left').rename(columns={'labels': src_lbls})\n",
    "    # dest join\n",
    "    test = test.merge(nodes[[nodes.id_col, 'labels']],\n",
    "                     left_on=edges.dest_col, right_on=nodes.id_col,\n",
    "                     how='left', suffixes=('_src', '_dest')).rename(columns={'labels': dest_lbls})\n",
    "    # drop extraneous columns\n",
    "    test.drop(test.filter(regex='(_src|_dest)').columns, axis=1, inplace=True)\n",
    "    # if some nodes from edgeframe were not matched to nodeframe\n",
    "    # fill in default labels (src & dest)\n",
    "    test = handle_nan_nodes(test, src_lbls, src_default)\n",
    "    test = handle_nan_nodes(test, dest_lbls, dest_default)\n",
    "    # convert src field and labels to Node object\n",
    "    test[edges.src_col] = df_tools._generate_node_idx(test, key=nodes.id_col, \n",
    "                                                      value_col=edges.src_col, \n",
    "                                                      lbls_col=src_lbls, var='s')\n",
    "    test[edges.dest_col] = df_tools._generate_node_idx(test, key=nodes.id_col, \n",
    "                                                       value_col=edges.dest_col, \n",
    "                                                       lbls_col=dest_lbls, var='d')\n",
    "    test.drop(test.filter(regex='_labels').columns, axis=1, inplace=True)\n",
    "    return test\n",
    "\n",
    "def _parse_default_param(default):\n",
    "    if isinstance(default, tuple):\n",
    "        src_default, dest_default = default\n",
    "    elif isinstance(default, str):\n",
    "        src_default = default\n",
    "        dest_default = default\n",
    "    else:\n",
    "        src_default = None\n",
    "        dest_default = None\n",
    "    return src_default, dest_default\n",
    "\n",
    "def handle_nan_nodes(edges, col, col_default):\n",
    "    _nans = edges[col].isnull().values\n",
    "    if _nans.any():\n",
    "        if col_default:\n",
    "            # get indices of nan values\n",
    "            nan_idx = np.where(_nans == True)[0]\n",
    "            edges[col][nan_idx] = df_tools.conform_to_tuple(col_default,)\n",
    "        else:\n",
    "            error_msg = \"\"\"{s} column contains {n} nan values after merge with NodeFrame.\n",
    "            This may be because a node in the {s} column is not present in\n",
    "            the NodeFrame. Use the 'src_default' parameter to provide a\n",
    "            default Node Label for {s} nodes not found in NodeFrame.\"\"\".format(s=col, n=_nans.shape[0])\n",
    "            raise ValueError(error_msg)\n",
    "    return edges"
   ]
  },
  {
   "cell_type": "code",
   "execution_count": 16,
   "metadata": {},
   "outputs": [
    {
     "data": {
      "text/html": [
       "<div>\n",
       "<style scoped>\n",
       "    .dataframe tbody tr th:only-of-type {\n",
       "        vertical-align: middle;\n",
       "    }\n",
       "\n",
       "    .dataframe tbody tr th {\n",
       "        vertical-align: top;\n",
       "    }\n",
       "\n",
       "    .dataframe thead th {\n",
       "        text-align: right;\n",
       "    }\n",
       "</style>\n",
       "<table border=\"1\" class=\"dataframe\">\n",
       "  <thead>\n",
       "    <tr style=\"text-align: right;\">\n",
       "      <th></th>\n",
       "      <th>rel_type</th>\n",
       "      <th>src</th>\n",
       "      <th>dest</th>\n",
       "      <th>reporter</th>\n",
       "    </tr>\n",
       "  </thead>\n",
       "  <tbody>\n",
       "    <tr>\n",
       "      <td>0</td>\n",
       "      <td>FRIENDLY_WITH</td>\n",
       "      <td>(s:Pet:Dog {name: \"Ralph\"})</td>\n",
       "      <td>(d:Pet:Fish {name: \"Bubbles\"})</td>\n",
       "      <td>Jenny</td>\n",
       "    </tr>\n",
       "    <tr>\n",
       "      <td>1</td>\n",
       "      <td>MEAN_TO</td>\n",
       "      <td>(s:Pet:Cat {name: \"Pip\"})</td>\n",
       "      <td>(d:Pet:Pig {name: \"Babe\"})</td>\n",
       "      <td>Frank</td>\n",
       "    </tr>\n",
       "    <tr>\n",
       "      <td>2</td>\n",
       "      <td>MEAN_TO</td>\n",
       "      <td>(s:Pet:Dog {name: \"Ralph\"})</td>\n",
       "      <td>(d:Pet:Horse {name: \"Freckles\"})</td>\n",
       "      <td>Frank</td>\n",
       "    </tr>\n",
       "    <tr>\n",
       "      <td>3</td>\n",
       "      <td>FRIENDLY_WITH</td>\n",
       "      <td>(s:Pet:Horse {name: \"Freckles\"})</td>\n",
       "      <td>(d:Pet:Pig {name: \"Babe\"})</td>\n",
       "      <td>Tommy</td>\n",
       "    </tr>\n",
       "    <tr>\n",
       "      <td>4</td>\n",
       "      <td>JUST_MET</td>\n",
       "      <td>(s:Pet:Cat {name: \"Pip\"})</td>\n",
       "      <td>(d:Pet {name: \"Barney\"})</td>\n",
       "      <td>Jenny</td>\n",
       "    </tr>\n",
       "  </tbody>\n",
       "</table>\n",
       "</div>"
      ],
      "text/plain": [
       "        rel_type                               src  \\\n",
       "0  FRIENDLY_WITH       (s:Pet:Dog {name: \"Ralph\"})   \n",
       "1        MEAN_TO         (s:Pet:Cat {name: \"Pip\"})   \n",
       "2        MEAN_TO       (s:Pet:Dog {name: \"Ralph\"})   \n",
       "3  FRIENDLY_WITH  (s:Pet:Horse {name: \"Freckles\"})   \n",
       "4       JUST_MET         (s:Pet:Cat {name: \"Pip\"})   \n",
       "\n",
       "                               dest reporter  \n",
       "0    (d:Pet:Fish {name: \"Bubbles\"})    Jenny  \n",
       "1        (d:Pet:Pig {name: \"Babe\"})    Frank  \n",
       "2  (d:Pet:Horse {name: \"Freckles\"})    Frank  \n",
       "3        (d:Pet:Pig {name: \"Babe\"})    Tommy  \n",
       "4          (d:Pet {name: \"Barney\"})    Jenny  "
      ]
     },
     "execution_count": 16,
     "metadata": {},
     "output_type": "execute_result"
    }
   ],
   "source": [
    "test = enrich_edgeframe(edges, pets, default='Pet')\n",
    "test"
   ]
  },
  {
   "cell_type": "code",
   "execution_count": null,
   "metadata": {},
   "outputs": [],
   "source": [
    "## left to do ----\n",
    "## now how to merge with multiple NodeFrames (ie an array)\n",
    "## this is essential for EdgeFrame that contain edges\n",
    "## going from one node class to another (e.g. Pets --> Owners)"
   ]
  },
  {
   "cell_type": "code",
   "execution_count": null,
   "metadata": {},
   "outputs": [],
   "source": [
    "results = test.dest_labels.isnull().values\n",
    "results"
   ]
  },
  {
   "cell_type": "code",
   "execution_count": null,
   "metadata": {},
   "outputs": [],
   "source": [
    "nan_idx = np.where(results == True)[0]\n",
    "nan_idx"
   ]
  },
  {
   "cell_type": "code",
   "execution_count": null,
   "metadata": {},
   "outputs": [],
   "source": [
    "test.dest_labels[nan_idx] = df_tools.conform_to_tuple(('ieurue',))"
   ]
  },
  {
   "cell_type": "code",
   "execution_count": 10,
   "metadata": {},
   "outputs": [
    {
     "data": {
      "text/plain": [
       "('dog', 'cat')"
      ]
     },
     "execution_count": 10,
     "metadata": {},
     "output_type": "execute_result"
    }
   ],
   "source": [
    "a, b = ('dog', 'cat')\n",
    "a, b"
   ]
  },
  {
   "cell_type": "code",
   "execution_count": 11,
   "metadata": {},
   "outputs": [
    {
     "ename": "ValueError",
     "evalue": "too many values to unpack (expected 2)",
     "output_type": "error",
     "traceback": [
      "\u001b[0;31m---------------------------------------------------------------------------\u001b[0m",
      "\u001b[0;31mValueError\u001b[0m                                Traceback (most recent call last)",
      "\u001b[0;32m<ipython-input-11-83ae6345ce77>\u001b[0m in \u001b[0;36m<module>\u001b[0;34m\u001b[0m\n\u001b[0;32m----> 1\u001b[0;31m \u001b[0ma\u001b[0m\u001b[0;34m,\u001b[0m \u001b[0mb\u001b[0m \u001b[0;34m=\u001b[0m \u001b[0;34m'dog'\u001b[0m\u001b[0;34m\u001b[0m\u001b[0;34m\u001b[0m\u001b[0m\n\u001b[0m\u001b[1;32m      2\u001b[0m \u001b[0ma\u001b[0m\u001b[0;34m,\u001b[0m \u001b[0mb\u001b[0m\u001b[0;34m\u001b[0m\u001b[0;34m\u001b[0m\u001b[0m\n",
      "\u001b[0;31mValueError\u001b[0m: too many values to unpack (expected 2)"
     ]
    }
   ],
   "source": [
    "a, b = 'dog'\n",
    "a, b"
   ]
  },
  {
   "cell_type": "code",
   "execution_count": null,
   "metadata": {},
   "outputs": [],
   "source": [
    "test.match(n_lbls=1)"
   ]
  },
  {
   "cell_type": "code",
   "execution_count": null,
   "metadata": {},
   "outputs": [],
   "source": [
    "apoc_records = df_tools.prepare_df_for_apoc(test, lbls_col='rel_type')\n",
    "apoc_records[-1]"
   ]
  },
  {
   "cell_type": "code",
   "execution_count": null,
   "metadata": {},
   "outputs": [],
   "source": [
    "apoc_records[0]"
   ]
  },
  {
   "cell_type": "code",
   "execution_count": null,
   "metadata": {},
   "outputs": [],
   "source": [
    "## current issues\n",
    "## how to maintain identify in nodes list\n",
    "## with hidden link between nodes across NodeFrame & EdgeFrame\n",
    "## how to submit EdgeFrame to CREATE RELATIONSHIP query w/ variable Node-Labels"
   ]
  },
  {
   "cell_type": "code",
   "execution_count": null,
   "metadata": {},
   "outputs": [],
   "source": [
    "query = \"\"\"UNWIND $edges AS edge\n",
    "        MATCH (s:Pet {name: edge.src})\n",
    "        MATCH (d:Pet {name: edge.dest})\n",
    "        WITH s,d,edge\n",
    "        CALL apoc.merge.relationship(s, edge.rel_type, {}, {}, d) YIELD rel\n",
    "        RETURN COUNT(rel)\"\"\""
   ]
  },
  {
   "cell_type": "code",
   "execution_count": null,
   "metadata": {},
   "outputs": [],
   "source": [
    "graph.create_relationships(edges, query)"
   ]
  },
  {
   "cell_type": "markdown",
   "metadata": {},
   "source": [
    "### Node Joining\n",
    "Perform _join_ operations with an input DataFrame against nodes in Neo4j."
   ]
  },
  {
   "cell_type": "code",
   "execution_count": null,
   "metadata": {},
   "outputs": [],
   "source": [
    "new_pets = pd.DataFrame([\n",
    "    {'name': 'Betsy', 'age': 2, 'species': 'Cow'},\n",
    "    {'name': 'Carrie', 'species': 'Rabbit'}\n",
    "])\n",
    "all_pets = pd.concat([data, new_pets], sort=False).reset_index(drop=True)"
   ]
  },
  {
   "cell_type": "code",
   "execution_count": null,
   "metadata": {},
   "outputs": [],
   "source": [
    "all_pets = npd.NodeFrame(all_pets, id_col='name', lbl_col='species', labels={'Pet'})\n",
    "all_pets"
   ]
  },
  {
   "cell_type": "markdown",
   "metadata": {},
   "source": [
    "### Semi-Join\n",
    "Check which nodes in DataFrame exist in Neo4j."
   ]
  },
  {
   "cell_type": "code",
   "execution_count": null,
   "metadata": {},
   "outputs": [],
   "source": [
    "graph.semi_join(all_pets, on='name', labels='Pet')"
   ]
  },
  {
   "cell_type": "markdown",
   "metadata": {},
   "source": [
    "### Anti-Join\n",
    "Check which nodes in DataFrame do not exist in Neo4j."
   ]
  },
  {
   "cell_type": "code",
   "execution_count": null,
   "metadata": {},
   "outputs": [],
   "source": [
    "graph.anti_join(all_pets, on='name', labels='Pet')"
   ]
  },
  {
   "cell_type": "markdown",
   "metadata": {},
   "source": [
    "## Match Nodes\n",
    "Search for nodes via `MATCH` statement"
   ]
  },
  {
   "cell_type": "code",
   "execution_count": null,
   "metadata": {},
   "outputs": [],
   "source": [
    "graph.match_nodes(labels={'Pet'}, limit=3)"
   ]
  },
  {
   "cell_type": "code",
   "execution_count": null,
   "metadata": {},
   "outputs": [],
   "source": [
    "## add properties to search\n",
    "graph.match_nodes(labels={'Pet'}, properties={'name': 'Ralph'})"
   ]
  },
  {
   "cell_type": "markdown",
   "metadata": {},
   "source": [
    "## DataFrame Object"
   ]
  },
  {
   "cell_type": "code",
   "execution_count": null,
   "metadata": {},
   "outputs": [],
   "source": [
    "class Test(pd.DataFrame):\n",
    "    def __init__(self, data, column:str=None, labels=None):\n",
    "        super().__init__(data)\n",
    "        self.whatami = \"I am a NeonPandas DataFrame\"\n",
    "        self._set_labels(column=column, labels=labels)\n",
    "        \n",
    "    def _set_labels(self, column:str=None, labels:set=None) -> list:\n",
    "        if column is not None and labels is None:\n",
    "            assert column in self.columns\n",
    "            _lbls = self[column].apply(lambda x: df_tools.conform_to_set(x))\n",
    "        elif column is not None and labels is not None:\n",
    "            _lbls = self[column].apply(lambda x: {x}.union(df_tools.conform_to_set(labels)))\n",
    "        elif column is None and labels is not None:\n",
    "            labels = df_tools.conform_to_set(labels)\n",
    "            _lbls = [labels for i in range(len(self))]\n",
    "        else:\n",
    "            raise ValueError(\"Must provide either 'labels' or 'use_column' as input for attribute type.\")\n",
    "        # finish processing dataframe and labels column\n",
    "        self.drop(columns=[column], inplace=True)\n",
    "        # set labels as column\n",
    "        self.insert(0, 'labels', _lbls)\n",
    "        return"
   ]
  },
  {
   "cell_type": "code",
   "execution_count": null,
   "metadata": {},
   "outputs": [],
   "source": [
    "pets_data = df_tools.convert_to_records(all_pets)\n",
    "pets_data[0]"
   ]
  },
  {
   "cell_type": "code",
   "execution_count": null,
   "metadata": {},
   "outputs": [],
   "source": [
    "pets_test = Test(pets_data, column='labels')\n",
    "pets_test"
   ]
  },
  {
   "cell_type": "code",
   "execution_count": null,
   "metadata": {},
   "outputs": [],
   "source": [
    "pets = pd.read_csv('pets.csv')\n",
    "pets"
   ]
  },
  {
   "cell_type": "code",
   "execution_count": null,
   "metadata": {},
   "outputs": [],
   "source": [
    "pets_test = Test(pets, column='species', labels={'Animal', 'Pet'})\n",
    "pets_test"
   ]
  },
  {
   "cell_type": "code",
   "execution_count": null,
   "metadata": {},
   "outputs": [],
   "source": []
  }
 ],
 "metadata": {
  "kernelspec": {
   "display_name": "Python 3",
   "language": "python",
   "name": "python3"
  },
  "language_info": {
   "codemirror_mode": {
    "name": "ipython",
    "version": 3
   },
   "file_extension": ".py",
   "mimetype": "text/x-python",
   "name": "python",
   "nbconvert_exporter": "python",
   "pygments_lexer": "ipython3",
   "version": "3.7.4"
  }
 },
 "nbformat": 4,
 "nbformat_minor": 2
}
