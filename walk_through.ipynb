{
 "cells": [
  {
   "cell_type": "markdown",
   "metadata": {},
   "source": [
    "# NeonPandas Walk-Through\n",
    "\n",
    "<img src=\"src/logo.png\" width=\"200\" align=\"left\"/>"
   ]
  },
  {
   "cell_type": "code",
   "execution_count": 1,
   "metadata": {},
   "outputs": [],
   "source": [
    "import pandas as pd \n",
    "import neonpandas as npd"
   ]
  },
  {
   "cell_type": "markdown",
   "metadata": {},
   "source": [
    "## Create NodeFrame"
   ]
  },
  {
   "cell_type": "code",
   "execution_count": 2,
   "metadata": {},
   "outputs": [],
   "source": [
    "pets = pd.read_csv('datasets/pets.csv')"
   ]
  },
  {
   "cell_type": "code",
   "execution_count": 3,
   "metadata": {},
   "outputs": [
    {
     "data": {
      "text/html": [
       "<style  type=\"text/css\" >\n",
       "    #T_3146f330_d052_11ea_84b3_784f43755733row0_col0 {\n",
       "            \n",
       "                background-color:  #F6C768;\n",
       "            \n",
       "                /* border-radius:  50px */;\n",
       "            : ;\n",
       "        }    #T_3146f330_d052_11ea_84b3_784f43755733row1_col0 {\n",
       "            \n",
       "                background-color:  #5C8DD4;\n",
       "            \n",
       "                /* border-radius:  50px */;\n",
       "            : ;\n",
       "        }    #T_3146f330_d052_11ea_84b3_784f43755733row2_col0 {\n",
       "            \n",
       "                background-color:  #659281;\n",
       "            \n",
       "                /* border-radius:  50px */;\n",
       "            : ;\n",
       "        }    #T_3146f330_d052_11ea_84b3_784f43755733row3_col0 {\n",
       "            \n",
       "                background-color:  #E4B8C9;\n",
       "            \n",
       "                /* border-radius:  50px */;\n",
       "            : ;\n",
       "        }    #T_3146f330_d052_11ea_84b3_784f43755733row4_col0 {\n",
       "            \n",
       "                background-color:  #CD7694;\n",
       "            \n",
       "                /* border-radius:  50px */;\n",
       "            : ;\n",
       "        }</style><table id=\"T_3146f330_d052_11ea_84b3_784f43755733\" ><caption>NodeFrame</caption><thead>    <tr>        <th class=\"blank level0\" ></th>        <th class=\"col_heading level0 col0\" >labels</th>        <th class=\"col_heading level0 col1\" >name</th>        <th class=\"col_heading level0 col2\" >color</th>        <th class=\"col_heading level0 col3\" >age</th>        <th class=\"col_heading level0 col4\" >behavior</th>    </tr></thead><tbody>\n",
       "                <tr>\n",
       "                        <th id=\"T_3146f330_d052_11ea_84b3_784f43755733level0_row0\" class=\"row_heading level0 row0\" >0</th>\n",
       "                        <td id=\"T_3146f330_d052_11ea_84b3_784f43755733row0_col0\" class=\"data row0 col0\" >{'Dog', 'Pet'}</td>\n",
       "                        <td id=\"T_3146f330_d052_11ea_84b3_784f43755733row0_col1\" class=\"data row0 col1\" >Ralph</td>\n",
       "                        <td id=\"T_3146f330_d052_11ea_84b3_784f43755733row0_col2\" class=\"data row0 col2\" >black</td>\n",
       "                        <td id=\"T_3146f330_d052_11ea_84b3_784f43755733row0_col3\" class=\"data row0 col3\" >10</td>\n",
       "                        <td id=\"T_3146f330_d052_11ea_84b3_784f43755733row0_col4\" class=\"data row0 col4\" >nan</td>\n",
       "            </tr>\n",
       "            <tr>\n",
       "                        <th id=\"T_3146f330_d052_11ea_84b3_784f43755733level0_row1\" class=\"row_heading level0 row1\" >1</th>\n",
       "                        <td id=\"T_3146f330_d052_11ea_84b3_784f43755733row1_col0\" class=\"data row1 col0\" >{'Cat', 'Pet'}</td>\n",
       "                        <td id=\"T_3146f330_d052_11ea_84b3_784f43755733row1_col1\" class=\"data row1 col1\" >Pip</td>\n",
       "                        <td id=\"T_3146f330_d052_11ea_84b3_784f43755733row1_col2\" class=\"data row1 col2\" >yellow</td>\n",
       "                        <td id=\"T_3146f330_d052_11ea_84b3_784f43755733row1_col3\" class=\"data row1 col3\" >6</td>\n",
       "                        <td id=\"T_3146f330_d052_11ea_84b3_784f43755733row1_col4\" class=\"data row1 col4\" >good</td>\n",
       "            </tr>\n",
       "            <tr>\n",
       "                        <th id=\"T_3146f330_d052_11ea_84b3_784f43755733level0_row2\" class=\"row_heading level0 row2\" >2</th>\n",
       "                        <td id=\"T_3146f330_d052_11ea_84b3_784f43755733row2_col0\" class=\"data row2 col0\" >{'Pig', 'Pet'}</td>\n",
       "                        <td id=\"T_3146f330_d052_11ea_84b3_784f43755733row2_col1\" class=\"data row2 col1\" >Babe</td>\n",
       "                        <td id=\"T_3146f330_d052_11ea_84b3_784f43755733row2_col2\" class=\"data row2 col2\" >nan</td>\n",
       "                        <td id=\"T_3146f330_d052_11ea_84b3_784f43755733row2_col3\" class=\"data row2 col3\" >3</td>\n",
       "                        <td id=\"T_3146f330_d052_11ea_84b3_784f43755733row2_col4\" class=\"data row2 col4\" >nan</td>\n",
       "            </tr>\n",
       "            <tr>\n",
       "                        <th id=\"T_3146f330_d052_11ea_84b3_784f43755733level0_row3\" class=\"row_heading level0 row3\" >3</th>\n",
       "                        <td id=\"T_3146f330_d052_11ea_84b3_784f43755733row3_col0\" class=\"data row3 col0\" >{'Fish', 'Pet'}</td>\n",
       "                        <td id=\"T_3146f330_d052_11ea_84b3_784f43755733row3_col1\" class=\"data row3 col1\" >Bubbles</td>\n",
       "                        <td id=\"T_3146f330_d052_11ea_84b3_784f43755733row3_col2\" class=\"data row3 col2\" >red</td>\n",
       "                        <td id=\"T_3146f330_d052_11ea_84b3_784f43755733row3_col3\" class=\"data row3 col3\" >nan</td>\n",
       "                        <td id=\"T_3146f330_d052_11ea_84b3_784f43755733row3_col4\" class=\"data row3 col4\" >acceptable</td>\n",
       "            </tr>\n",
       "            <tr>\n",
       "                        <th id=\"T_3146f330_d052_11ea_84b3_784f43755733level0_row4\" class=\"row_heading level0 row4\" >4</th>\n",
       "                        <td id=\"T_3146f330_d052_11ea_84b3_784f43755733row4_col0\" class=\"data row4 col0\" >{'Horse', 'Pet'}</td>\n",
       "                        <td id=\"T_3146f330_d052_11ea_84b3_784f43755733row4_col1\" class=\"data row4 col1\" >Freckles</td>\n",
       "                        <td id=\"T_3146f330_d052_11ea_84b3_784f43755733row4_col2\" class=\"data row4 col2\" >brown</td>\n",
       "                        <td id=\"T_3146f330_d052_11ea_84b3_784f43755733row4_col3\" class=\"data row4 col3\" >nan</td>\n",
       "                        <td id=\"T_3146f330_d052_11ea_84b3_784f43755733row4_col4\" class=\"data row4 col4\" >nan</td>\n",
       "            </tr>\n",
       "    </tbody></table>"
      ],
      "text/plain": [
       "<pandas.io.formats.style.Styler at 0x7fc01eebf590>"
      ]
     },
     "execution_count": 3,
     "metadata": {},
     "output_type": "execute_result"
    }
   ],
   "source": [
    "## can convert existing dataframe or any input data that Pandas DataFrame can accept\n",
    "nodes = npd.NodeFrame(pets, id_col='name', labels={'Pet'}, lbl_col='species')\n",
    "nodes.show()"
   ]
  },
  {
   "cell_type": "markdown",
   "metadata": {},
   "source": [
    "## Create EdgeFrame"
   ]
  },
  {
   "cell_type": "code",
   "execution_count": 4,
   "metadata": {},
   "outputs": [],
   "source": [
    "data = pd.read_csv('datasets/edges.csv')"
   ]
  },
  {
   "cell_type": "code",
   "execution_count": 5,
   "metadata": {
    "scrolled": false
   },
   "outputs": [
    {
     "data": {
      "text/html": [
       "<style  type=\"text/css\" >\n",
       "    #T_36c946d2_d052_11ea_84b3_784f43755733row0_col0 {\n",
       "            \n",
       "                background-color:  #A4AAB5;\n",
       "            \n",
       "                border-style:  solid;\n",
       "            \n",
       "                border-color:  black;\n",
       "            \n",
       "                border-width:  1px;\n",
       "            : ;\n",
       "        }    #T_36c946d2_d052_11ea_84b3_784f43755733row1_col0 {\n",
       "            \n",
       "                background-color:  #A4AAB5;\n",
       "            \n",
       "                border-style:  solid;\n",
       "            \n",
       "                border-color:  black;\n",
       "            \n",
       "                border-width:  1px;\n",
       "            : ;\n",
       "        }    #T_36c946d2_d052_11ea_84b3_784f43755733row2_col0 {\n",
       "            \n",
       "                background-color:  #A4AAB5;\n",
       "            \n",
       "                border-style:  solid;\n",
       "            \n",
       "                border-color:  black;\n",
       "            \n",
       "                border-width:  1px;\n",
       "            : ;\n",
       "        }    #T_36c946d2_d052_11ea_84b3_784f43755733row3_col0 {\n",
       "            \n",
       "                background-color:  #A4AAB5;\n",
       "            \n",
       "                border-style:  solid;\n",
       "            \n",
       "                border-color:  black;\n",
       "            \n",
       "                border-width:  1px;\n",
       "            : ;\n",
       "        }    #T_36c946d2_d052_11ea_84b3_784f43755733row4_col0 {\n",
       "            \n",
       "                background-color:  #A4AAB5;\n",
       "            \n",
       "                border-style:  solid;\n",
       "            \n",
       "                border-color:  black;\n",
       "            \n",
       "                border-width:  1px;\n",
       "            : ;\n",
       "        }</style><table id=\"T_36c946d2_d052_11ea_84b3_784f43755733\" ><caption>EdgeFrame</caption><thead>    <tr>        <th class=\"blank level0\" ></th>        <th class=\"col_heading level0 col0\" >rel_type</th>        <th class=\"col_heading level0 col1\" >src</th>        <th class=\"col_heading level0 col2\" >dest</th>        <th class=\"col_heading level0 col3\" >reporter</th>        <th class=\"col_heading level0 col4\" >length</th>    </tr></thead><tbody>\n",
       "                <tr>\n",
       "                        <th id=\"T_36c946d2_d052_11ea_84b3_784f43755733level0_row0\" class=\"row_heading level0 row0\" >0</th>\n",
       "                        <td id=\"T_36c946d2_d052_11ea_84b3_784f43755733row0_col0\" class=\"data row0 col0\" >FRIENDLY_WITH</td>\n",
       "                        <td id=\"T_36c946d2_d052_11ea_84b3_784f43755733row0_col1\" class=\"data row0 col1\" >(s:Pet {name: \"Ralph\"})</td>\n",
       "                        <td id=\"T_36c946d2_d052_11ea_84b3_784f43755733row0_col2\" class=\"data row0 col2\" >(d:Pet {name: \"Bubbles\"})</td>\n",
       "                        <td id=\"T_36c946d2_d052_11ea_84b3_784f43755733row0_col3\" class=\"data row0 col3\" >Jenny</td>\n",
       "                        <td id=\"T_36c946d2_d052_11ea_84b3_784f43755733row0_col4\" class=\"data row0 col4\" >2 years</td>\n",
       "            </tr>\n",
       "            <tr>\n",
       "                        <th id=\"T_36c946d2_d052_11ea_84b3_784f43755733level0_row1\" class=\"row_heading level0 row1\" >1</th>\n",
       "                        <td id=\"T_36c946d2_d052_11ea_84b3_784f43755733row1_col0\" class=\"data row1 col0\" >MEAN_TO</td>\n",
       "                        <td id=\"T_36c946d2_d052_11ea_84b3_784f43755733row1_col1\" class=\"data row1 col1\" >(s:Pet {name: \"Pip\"})</td>\n",
       "                        <td id=\"T_36c946d2_d052_11ea_84b3_784f43755733row1_col2\" class=\"data row1 col2\" >(d:Pet {name: \"Babe\"})</td>\n",
       "                        <td id=\"T_36c946d2_d052_11ea_84b3_784f43755733row1_col3\" class=\"data row1 col3\" >Frank</td>\n",
       "                        <td id=\"T_36c946d2_d052_11ea_84b3_784f43755733row1_col4\" class=\"data row1 col4\" >1 month</td>\n",
       "            </tr>\n",
       "            <tr>\n",
       "                        <th id=\"T_36c946d2_d052_11ea_84b3_784f43755733level0_row2\" class=\"row_heading level0 row2\" >2</th>\n",
       "                        <td id=\"T_36c946d2_d052_11ea_84b3_784f43755733row2_col0\" class=\"data row2 col0\" >MEAN_TO</td>\n",
       "                        <td id=\"T_36c946d2_d052_11ea_84b3_784f43755733row2_col1\" class=\"data row2 col1\" >(s:Pet {name: \"Ralph\"})</td>\n",
       "                        <td id=\"T_36c946d2_d052_11ea_84b3_784f43755733row2_col2\" class=\"data row2 col2\" >(d:Pet {name: \"Freckles\"})</td>\n",
       "                        <td id=\"T_36c946d2_d052_11ea_84b3_784f43755733row2_col3\" class=\"data row2 col3\" >Frank</td>\n",
       "                        <td id=\"T_36c946d2_d052_11ea_84b3_784f43755733row2_col4\" class=\"data row2 col4\" >1 day</td>\n",
       "            </tr>\n",
       "            <tr>\n",
       "                        <th id=\"T_36c946d2_d052_11ea_84b3_784f43755733level0_row3\" class=\"row_heading level0 row3\" >3</th>\n",
       "                        <td id=\"T_36c946d2_d052_11ea_84b3_784f43755733row3_col0\" class=\"data row3 col0\" >FRIENDLY_WITH</td>\n",
       "                        <td id=\"T_36c946d2_d052_11ea_84b3_784f43755733row3_col1\" class=\"data row3 col1\" >(s:Pet {name: \"Freckles\"})</td>\n",
       "                        <td id=\"T_36c946d2_d052_11ea_84b3_784f43755733row3_col2\" class=\"data row3 col2\" >(d:Pet {name: \"Babe\"})</td>\n",
       "                        <td id=\"T_36c946d2_d052_11ea_84b3_784f43755733row3_col3\" class=\"data row3 col3\" >Tommy</td>\n",
       "                        <td id=\"T_36c946d2_d052_11ea_84b3_784f43755733row3_col4\" class=\"data row3 col4\" >10 months</td>\n",
       "            </tr>\n",
       "            <tr>\n",
       "                        <th id=\"T_36c946d2_d052_11ea_84b3_784f43755733level0_row4\" class=\"row_heading level0 row4\" >4</th>\n",
       "                        <td id=\"T_36c946d2_d052_11ea_84b3_784f43755733row4_col0\" class=\"data row4 col0\" >JUST_MET</td>\n",
       "                        <td id=\"T_36c946d2_d052_11ea_84b3_784f43755733row4_col1\" class=\"data row4 col1\" >(s:Pet {name: \"Pip\"})</td>\n",
       "                        <td id=\"T_36c946d2_d052_11ea_84b3_784f43755733row4_col2\" class=\"data row4 col2\" >(d:Pet {name: \"Barney\"})</td>\n",
       "                        <td id=\"T_36c946d2_d052_11ea_84b3_784f43755733row4_col3\" class=\"data row4 col3\" >Jenny</td>\n",
       "                        <td id=\"T_36c946d2_d052_11ea_84b3_784f43755733row4_col4\" class=\"data row4 col4\" >nan</td>\n",
       "            </tr>\n",
       "    </tbody></table>"
      ],
      "text/plain": [
       "<pandas.io.formats.style.Styler at 0x7fc024111450>"
      ]
     },
     "execution_count": 5,
     "metadata": {},
     "output_type": "execute_result"
    }
   ],
   "source": [
    "edges = npd.EdgeFrame(data, rel_col='rel_type', \n",
    "                      src_col='src', dest_col='dest', \n",
    "                      src_id='name', dest_id='name',\n",
    "                      labels={'Pet'})\n",
    "edges.show()"
   ]
  },
  {
   "cell_type": "markdown",
   "metadata": {},
   "source": [
    "## Add Nodes & Edges to Graph"
   ]
  },
  {
   "cell_type": "code",
   "execution_count": 6,
   "metadata": {},
   "outputs": [],
   "source": [
    "graph = npd.Graph(uri='bolt://localhost:7687', auth=('neo4j', 'neonpandas'))"
   ]
  },
  {
   "cell_type": "code",
   "execution_count": null,
   "metadata": {},
   "outputs": [],
   "source": [
    "## add nodes to graph\n",
    "graph.create_nodes(nodes)"
   ]
  },
  {
   "cell_type": "code",
   "execution_count": null,
   "metadata": {},
   "outputs": [],
   "source": [
    "## add edges to graph\n",
    "graph.create_edges(edges)"
   ]
  },
  {
   "cell_type": "markdown",
   "metadata": {},
   "source": [
    "## Neo4j Bolt Output\n",
    "![](src/bolt_vis.png)"
   ]
  },
  {
   "cell_type": "markdown",
   "metadata": {},
   "source": [
    "## Matching"
   ]
  },
  {
   "cell_type": "code",
   "execution_count": 7,
   "metadata": {},
   "outputs": [
    {
     "data": {
      "text/html": [
       "<style  type=\"text/css\" >\n",
       "    #T_9d350622_d052_11ea_84b3_784f43755733row0_col0 {\n",
       "            \n",
       "                background-color:  #F6C768;\n",
       "            \n",
       "                /* border-radius:  50px */;\n",
       "            : ;\n",
       "        }    #T_9d350622_d052_11ea_84b3_784f43755733row1_col0 {\n",
       "            \n",
       "                background-color:  #C990C0;\n",
       "            \n",
       "                /* border-radius:  50px */;\n",
       "            : ;\n",
       "        }    #T_9d350622_d052_11ea_84b3_784f43755733row2_col0 {\n",
       "            \n",
       "                background-color:  #5C8DD4;\n",
       "            \n",
       "                /* border-radius:  50px */;\n",
       "            : ;\n",
       "        }    #T_9d350622_d052_11ea_84b3_784f43755733row3_col0 {\n",
       "            \n",
       "                background-color:  #659281;\n",
       "            \n",
       "                /* border-radius:  50px */;\n",
       "            : ;\n",
       "        }    #T_9d350622_d052_11ea_84b3_784f43755733row4_col0 {\n",
       "            \n",
       "                background-color:  #E4B8C9;\n",
       "            \n",
       "                /* border-radius:  50px */;\n",
       "            : ;\n",
       "        }    #T_9d350622_d052_11ea_84b3_784f43755733row5_col0 {\n",
       "            \n",
       "                background-color:  #CD7694;\n",
       "            \n",
       "                /* border-radius:  50px */;\n",
       "            : ;\n",
       "        }</style><table id=\"T_9d350622_d052_11ea_84b3_784f43755733\" ><caption>NodeFrame</caption><thead>    <tr>        <th class=\"blank level0\" ></th>        <th class=\"col_heading level0 col0\" >labels</th>        <th class=\"col_heading level0 col1\" >color</th>        <th class=\"col_heading level0 col2\" >name</th>        <th class=\"col_heading level0 col3\" >behavior</th>        <th class=\"col_heading level0 col4\" >age</th>    </tr></thead><tbody>\n",
       "                <tr>\n",
       "                        <th id=\"T_9d350622_d052_11ea_84b3_784f43755733level0_row0\" class=\"row_heading level0 row0\" >0</th>\n",
       "                        <td id=\"T_9d350622_d052_11ea_84b3_784f43755733row0_col0\" class=\"data row0 col0\" >{'Fish', 'Pet'}</td>\n",
       "                        <td id=\"T_9d350622_d052_11ea_84b3_784f43755733row0_col1\" class=\"data row0 col1\" >red</td>\n",
       "                        <td id=\"T_9d350622_d052_11ea_84b3_784f43755733row0_col2\" class=\"data row0 col2\" >Bubbles</td>\n",
       "                        <td id=\"T_9d350622_d052_11ea_84b3_784f43755733row0_col3\" class=\"data row0 col3\" >acceptable</td>\n",
       "                        <td id=\"T_9d350622_d052_11ea_84b3_784f43755733row0_col4\" class=\"data row0 col4\" >nan</td>\n",
       "            </tr>\n",
       "            <tr>\n",
       "                        <th id=\"T_9d350622_d052_11ea_84b3_784f43755733level0_row1\" class=\"row_heading level0 row1\" >1</th>\n",
       "                        <td id=\"T_9d350622_d052_11ea_84b3_784f43755733row1_col0\" class=\"data row1 col0\" >{'Pet'}</td>\n",
       "                        <td id=\"T_9d350622_d052_11ea_84b3_784f43755733row1_col1\" class=\"data row1 col1\" >nan</td>\n",
       "                        <td id=\"T_9d350622_d052_11ea_84b3_784f43755733row1_col2\" class=\"data row1 col2\" >Barney</td>\n",
       "                        <td id=\"T_9d350622_d052_11ea_84b3_784f43755733row1_col3\" class=\"data row1 col3\" >nan</td>\n",
       "                        <td id=\"T_9d350622_d052_11ea_84b3_784f43755733row1_col4\" class=\"data row1 col4\" >nan</td>\n",
       "            </tr>\n",
       "            <tr>\n",
       "                        <th id=\"T_9d350622_d052_11ea_84b3_784f43755733level0_row2\" class=\"row_heading level0 row2\" >2</th>\n",
       "                        <td id=\"T_9d350622_d052_11ea_84b3_784f43755733row2_col0\" class=\"data row2 col0\" >{'Dog', 'Pet'}</td>\n",
       "                        <td id=\"T_9d350622_d052_11ea_84b3_784f43755733row2_col1\" class=\"data row2 col1\" >black</td>\n",
       "                        <td id=\"T_9d350622_d052_11ea_84b3_784f43755733row2_col2\" class=\"data row2 col2\" >Ralph</td>\n",
       "                        <td id=\"T_9d350622_d052_11ea_84b3_784f43755733row2_col3\" class=\"data row2 col3\" >nan</td>\n",
       "                        <td id=\"T_9d350622_d052_11ea_84b3_784f43755733row2_col4\" class=\"data row2 col4\" >10</td>\n",
       "            </tr>\n",
       "            <tr>\n",
       "                        <th id=\"T_9d350622_d052_11ea_84b3_784f43755733level0_row3\" class=\"row_heading level0 row3\" >3</th>\n",
       "                        <td id=\"T_9d350622_d052_11ea_84b3_784f43755733row3_col0\" class=\"data row3 col0\" >{'Cat', 'Pet'}</td>\n",
       "                        <td id=\"T_9d350622_d052_11ea_84b3_784f43755733row3_col1\" class=\"data row3 col1\" >yellow</td>\n",
       "                        <td id=\"T_9d350622_d052_11ea_84b3_784f43755733row3_col2\" class=\"data row3 col2\" >Pip</td>\n",
       "                        <td id=\"T_9d350622_d052_11ea_84b3_784f43755733row3_col3\" class=\"data row3 col3\" >good</td>\n",
       "                        <td id=\"T_9d350622_d052_11ea_84b3_784f43755733row3_col4\" class=\"data row3 col4\" >6</td>\n",
       "            </tr>\n",
       "            <tr>\n",
       "                        <th id=\"T_9d350622_d052_11ea_84b3_784f43755733level0_row4\" class=\"row_heading level0 row4\" >4</th>\n",
       "                        <td id=\"T_9d350622_d052_11ea_84b3_784f43755733row4_col0\" class=\"data row4 col0\" >{'Pig', 'Pet'}</td>\n",
       "                        <td id=\"T_9d350622_d052_11ea_84b3_784f43755733row4_col1\" class=\"data row4 col1\" >nan</td>\n",
       "                        <td id=\"T_9d350622_d052_11ea_84b3_784f43755733row4_col2\" class=\"data row4 col2\" >Babe</td>\n",
       "                        <td id=\"T_9d350622_d052_11ea_84b3_784f43755733row4_col3\" class=\"data row4 col3\" >nan</td>\n",
       "                        <td id=\"T_9d350622_d052_11ea_84b3_784f43755733row4_col4\" class=\"data row4 col4\" >3</td>\n",
       "            </tr>\n",
       "            <tr>\n",
       "                        <th id=\"T_9d350622_d052_11ea_84b3_784f43755733level0_row5\" class=\"row_heading level0 row5\" >5</th>\n",
       "                        <td id=\"T_9d350622_d052_11ea_84b3_784f43755733row5_col0\" class=\"data row5 col0\" >{'Horse', 'Pet'}</td>\n",
       "                        <td id=\"T_9d350622_d052_11ea_84b3_784f43755733row5_col1\" class=\"data row5 col1\" >brown</td>\n",
       "                        <td id=\"T_9d350622_d052_11ea_84b3_784f43755733row5_col2\" class=\"data row5 col2\" >Freckles</td>\n",
       "                        <td id=\"T_9d350622_d052_11ea_84b3_784f43755733row5_col3\" class=\"data row5 col3\" >nan</td>\n",
       "                        <td id=\"T_9d350622_d052_11ea_84b3_784f43755733row5_col4\" class=\"data row5 col4\" >nan</td>\n",
       "            </tr>\n",
       "    </tbody></table>"
      ],
      "text/plain": [
       "<pandas.io.formats.style.Styler at 0x7fc024182550>"
      ]
     },
     "execution_count": 7,
     "metadata": {},
     "output_type": "execute_result"
    }
   ],
   "source": [
    "all_my_pets = graph.match_nodes(labels={'Pet'}, id_col='name')\n",
    "all_my_pets.show()"
   ]
  },
  {
   "cell_type": "code",
   "execution_count": 8,
   "metadata": {},
   "outputs": [
    {
     "data": {
      "text/html": [
       "<style  type=\"text/css\" >\n",
       "    #T_9e89459c_d052_11ea_84b3_784f43755733row0_col0 {\n",
       "            \n",
       "                background-color:  #F6C768;\n",
       "            \n",
       "                /* border-radius:  50px */;\n",
       "            : ;\n",
       "        }</style><table id=\"T_9e89459c_d052_11ea_84b3_784f43755733\" ><caption>NodeFrame</caption><thead>    <tr>        <th class=\"blank level0\" ></th>        <th class=\"col_heading level0 col0\" >labels</th>        <th class=\"col_heading level0 col1\" >color</th>        <th class=\"col_heading level0 col2\" >name</th>        <th class=\"col_heading level0 col3\" >age</th>    </tr></thead><tbody>\n",
       "                <tr>\n",
       "                        <th id=\"T_9e89459c_d052_11ea_84b3_784f43755733level0_row0\" class=\"row_heading level0 row0\" >0</th>\n",
       "                        <td id=\"T_9e89459c_d052_11ea_84b3_784f43755733row0_col0\" class=\"data row0 col0\" >{'Dog', 'Pet'}</td>\n",
       "                        <td id=\"T_9e89459c_d052_11ea_84b3_784f43755733row0_col1\" class=\"data row0 col1\" >black</td>\n",
       "                        <td id=\"T_9e89459c_d052_11ea_84b3_784f43755733row0_col2\" class=\"data row0 col2\" >Ralph</td>\n",
       "                        <td id=\"T_9e89459c_d052_11ea_84b3_784f43755733row0_col3\" class=\"data row0 col3\" >10</td>\n",
       "            </tr>\n",
       "    </tbody></table>"
      ],
      "text/plain": [
       "<pandas.io.formats.style.Styler at 0x7fc024182750>"
      ]
     },
     "execution_count": 8,
     "metadata": {},
     "output_type": "execute_result"
    }
   ],
   "source": [
    "## add properties to search\n",
    "just_ralph = graph.match_nodes(labels={'Pet'}, properties={'name': 'Ralph'})\n",
    "just_ralph.show()"
   ]
  },
  {
   "cell_type": "markdown",
   "metadata": {},
   "source": [
    "## Joining\n",
    "Comparing data inside and outside of Neo4j."
   ]
  },
  {
   "cell_type": "code",
   "execution_count": 9,
   "metadata": {},
   "outputs": [],
   "source": [
    "new_pets = pd.DataFrame([\n",
    "    {'name': 'Betsy', 'age': 2, 'species': 'Cow'},\n",
    "    {'name': 'Carrie', 'species': 'Rabbit'}\n",
    "])\n",
    "all_pets = pd.concat([pets, new_pets], sort=False).reset_index(drop=True)"
   ]
  },
  {
   "cell_type": "code",
   "execution_count": 10,
   "metadata": {},
   "outputs": [
    {
     "data": {
      "text/html": [
       "<style  type=\"text/css\" >\n",
       "    #T_9ff3a0e4_d052_11ea_84b3_784f43755733row0_col0 {\n",
       "            \n",
       "                background-color:  #F6C768;\n",
       "            \n",
       "                /* border-radius:  50px */;\n",
       "            : ;\n",
       "        }    #T_9ff3a0e4_d052_11ea_84b3_784f43755733row1_col0 {\n",
       "            \n",
       "                background-color:  #5C8DD4;\n",
       "            \n",
       "                /* border-radius:  50px */;\n",
       "            : ;\n",
       "        }    #T_9ff3a0e4_d052_11ea_84b3_784f43755733row2_col0 {\n",
       "            \n",
       "                background-color:  #659281;\n",
       "            \n",
       "                /* border-radius:  50px */;\n",
       "            : ;\n",
       "        }    #T_9ff3a0e4_d052_11ea_84b3_784f43755733row3_col0 {\n",
       "            \n",
       "                background-color:  #E4B8C9;\n",
       "            \n",
       "                /* border-radius:  50px */;\n",
       "            : ;\n",
       "        }    #T_9ff3a0e4_d052_11ea_84b3_784f43755733row4_col0 {\n",
       "            \n",
       "                background-color:  #CD7694;\n",
       "            \n",
       "                /* border-radius:  50px */;\n",
       "            : ;\n",
       "        }    #T_9ff3a0e4_d052_11ea_84b3_784f43755733row5_col0 {\n",
       "            \n",
       "                background-color:  #C990C0;\n",
       "            \n",
       "                /* border-radius:  50px */;\n",
       "            : ;\n",
       "        }    #T_9ff3a0e4_d052_11ea_84b3_784f43755733row6_col0 {\n",
       "            \n",
       "                background-color:  #9BCB98;\n",
       "            \n",
       "                /* border-radius:  50px */;\n",
       "            : ;\n",
       "        }</style><table id=\"T_9ff3a0e4_d052_11ea_84b3_784f43755733\" ><caption>NodeFrame</caption><thead>    <tr>        <th class=\"blank level0\" ></th>        <th class=\"col_heading level0 col0\" >labels</th>        <th class=\"col_heading level0 col1\" >name</th>        <th class=\"col_heading level0 col2\" >color</th>        <th class=\"col_heading level0 col3\" >age</th>        <th class=\"col_heading level0 col4\" >behavior</th>    </tr></thead><tbody>\n",
       "                <tr>\n",
       "                        <th id=\"T_9ff3a0e4_d052_11ea_84b3_784f43755733level0_row0\" class=\"row_heading level0 row0\" >0</th>\n",
       "                        <td id=\"T_9ff3a0e4_d052_11ea_84b3_784f43755733row0_col0\" class=\"data row0 col0\" >{'Dog', 'Pet'}</td>\n",
       "                        <td id=\"T_9ff3a0e4_d052_11ea_84b3_784f43755733row0_col1\" class=\"data row0 col1\" >Ralph</td>\n",
       "                        <td id=\"T_9ff3a0e4_d052_11ea_84b3_784f43755733row0_col2\" class=\"data row0 col2\" >black</td>\n",
       "                        <td id=\"T_9ff3a0e4_d052_11ea_84b3_784f43755733row0_col3\" class=\"data row0 col3\" >10</td>\n",
       "                        <td id=\"T_9ff3a0e4_d052_11ea_84b3_784f43755733row0_col4\" class=\"data row0 col4\" >nan</td>\n",
       "            </tr>\n",
       "            <tr>\n",
       "                        <th id=\"T_9ff3a0e4_d052_11ea_84b3_784f43755733level0_row1\" class=\"row_heading level0 row1\" >1</th>\n",
       "                        <td id=\"T_9ff3a0e4_d052_11ea_84b3_784f43755733row1_col0\" class=\"data row1 col0\" >{'Cat', 'Pet'}</td>\n",
       "                        <td id=\"T_9ff3a0e4_d052_11ea_84b3_784f43755733row1_col1\" class=\"data row1 col1\" >Pip</td>\n",
       "                        <td id=\"T_9ff3a0e4_d052_11ea_84b3_784f43755733row1_col2\" class=\"data row1 col2\" >yellow</td>\n",
       "                        <td id=\"T_9ff3a0e4_d052_11ea_84b3_784f43755733row1_col3\" class=\"data row1 col3\" >6</td>\n",
       "                        <td id=\"T_9ff3a0e4_d052_11ea_84b3_784f43755733row1_col4\" class=\"data row1 col4\" >good</td>\n",
       "            </tr>\n",
       "            <tr>\n",
       "                        <th id=\"T_9ff3a0e4_d052_11ea_84b3_784f43755733level0_row2\" class=\"row_heading level0 row2\" >2</th>\n",
       "                        <td id=\"T_9ff3a0e4_d052_11ea_84b3_784f43755733row2_col0\" class=\"data row2 col0\" >{'Pig', 'Pet'}</td>\n",
       "                        <td id=\"T_9ff3a0e4_d052_11ea_84b3_784f43755733row2_col1\" class=\"data row2 col1\" >Babe</td>\n",
       "                        <td id=\"T_9ff3a0e4_d052_11ea_84b3_784f43755733row2_col2\" class=\"data row2 col2\" >nan</td>\n",
       "                        <td id=\"T_9ff3a0e4_d052_11ea_84b3_784f43755733row2_col3\" class=\"data row2 col3\" >3</td>\n",
       "                        <td id=\"T_9ff3a0e4_d052_11ea_84b3_784f43755733row2_col4\" class=\"data row2 col4\" >nan</td>\n",
       "            </tr>\n",
       "            <tr>\n",
       "                        <th id=\"T_9ff3a0e4_d052_11ea_84b3_784f43755733level0_row3\" class=\"row_heading level0 row3\" >3</th>\n",
       "                        <td id=\"T_9ff3a0e4_d052_11ea_84b3_784f43755733row3_col0\" class=\"data row3 col0\" >{'Fish', 'Pet'}</td>\n",
       "                        <td id=\"T_9ff3a0e4_d052_11ea_84b3_784f43755733row3_col1\" class=\"data row3 col1\" >Bubbles</td>\n",
       "                        <td id=\"T_9ff3a0e4_d052_11ea_84b3_784f43755733row3_col2\" class=\"data row3 col2\" >red</td>\n",
       "                        <td id=\"T_9ff3a0e4_d052_11ea_84b3_784f43755733row3_col3\" class=\"data row3 col3\" >nan</td>\n",
       "                        <td id=\"T_9ff3a0e4_d052_11ea_84b3_784f43755733row3_col4\" class=\"data row3 col4\" >acceptable</td>\n",
       "            </tr>\n",
       "            <tr>\n",
       "                        <th id=\"T_9ff3a0e4_d052_11ea_84b3_784f43755733level0_row4\" class=\"row_heading level0 row4\" >4</th>\n",
       "                        <td id=\"T_9ff3a0e4_d052_11ea_84b3_784f43755733row4_col0\" class=\"data row4 col0\" >{'Horse', 'Pet'}</td>\n",
       "                        <td id=\"T_9ff3a0e4_d052_11ea_84b3_784f43755733row4_col1\" class=\"data row4 col1\" >Freckles</td>\n",
       "                        <td id=\"T_9ff3a0e4_d052_11ea_84b3_784f43755733row4_col2\" class=\"data row4 col2\" >brown</td>\n",
       "                        <td id=\"T_9ff3a0e4_d052_11ea_84b3_784f43755733row4_col3\" class=\"data row4 col3\" >nan</td>\n",
       "                        <td id=\"T_9ff3a0e4_d052_11ea_84b3_784f43755733row4_col4\" class=\"data row4 col4\" >nan</td>\n",
       "            </tr>\n",
       "            <tr>\n",
       "                        <th id=\"T_9ff3a0e4_d052_11ea_84b3_784f43755733level0_row5\" class=\"row_heading level0 row5\" >5</th>\n",
       "                        <td id=\"T_9ff3a0e4_d052_11ea_84b3_784f43755733row5_col0\" class=\"data row5 col0\" >{'Cow', 'Pet'}</td>\n",
       "                        <td id=\"T_9ff3a0e4_d052_11ea_84b3_784f43755733row5_col1\" class=\"data row5 col1\" >Betsy</td>\n",
       "                        <td id=\"T_9ff3a0e4_d052_11ea_84b3_784f43755733row5_col2\" class=\"data row5 col2\" >nan</td>\n",
       "                        <td id=\"T_9ff3a0e4_d052_11ea_84b3_784f43755733row5_col3\" class=\"data row5 col3\" >2</td>\n",
       "                        <td id=\"T_9ff3a0e4_d052_11ea_84b3_784f43755733row5_col4\" class=\"data row5 col4\" >nan</td>\n",
       "            </tr>\n",
       "            <tr>\n",
       "                        <th id=\"T_9ff3a0e4_d052_11ea_84b3_784f43755733level0_row6\" class=\"row_heading level0 row6\" >6</th>\n",
       "                        <td id=\"T_9ff3a0e4_d052_11ea_84b3_784f43755733row6_col0\" class=\"data row6 col0\" >{'Rabbit', 'Pet'}</td>\n",
       "                        <td id=\"T_9ff3a0e4_d052_11ea_84b3_784f43755733row6_col1\" class=\"data row6 col1\" >Carrie</td>\n",
       "                        <td id=\"T_9ff3a0e4_d052_11ea_84b3_784f43755733row6_col2\" class=\"data row6 col2\" >nan</td>\n",
       "                        <td id=\"T_9ff3a0e4_d052_11ea_84b3_784f43755733row6_col3\" class=\"data row6 col3\" >nan</td>\n",
       "                        <td id=\"T_9ff3a0e4_d052_11ea_84b3_784f43755733row6_col4\" class=\"data row6 col4\" >nan</td>\n",
       "            </tr>\n",
       "    </tbody></table>"
      ],
      "text/plain": [
       "<pandas.io.formats.style.Styler at 0x7fc0240d14d0>"
      ]
     },
     "execution_count": 10,
     "metadata": {},
     "output_type": "execute_result"
    }
   ],
   "source": [
    "# convert to nodeframe\n",
    "all_pets = npd.NodeFrame(all_pets, id_col='name', lbl_col='species', labels={'Pet'})\n",
    "all_pets.show()"
   ]
  },
  {
   "cell_type": "markdown",
   "metadata": {},
   "source": [
    "### Semi-Join"
   ]
  },
  {
   "cell_type": "code",
   "execution_count": 11,
   "metadata": {},
   "outputs": [
    {
     "data": {
      "text/html": [
       "<style  type=\"text/css\" >\n",
       "    #T_a1481952_d052_11ea_84b3_784f43755733row0_col0 {\n",
       "            \n",
       "                background-color:  #F6C768;\n",
       "            \n",
       "                /* border-radius:  50px */;\n",
       "            : ;\n",
       "        }    #T_a1481952_d052_11ea_84b3_784f43755733row1_col0 {\n",
       "            \n",
       "                background-color:  #5C8DD4;\n",
       "            \n",
       "                /* border-radius:  50px */;\n",
       "            : ;\n",
       "        }    #T_a1481952_d052_11ea_84b3_784f43755733row2_col0 {\n",
       "            \n",
       "                background-color:  #659281;\n",
       "            \n",
       "                /* border-radius:  50px */;\n",
       "            : ;\n",
       "        }    #T_a1481952_d052_11ea_84b3_784f43755733row3_col0 {\n",
       "            \n",
       "                background-color:  #E4B8C9;\n",
       "            \n",
       "                /* border-radius:  50px */;\n",
       "            : ;\n",
       "        }    #T_a1481952_d052_11ea_84b3_784f43755733row4_col0 {\n",
       "            \n",
       "                background-color:  #CD7694;\n",
       "            \n",
       "                /* border-radius:  50px */;\n",
       "            : ;\n",
       "        }</style><table id=\"T_a1481952_d052_11ea_84b3_784f43755733\" ><caption>NodeFrame</caption><thead>    <tr>        <th class=\"blank level0\" ></th>        <th class=\"col_heading level0 col0\" >labels</th>        <th class=\"col_heading level0 col1\" >color</th>        <th class=\"col_heading level0 col2\" >name</th>        <th class=\"col_heading level0 col3\" >age</th>        <th class=\"col_heading level0 col4\" >behavior</th>    </tr></thead><tbody>\n",
       "                <tr>\n",
       "                        <th id=\"T_a1481952_d052_11ea_84b3_784f43755733level0_row0\" class=\"row_heading level0 row0\" >0</th>\n",
       "                        <td id=\"T_a1481952_d052_11ea_84b3_784f43755733row0_col0\" class=\"data row0 col0\" >{'Dog', 'Pet'}</td>\n",
       "                        <td id=\"T_a1481952_d052_11ea_84b3_784f43755733row0_col1\" class=\"data row0 col1\" >black</td>\n",
       "                        <td id=\"T_a1481952_d052_11ea_84b3_784f43755733row0_col2\" class=\"data row0 col2\" >Ralph</td>\n",
       "                        <td id=\"T_a1481952_d052_11ea_84b3_784f43755733row0_col3\" class=\"data row0 col3\" >10</td>\n",
       "                        <td id=\"T_a1481952_d052_11ea_84b3_784f43755733row0_col4\" class=\"data row0 col4\" >nan</td>\n",
       "            </tr>\n",
       "            <tr>\n",
       "                        <th id=\"T_a1481952_d052_11ea_84b3_784f43755733level0_row1\" class=\"row_heading level0 row1\" >1</th>\n",
       "                        <td id=\"T_a1481952_d052_11ea_84b3_784f43755733row1_col0\" class=\"data row1 col0\" >{'Cat', 'Pet'}</td>\n",
       "                        <td id=\"T_a1481952_d052_11ea_84b3_784f43755733row1_col1\" class=\"data row1 col1\" >yellow</td>\n",
       "                        <td id=\"T_a1481952_d052_11ea_84b3_784f43755733row1_col2\" class=\"data row1 col2\" >Pip</td>\n",
       "                        <td id=\"T_a1481952_d052_11ea_84b3_784f43755733row1_col3\" class=\"data row1 col3\" >6</td>\n",
       "                        <td id=\"T_a1481952_d052_11ea_84b3_784f43755733row1_col4\" class=\"data row1 col4\" >good</td>\n",
       "            </tr>\n",
       "            <tr>\n",
       "                        <th id=\"T_a1481952_d052_11ea_84b3_784f43755733level0_row2\" class=\"row_heading level0 row2\" >2</th>\n",
       "                        <td id=\"T_a1481952_d052_11ea_84b3_784f43755733row2_col0\" class=\"data row2 col0\" >{'Pig', 'Pet'}</td>\n",
       "                        <td id=\"T_a1481952_d052_11ea_84b3_784f43755733row2_col1\" class=\"data row2 col1\" >nan</td>\n",
       "                        <td id=\"T_a1481952_d052_11ea_84b3_784f43755733row2_col2\" class=\"data row2 col2\" >Babe</td>\n",
       "                        <td id=\"T_a1481952_d052_11ea_84b3_784f43755733row2_col3\" class=\"data row2 col3\" >3</td>\n",
       "                        <td id=\"T_a1481952_d052_11ea_84b3_784f43755733row2_col4\" class=\"data row2 col4\" >nan</td>\n",
       "            </tr>\n",
       "            <tr>\n",
       "                        <th id=\"T_a1481952_d052_11ea_84b3_784f43755733level0_row3\" class=\"row_heading level0 row3\" >3</th>\n",
       "                        <td id=\"T_a1481952_d052_11ea_84b3_784f43755733row3_col0\" class=\"data row3 col0\" >{'Fish', 'Pet'}</td>\n",
       "                        <td id=\"T_a1481952_d052_11ea_84b3_784f43755733row3_col1\" class=\"data row3 col1\" >red</td>\n",
       "                        <td id=\"T_a1481952_d052_11ea_84b3_784f43755733row3_col2\" class=\"data row3 col2\" >Bubbles</td>\n",
       "                        <td id=\"T_a1481952_d052_11ea_84b3_784f43755733row3_col3\" class=\"data row3 col3\" >nan</td>\n",
       "                        <td id=\"T_a1481952_d052_11ea_84b3_784f43755733row3_col4\" class=\"data row3 col4\" >acceptable</td>\n",
       "            </tr>\n",
       "            <tr>\n",
       "                        <th id=\"T_a1481952_d052_11ea_84b3_784f43755733level0_row4\" class=\"row_heading level0 row4\" >4</th>\n",
       "                        <td id=\"T_a1481952_d052_11ea_84b3_784f43755733row4_col0\" class=\"data row4 col0\" >{'Horse', 'Pet'}</td>\n",
       "                        <td id=\"T_a1481952_d052_11ea_84b3_784f43755733row4_col1\" class=\"data row4 col1\" >brown</td>\n",
       "                        <td id=\"T_a1481952_d052_11ea_84b3_784f43755733row4_col2\" class=\"data row4 col2\" >Freckles</td>\n",
       "                        <td id=\"T_a1481952_d052_11ea_84b3_784f43755733row4_col3\" class=\"data row4 col3\" >nan</td>\n",
       "                        <td id=\"T_a1481952_d052_11ea_84b3_784f43755733row4_col4\" class=\"data row4 col4\" >nan</td>\n",
       "            </tr>\n",
       "    </tbody></table>"
      ],
      "text/plain": [
       "<pandas.io.formats.style.Styler at 0x7fc024111f10>"
      ]
     },
     "execution_count": 11,
     "metadata": {},
     "output_type": "execute_result"
    }
   ],
   "source": [
    "graph.semi_join(all_pets, on='name', labels={'Pet'}).show()"
   ]
  },
  {
   "cell_type": "markdown",
   "metadata": {},
   "source": [
    "### Anti-Join"
   ]
  },
  {
   "cell_type": "code",
   "execution_count": 12,
   "metadata": {},
   "outputs": [
    {
     "data": {
      "text/html": [
       "<style  type=\"text/css\" >\n",
       "    #T_a24fab58_d052_11ea_84b3_784f43755733row0_col0 {\n",
       "            \n",
       "                background-color:  #F6C768;\n",
       "            \n",
       "                /* border-radius:  50px */;\n",
       "            : ;\n",
       "        }    #T_a24fab58_d052_11ea_84b3_784f43755733row1_col0 {\n",
       "            \n",
       "                background-color:  #5C8DD4;\n",
       "            \n",
       "                /* border-radius:  50px */;\n",
       "            : ;\n",
       "        }</style><table id=\"T_a24fab58_d052_11ea_84b3_784f43755733\" ><caption>NodeFrame</caption><thead>    <tr>        <th class=\"blank level0\" ></th>        <th class=\"col_heading level0 col0\" >labels</th>        <th class=\"col_heading level0 col1\" >name</th>        <th class=\"col_heading level0 col2\" >color</th>        <th class=\"col_heading level0 col3\" >age</th>        <th class=\"col_heading level0 col4\" >behavior</th>    </tr></thead><tbody>\n",
       "                <tr>\n",
       "                        <th id=\"T_a24fab58_d052_11ea_84b3_784f43755733level0_row0\" class=\"row_heading level0 row0\" >0</th>\n",
       "                        <td id=\"T_a24fab58_d052_11ea_84b3_784f43755733row0_col0\" class=\"data row0 col0\" >{'Cow', 'Pet'}</td>\n",
       "                        <td id=\"T_a24fab58_d052_11ea_84b3_784f43755733row0_col1\" class=\"data row0 col1\" >Betsy</td>\n",
       "                        <td id=\"T_a24fab58_d052_11ea_84b3_784f43755733row0_col2\" class=\"data row0 col2\" >nan</td>\n",
       "                        <td id=\"T_a24fab58_d052_11ea_84b3_784f43755733row0_col3\" class=\"data row0 col3\" >2</td>\n",
       "                        <td id=\"T_a24fab58_d052_11ea_84b3_784f43755733row0_col4\" class=\"data row0 col4\" >nan</td>\n",
       "            </tr>\n",
       "            <tr>\n",
       "                        <th id=\"T_a24fab58_d052_11ea_84b3_784f43755733level0_row1\" class=\"row_heading level0 row1\" >1</th>\n",
       "                        <td id=\"T_a24fab58_d052_11ea_84b3_784f43755733row1_col0\" class=\"data row1 col0\" >{'Rabbit', 'Pet'}</td>\n",
       "                        <td id=\"T_a24fab58_d052_11ea_84b3_784f43755733row1_col1\" class=\"data row1 col1\" >Carrie</td>\n",
       "                        <td id=\"T_a24fab58_d052_11ea_84b3_784f43755733row1_col2\" class=\"data row1 col2\" >nan</td>\n",
       "                        <td id=\"T_a24fab58_d052_11ea_84b3_784f43755733row1_col3\" class=\"data row1 col3\" >nan</td>\n",
       "                        <td id=\"T_a24fab58_d052_11ea_84b3_784f43755733row1_col4\" class=\"data row1 col4\" >nan</td>\n",
       "            </tr>\n",
       "    </tbody></table>"
      ],
      "text/plain": [
       "<pandas.io.formats.style.Styler at 0x7fc0241921d0>"
      ]
     },
     "execution_count": 12,
     "metadata": {},
     "output_type": "execute_result"
    }
   ],
   "source": [
    "new_pets = graph.anti_join(all_pets, on='name', labels={'Pet'})\n",
    "new_pets.show()"
   ]
  },
  {
   "cell_type": "code",
   "execution_count": null,
   "metadata": {},
   "outputs": [],
   "source": []
  }
 ],
 "metadata": {
  "kernelspec": {
   "display_name": "Python 3",
   "language": "python",
   "name": "python3"
  },
  "language_info": {
   "codemirror_mode": {
    "name": "ipython",
    "version": 3
   },
   "file_extension": ".py",
   "mimetype": "text/x-python",
   "name": "python",
   "nbconvert_exporter": "python",
   "pygments_lexer": "ipython3",
   "version": "3.7.4"
  }
 },
 "nbformat": 4,
 "nbformat_minor": 2
}
