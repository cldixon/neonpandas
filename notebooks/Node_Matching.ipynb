{
 "cells": [
  {
   "cell_type": "markdown",
   "metadata": {},
   "source": [
    "## Node Matching"
   ]
  },
  {
   "cell_type": "code",
   "execution_count": 1,
   "metadata": {},
   "outputs": [],
   "source": [
    "from utils.node import Node\n",
    "from utils.ordered_set import OrderedSet\n",
    "import neonpandas as npd\n",
    "\n",
    "import pandas as pd"
   ]
  },
  {
   "cell_type": "markdown",
   "metadata": {},
   "source": [
    "## 1. Utilize the Intersection Method from Custom OrderedSet Class"
   ]
  },
  {
   "cell_type": "code",
   "execution_count": null,
   "metadata": {},
   "outputs": [],
   "source": [
    "a = OrderedSet(('Pet', 'Dog')) # simple test example\n",
    "a"
   ]
  },
  {
   "cell_type": "code",
   "execution_count": null,
   "metadata": {},
   "outputs": [],
   "source": [
    "b = OrderedSet(('Dog',)) # this should == a\n",
    "c = OrderedSet('Cat') # this should != a\n",
    "b, c"
   ]
  },
  {
   "cell_type": "code",
   "execution_count": null,
   "metadata": {},
   "outputs": [],
   "source": [
    "# works just as Set's intersection method\n",
    "a.intersection(b)"
   ]
  },
  {
   "cell_type": "code",
   "execution_count": null,
   "metadata": {},
   "outputs": [],
   "source": [
    "# simpler, faster adjective-like version\n",
    "a.has_intersection(b)"
   ]
  },
  {
   "cell_type": "code",
   "execution_count": null,
   "metadata": {},
   "outputs": [],
   "source": [
    "a.has_intersection(c)"
   ]
  },
  {
   "cell_type": "markdown",
   "metadata": {},
   "source": [
    "## 2. Node Equality: Checks for Intersection of Labels and Matching ID Pattern"
   ]
  },
  {
   "cell_type": "code",
   "execution_count": null,
   "metadata": {},
   "outputs": [],
   "source": [
    "a = Node(('Pet', 'Dog'), 'name', 'Ralph', var='a')\n",
    "a"
   ]
  },
  {
   "cell_type": "code",
   "execution_count": null,
   "metadata": {},
   "outputs": [],
   "source": [
    "b = Node('Pet', 'name', 'Ralph', var='b')   # should match to a\n",
    "c = Node('Pet', 'name', 'Pip', var='c')     # should not match to a\n",
    "d = Node('Owner', 'name', 'Ralph', var='d') # should not match to a (but because of labels)\n",
    "b, c, d"
   ]
  },
  {
   "cell_type": "code",
   "execution_count": null,
   "metadata": {},
   "outputs": [],
   "source": [
    "for n in [b, c, d]:\n",
    "    print(a == n)"
   ]
  },
  {
   "cell_type": "code",
   "execution_count": null,
   "metadata": {},
   "outputs": [],
   "source": [
    "for i,j,_expected in [(a, b, True), (a, c, False), (a, d, False)]:\n",
    "    print(i.var, '==', j.var, '?')\n",
    "    _result = i == j\n",
    "    print('expected: {} --- actual: {}'.format(_expected, _result))\n",
    "    print('passed test: {}'.format((True if _expected == _result else False)))\n",
    "    print('{}\\n'.format('-' * 35))"
   ]
  },
  {
   "cell_type": "markdown",
   "metadata": {},
   "source": [
    "## 3. Utilized in Node|Edge-Frame Joins"
   ]
  },
  {
   "cell_type": "code",
   "execution_count": 136,
   "metadata": {},
   "outputs": [
    {
     "data": {
      "text/html": [
       "<div>\n",
       "<style scoped>\n",
       "    .dataframe tbody tr th:only-of-type {\n",
       "        vertical-align: middle;\n",
       "    }\n",
       "\n",
       "    .dataframe tbody tr th {\n",
       "        vertical-align: top;\n",
       "    }\n",
       "\n",
       "    .dataframe thead th {\n",
       "        text-align: right;\n",
       "    }\n",
       "</style>\n",
       "<table border=\"1\" class=\"dataframe\">\n",
       "  <thead>\n",
       "    <tr style=\"text-align: right;\">\n",
       "      <th></th>\n",
       "      <th>labels</th>\n",
       "      <th>name</th>\n",
       "      <th>color</th>\n",
       "      <th>age</th>\n",
       "      <th>behavior</th>\n",
       "    </tr>\n",
       "    <tr>\n",
       "      <th>node</th>\n",
       "      <th></th>\n",
       "      <th></th>\n",
       "      <th></th>\n",
       "      <th></th>\n",
       "      <th></th>\n",
       "    </tr>\n",
       "  </thead>\n",
       "  <tbody>\n",
       "    <tr>\n",
       "      <td>(n:Pet:Dog {name: \"Ralph\"})</td>\n",
       "      <td>(Pet, Dog)</td>\n",
       "      <td>Ralph</td>\n",
       "      <td>black</td>\n",
       "      <td>10.0</td>\n",
       "      <td>NaN</td>\n",
       "    </tr>\n",
       "    <tr>\n",
       "      <td>(n:Pet:Cat {name: \"Pip\"})</td>\n",
       "      <td>(Pet, Cat)</td>\n",
       "      <td>Pip</td>\n",
       "      <td>yellow</td>\n",
       "      <td>6.0</td>\n",
       "      <td>good</td>\n",
       "    </tr>\n",
       "    <tr>\n",
       "      <td>(n:Pet:Pig {name: \"Babe\"})</td>\n",
       "      <td>(Pet, Pig)</td>\n",
       "      <td>Babe</td>\n",
       "      <td>NaN</td>\n",
       "      <td>3.0</td>\n",
       "      <td>NaN</td>\n",
       "    </tr>\n",
       "    <tr>\n",
       "      <td>(n:Pet:Fish {name: \"Bubbles\"})</td>\n",
       "      <td>(Pet, Fish)</td>\n",
       "      <td>Bubbles</td>\n",
       "      <td>red</td>\n",
       "      <td>NaN</td>\n",
       "      <td>acceptable</td>\n",
       "    </tr>\n",
       "    <tr>\n",
       "      <td>(n:Pet:Horse {name: \"Freckles\"})</td>\n",
       "      <td>(Pet, Horse)</td>\n",
       "      <td>Freckles</td>\n",
       "      <td>brown</td>\n",
       "      <td>NaN</td>\n",
       "      <td>NaN</td>\n",
       "    </tr>\n",
       "  </tbody>\n",
       "</table>\n",
       "</div>"
      ],
      "text/plain": [
       "                                        labels      name   color   age  \\\n",
       "node                                                                     \n",
       "(n:Pet:Dog {name: \"Ralph\"})         (Pet, Dog)     Ralph   black  10.0   \n",
       "(n:Pet:Cat {name: \"Pip\"})           (Pet, Cat)       Pip  yellow   6.0   \n",
       "(n:Pet:Pig {name: \"Babe\"})          (Pet, Pig)      Babe     NaN   3.0   \n",
       "(n:Pet:Fish {name: \"Bubbles\"})     (Pet, Fish)   Bubbles     red   NaN   \n",
       "(n:Pet:Horse {name: \"Freckles\"})  (Pet, Horse)  Freckles   brown   NaN   \n",
       "\n",
       "                                    behavior  \n",
       "node                                          \n",
       "(n:Pet:Dog {name: \"Ralph\"})              NaN  \n",
       "(n:Pet:Cat {name: \"Pip\"})               good  \n",
       "(n:Pet:Pig {name: \"Babe\"})               NaN  \n",
       "(n:Pet:Fish {name: \"Bubbles\"})    acceptable  \n",
       "(n:Pet:Horse {name: \"Freckles\"})         NaN  "
      ]
     },
     "execution_count": 136,
     "metadata": {},
     "output_type": "execute_result"
    }
   ],
   "source": [
    "pets = npd.read_csv('pets.csv', id_col='name', lbl_col='species', labels=('Pet'))\n",
    "pets"
   ]
  },
  {
   "cell_type": "code",
   "execution_count": 137,
   "metadata": {},
   "outputs": [
    {
     "data": {
      "text/html": [
       "<div>\n",
       "<style scoped>\n",
       "    .dataframe tbody tr th:only-of-type {\n",
       "        vertical-align: middle;\n",
       "    }\n",
       "\n",
       "    .dataframe tbody tr th {\n",
       "        vertical-align: top;\n",
       "    }\n",
       "\n",
       "    .dataframe thead th {\n",
       "        text-align: right;\n",
       "    }\n",
       "</style>\n",
       "<table border=\"1\" class=\"dataframe\">\n",
       "  <thead>\n",
       "    <tr style=\"text-align: right;\">\n",
       "      <th></th>\n",
       "      <th>node</th>\n",
       "      <th>labels</th>\n",
       "      <th>name</th>\n",
       "      <th>color</th>\n",
       "      <th>age</th>\n",
       "      <th>behavior</th>\n",
       "    </tr>\n",
       "  </thead>\n",
       "  <tbody>\n",
       "    <tr>\n",
       "      <td>0</td>\n",
       "      <td>(n:Pet:Dog {name: \"Ralph\"})</td>\n",
       "      <td>(Pet, Dog)</td>\n",
       "      <td>Ralph</td>\n",
       "      <td>black</td>\n",
       "      <td>10.0</td>\n",
       "      <td>NaN</td>\n",
       "    </tr>\n",
       "    <tr>\n",
       "      <td>1</td>\n",
       "      <td>(n:Pet:Cat {name: \"Pip\"})</td>\n",
       "      <td>(Pet, Cat)</td>\n",
       "      <td>Pip</td>\n",
       "      <td>yellow</td>\n",
       "      <td>6.0</td>\n",
       "      <td>good</td>\n",
       "    </tr>\n",
       "    <tr>\n",
       "      <td>2</td>\n",
       "      <td>(n:Pet:Pig {name: \"Babe\"})</td>\n",
       "      <td>(Pet, Pig)</td>\n",
       "      <td>Babe</td>\n",
       "      <td>NaN</td>\n",
       "      <td>3.0</td>\n",
       "      <td>NaN</td>\n",
       "    </tr>\n",
       "    <tr>\n",
       "      <td>3</td>\n",
       "      <td>(n:Pet:Fish {name: \"Bubbles\"})</td>\n",
       "      <td>(Pet, Fish)</td>\n",
       "      <td>Bubbles</td>\n",
       "      <td>red</td>\n",
       "      <td>NaN</td>\n",
       "      <td>acceptable</td>\n",
       "    </tr>\n",
       "    <tr>\n",
       "      <td>4</td>\n",
       "      <td>(n:Pet:Horse {name: \"Freckles\"})</td>\n",
       "      <td>(Pet, Horse)</td>\n",
       "      <td>Freckles</td>\n",
       "      <td>brown</td>\n",
       "      <td>NaN</td>\n",
       "      <td>NaN</td>\n",
       "    </tr>\n",
       "  </tbody>\n",
       "</table>\n",
       "</div>"
      ],
      "text/plain": [
       "                               node        labels      name   color   age  \\\n",
       "0       (n:Pet:Dog {name: \"Ralph\"})    (Pet, Dog)     Ralph   black  10.0   \n",
       "1         (n:Pet:Cat {name: \"Pip\"})    (Pet, Cat)       Pip  yellow   6.0   \n",
       "2        (n:Pet:Pig {name: \"Babe\"})    (Pet, Pig)      Babe     NaN   3.0   \n",
       "3    (n:Pet:Fish {name: \"Bubbles\"})   (Pet, Fish)   Bubbles     red   NaN   \n",
       "4  (n:Pet:Horse {name: \"Freckles\"})  (Pet, Horse)  Freckles   brown   NaN   \n",
       "\n",
       "     behavior  \n",
       "0         NaN  \n",
       "1        good  \n",
       "2         NaN  \n",
       "3  acceptable  \n",
       "4         NaN  "
      ]
     },
     "execution_count": 137,
     "metadata": {},
     "output_type": "execute_result"
    }
   ],
   "source": [
    "pets.reset_index(inplace=True)\n",
    "pets"
   ]
  },
  {
   "cell_type": "code",
   "execution_count": 73,
   "metadata": {},
   "outputs": [
    {
     "data": {
      "text/html": [
       "<div>\n",
       "<style scoped>\n",
       "    .dataframe tbody tr th:only-of-type {\n",
       "        vertical-align: middle;\n",
       "    }\n",
       "\n",
       "    .dataframe tbody tr th {\n",
       "        vertical-align: top;\n",
       "    }\n",
       "\n",
       "    .dataframe thead th {\n",
       "        text-align: right;\n",
       "    }\n",
       "</style>\n",
       "<table border=\"1\" class=\"dataframe\">\n",
       "  <thead>\n",
       "    <tr style=\"text-align: right;\">\n",
       "      <th></th>\n",
       "      <th>src</th>\n",
       "      <th>rel_type</th>\n",
       "      <th>dest</th>\n",
       "      <th>reporter</th>\n",
       "    </tr>\n",
       "  </thead>\n",
       "  <tbody>\n",
       "    <tr>\n",
       "      <td>0</td>\n",
       "      <td>Ralph</td>\n",
       "      <td>FRIENDLY_WITH</td>\n",
       "      <td>Bubbles</td>\n",
       "      <td>Jenny</td>\n",
       "    </tr>\n",
       "    <tr>\n",
       "      <td>1</td>\n",
       "      <td>Pip</td>\n",
       "      <td>MEAN_TO</td>\n",
       "      <td>Babe</td>\n",
       "      <td>Frank</td>\n",
       "    </tr>\n",
       "    <tr>\n",
       "      <td>2</td>\n",
       "      <td>Ralph</td>\n",
       "      <td>MEAN_TO</td>\n",
       "      <td>Freckles</td>\n",
       "      <td>Frank</td>\n",
       "    </tr>\n",
       "  </tbody>\n",
       "</table>\n",
       "</div>"
      ],
      "text/plain": [
       "     src       rel_type      dest reporter\n",
       "0  Ralph  FRIENDLY_WITH   Bubbles    Jenny\n",
       "1    Pip        MEAN_TO      Babe    Frank\n",
       "2  Ralph        MEAN_TO  Freckles    Frank"
      ]
     },
     "execution_count": 73,
     "metadata": {},
     "output_type": "execute_result"
    }
   ],
   "source": [
    "# example edges\n",
    "edges = [\n",
    "    {'src': 'Ralph', 'rel_type': 'FRIENDLY_WITH', 'dest': 'Bubbles', 'reporter': 'Jenny'},\n",
    "    {'src': 'Pip', 'rel_type': 'MEAN_TO', 'dest': 'Babe', 'reporter': 'Frank'},\n",
    "    {'src': 'Ralph', 'rel_type': 'MEAN_TO', 'dest': 'Freckles', 'reporter': 'Frank'},\n",
    "]\n",
    "edges = pd.DataFrame(edges)\n",
    "#edges = npd.EdgeFrame(edges, rel_col='rel_type')\n",
    "edges"
   ]
  },
  {
   "cell_type": "code",
   "execution_count": 24,
   "metadata": {},
   "outputs": [
    {
     "data": {
      "text/html": [
       "<div>\n",
       "<style scoped>\n",
       "    .dataframe tbody tr th:only-of-type {\n",
       "        vertical-align: middle;\n",
       "    }\n",
       "\n",
       "    .dataframe tbody tr th {\n",
       "        vertical-align: top;\n",
       "    }\n",
       "\n",
       "    .dataframe thead th {\n",
       "        text-align: right;\n",
       "    }\n",
       "</style>\n",
       "<table border=\"1\" class=\"dataframe\">\n",
       "  <thead>\n",
       "    <tr style=\"text-align: right;\">\n",
       "      <th></th>\n",
       "      <th>rel_type</th>\n",
       "      <th>src</th>\n",
       "      <th>dest</th>\n",
       "      <th>reporter</th>\n",
       "      <th>src_node</th>\n",
       "    </tr>\n",
       "  </thead>\n",
       "  <tbody>\n",
       "    <tr>\n",
       "      <td>0</td>\n",
       "      <td>FRIENDLY_WITH</td>\n",
       "      <td>Ralph</td>\n",
       "      <td>Bubbles</td>\n",
       "      <td>Jenny</td>\n",
       "      <td>(n:Pet {name: \"Ralph\"})</td>\n",
       "    </tr>\n",
       "    <tr>\n",
       "      <td>1</td>\n",
       "      <td>MEAN_TO</td>\n",
       "      <td>Pip</td>\n",
       "      <td>Babe</td>\n",
       "      <td>Frank</td>\n",
       "      <td>(n:Pet {name: \"Pip\"})</td>\n",
       "    </tr>\n",
       "    <tr>\n",
       "      <td>2</td>\n",
       "      <td>MEAN_TO</td>\n",
       "      <td>Ralph</td>\n",
       "      <td>Freckles</td>\n",
       "      <td>Frank</td>\n",
       "      <td>(n:Pet {name: \"Ralph\"})</td>\n",
       "    </tr>\n",
       "  </tbody>\n",
       "</table>\n",
       "</div>"
      ],
      "text/plain": [
       "        rel_type    src      dest reporter                 src_node\n",
       "0  FRIENDLY_WITH  Ralph   Bubbles    Jenny  (n:Pet {name: \"Ralph\"})\n",
       "1        MEAN_TO    Pip      Babe    Frank    (n:Pet {name: \"Pip\"})\n",
       "2        MEAN_TO  Ralph  Freckles    Frank  (n:Pet {name: \"Ralph\"})"
      ]
     },
     "execution_count": 24,
     "metadata": {},
     "output_type": "execute_result"
    }
   ],
   "source": [
    "edges[['rel_type']]"
   ]
  },
  {
   "cell_type": "code",
   "execution_count": 38,
   "metadata": {},
   "outputs": [
    {
     "data": {
      "text/html": [
       "<div>\n",
       "<style scoped>\n",
       "    .dataframe tbody tr th:only-of-type {\n",
       "        vertical-align: middle;\n",
       "    }\n",
       "\n",
       "    .dataframe tbody tr th {\n",
       "        vertical-align: top;\n",
       "    }\n",
       "\n",
       "    .dataframe thead th {\n",
       "        text-align: right;\n",
       "    }\n",
       "</style>\n",
       "<table border=\"1\" class=\"dataframe\">\n",
       "  <thead>\n",
       "    <tr style=\"text-align: right;\">\n",
       "      <th></th>\n",
       "      <th>node</th>\n",
       "      <th>labels</th>\n",
       "      <th>name</th>\n",
       "      <th>color</th>\n",
       "      <th>age</th>\n",
       "      <th>behavior</th>\n",
       "    </tr>\n",
       "  </thead>\n",
       "  <tbody>\n",
       "    <tr>\n",
       "      <td>0</td>\n",
       "      <td>(n:Dog {name: \"Ralph\"})</td>\n",
       "      <td>(Dog,)</td>\n",
       "      <td>Ralph</td>\n",
       "      <td>black</td>\n",
       "      <td>10.0</td>\n",
       "      <td>NaN</td>\n",
       "    </tr>\n",
       "    <tr>\n",
       "      <td>1</td>\n",
       "      <td>(n:Cat {name: \"Pip\"})</td>\n",
       "      <td>(Cat,)</td>\n",
       "      <td>Pip</td>\n",
       "      <td>yellow</td>\n",
       "      <td>6.0</td>\n",
       "      <td>good</td>\n",
       "    </tr>\n",
       "    <tr>\n",
       "      <td>2</td>\n",
       "      <td>(n:Pig {name: \"Babe\"})</td>\n",
       "      <td>(Pig,)</td>\n",
       "      <td>Babe</td>\n",
       "      <td>NaN</td>\n",
       "      <td>3.0</td>\n",
       "      <td>NaN</td>\n",
       "    </tr>\n",
       "    <tr>\n",
       "      <td>3</td>\n",
       "      <td>(n:Fish {name: \"Bubbles\"})</td>\n",
       "      <td>(Fish,)</td>\n",
       "      <td>Bubbles</td>\n",
       "      <td>red</td>\n",
       "      <td>NaN</td>\n",
       "      <td>acceptable</td>\n",
       "    </tr>\n",
       "    <tr>\n",
       "      <td>4</td>\n",
       "      <td>(n:Horse {name: \"Freckles\"})</td>\n",
       "      <td>(Horse,)</td>\n",
       "      <td>Freckles</td>\n",
       "      <td>brown</td>\n",
       "      <td>NaN</td>\n",
       "      <td>NaN</td>\n",
       "    </tr>\n",
       "  </tbody>\n",
       "</table>\n",
       "</div>"
      ],
      "text/plain": [
       "                           node    labels      name   color   age    behavior\n",
       "0       (n:Dog {name: \"Ralph\"})    (Dog,)     Ralph   black  10.0         NaN\n",
       "1         (n:Cat {name: \"Pip\"})    (Cat,)       Pip  yellow   6.0        good\n",
       "2        (n:Pig {name: \"Babe\"})    (Pig,)      Babe     NaN   3.0         NaN\n",
       "3    (n:Fish {name: \"Bubbles\"})   (Fish,)   Bubbles     red   NaN  acceptable\n",
       "4  (n:Horse {name: \"Freckles\"})  (Horse,)  Freckles   brown   NaN         NaN"
      ]
     },
     "execution_count": 38,
     "metadata": {},
     "output_type": "execute_result"
    }
   ],
   "source": [
    "pets"
   ]
  },
  {
   "cell_type": "code",
   "execution_count": 41,
   "metadata": {},
   "outputs": [
    {
     "data": {
      "text/plain": [
       "(n:Dog {name: \"Ralph\"})"
      ]
     },
     "execution_count": 41,
     "metadata": {},
     "output_type": "execute_result"
    }
   ],
   "source": [
    "node_col = pets.node.tolist()\n",
    "node_col[0]"
   ]
  },
  {
   "cell_type": "code",
   "execution_count": 42,
   "metadata": {},
   "outputs": [
    {
     "data": {
      "text/html": [
       "<div>\n",
       "<style scoped>\n",
       "    .dataframe tbody tr th:only-of-type {\n",
       "        vertical-align: middle;\n",
       "    }\n",
       "\n",
       "    .dataframe tbody tr th {\n",
       "        vertical-align: top;\n",
       "    }\n",
       "\n",
       "    .dataframe thead th {\n",
       "        text-align: right;\n",
       "    }\n",
       "</style>\n",
       "<table border=\"1\" class=\"dataframe\">\n",
       "  <thead>\n",
       "    <tr style=\"text-align: right;\">\n",
       "      <th></th>\n",
       "      <th>rel_type</th>\n",
       "      <th>src</th>\n",
       "      <th>dest</th>\n",
       "      <th>reporter</th>\n",
       "    </tr>\n",
       "  </thead>\n",
       "  <tbody>\n",
       "    <tr>\n",
       "      <td>0</td>\n",
       "      <td>FRIENDLY_WITH</td>\n",
       "      <td>Ralph</td>\n",
       "      <td>Bubbles</td>\n",
       "      <td>Jenny</td>\n",
       "    </tr>\n",
       "    <tr>\n",
       "      <td>1</td>\n",
       "      <td>MEAN_TO</td>\n",
       "      <td>Pip</td>\n",
       "      <td>Babe</td>\n",
       "      <td>Frank</td>\n",
       "    </tr>\n",
       "    <tr>\n",
       "      <td>2</td>\n",
       "      <td>MEAN_TO</td>\n",
       "      <td>Ralph</td>\n",
       "      <td>Freckles</td>\n",
       "      <td>Frank</td>\n",
       "    </tr>\n",
       "  </tbody>\n",
       "</table>\n",
       "</div>"
      ],
      "text/plain": [
       "        rel_type    src      dest reporter\n",
       "0  FRIENDLY_WITH  Ralph   Bubbles    Jenny\n",
       "1        MEAN_TO    Pip      Babe    Frank\n",
       "2        MEAN_TO  Ralph  Freckles    Frank"
      ]
     },
     "execution_count": 42,
     "metadata": {},
     "output_type": "execute_result"
    }
   ],
   "source": [
    "edges"
   ]
  },
  {
   "cell_type": "code",
   "execution_count": 43,
   "metadata": {},
   "outputs": [
    {
     "data": {
      "text/html": [
       "<div>\n",
       "<style scoped>\n",
       "    .dataframe tbody tr th:only-of-type {\n",
       "        vertical-align: middle;\n",
       "    }\n",
       "\n",
       "    .dataframe tbody tr th {\n",
       "        vertical-align: top;\n",
       "    }\n",
       "\n",
       "    .dataframe thead th {\n",
       "        text-align: right;\n",
       "    }\n",
       "</style>\n",
       "<table border=\"1\" class=\"dataframe\">\n",
       "  <thead>\n",
       "    <tr style=\"text-align: right;\">\n",
       "      <th></th>\n",
       "      <th>rel_type</th>\n",
       "      <th>src</th>\n",
       "      <th>dest</th>\n",
       "      <th>reporter</th>\n",
       "      <th>src_node</th>\n",
       "    </tr>\n",
       "  </thead>\n",
       "  <tbody>\n",
       "    <tr>\n",
       "      <td>0</td>\n",
       "      <td>FRIENDLY_WITH</td>\n",
       "      <td>Ralph</td>\n",
       "      <td>Bubbles</td>\n",
       "      <td>Jenny</td>\n",
       "      <td>(n:Pet {name: \"Ralph\"})</td>\n",
       "    </tr>\n",
       "    <tr>\n",
       "      <td>1</td>\n",
       "      <td>MEAN_TO</td>\n",
       "      <td>Pip</td>\n",
       "      <td>Babe</td>\n",
       "      <td>Frank</td>\n",
       "      <td>(n:Pet {name: \"Pip\"})</td>\n",
       "    </tr>\n",
       "    <tr>\n",
       "      <td>2</td>\n",
       "      <td>MEAN_TO</td>\n",
       "      <td>Ralph</td>\n",
       "      <td>Freckles</td>\n",
       "      <td>Frank</td>\n",
       "      <td>(n:Pet {name: \"Ralph\"})</td>\n",
       "    </tr>\n",
       "  </tbody>\n",
       "</table>\n",
       "</div>"
      ],
      "text/plain": [
       "        rel_type    src      dest reporter                 src_node\n",
       "0  FRIENDLY_WITH  Ralph   Bubbles    Jenny  (n:Pet {name: \"Ralph\"})\n",
       "1        MEAN_TO    Pip      Babe    Frank    (n:Pet {name: \"Pip\"})\n",
       "2        MEAN_TO  Ralph  Freckles    Frank  (n:Pet {name: \"Ralph\"})"
      ]
     },
     "execution_count": 43,
     "metadata": {},
     "output_type": "execute_result"
    }
   ],
   "source": [
    "edges['src_node'] = edges.src.apply(lambda x: Node('Pet', 'name', x))\n",
    "edges"
   ]
  },
  {
   "cell_type": "code",
   "execution_count": 45,
   "metadata": {},
   "outputs": [
    {
     "ename": "IndexError",
     "evalue": "list index out of range",
     "output_type": "error",
     "traceback": [
      "\u001b[0;31m---------------------------------------------------------------------------\u001b[0m",
      "\u001b[0;31mIndexError\u001b[0m                                Traceback (most recent call last)",
      "\u001b[0;32m<ipython-input-45-5801f81a5a21>\u001b[0m in \u001b[0;36m<module>\u001b[0;34m\u001b[0m\n\u001b[0;32m----> 1\u001b[0;31m \u001b[0medges\u001b[0m\u001b[0;34m[\u001b[0m\u001b[0;34m'src_node2'\u001b[0m\u001b[0;34m]\u001b[0m \u001b[0;34m=\u001b[0m \u001b[0medges\u001b[0m\u001b[0;34m.\u001b[0m\u001b[0msrc_node\u001b[0m\u001b[0;34m.\u001b[0m\u001b[0mapply\u001b[0m\u001b[0;34m(\u001b[0m\u001b[0;32mlambda\u001b[0m \u001b[0mx\u001b[0m\u001b[0;34m:\u001b[0m \u001b[0;34m[\u001b[0m\u001b[0mn\u001b[0m \u001b[0;32mfor\u001b[0m \u001b[0mn\u001b[0m \u001b[0;32min\u001b[0m \u001b[0mnode_col\u001b[0m \u001b[0;32mif\u001b[0m \u001b[0mn\u001b[0m \u001b[0;34m==\u001b[0m \u001b[0mx\u001b[0m\u001b[0;34m]\u001b[0m\u001b[0;34m[\u001b[0m\u001b[0;36m0\u001b[0m\u001b[0;34m]\u001b[0m\u001b[0;34m)\u001b[0m\u001b[0;34m\u001b[0m\u001b[0;34m\u001b[0m\u001b[0m\n\u001b[0m\u001b[1;32m      2\u001b[0m \u001b[0medges\u001b[0m\u001b[0;34m\u001b[0m\u001b[0;34m\u001b[0m\u001b[0m\n",
      "\u001b[0;32m/opt/anaconda3/lib/python3.7/site-packages/pandas/core/series.py\u001b[0m in \u001b[0;36mapply\u001b[0;34m(self, func, convert_dtype, args, **kwds)\u001b[0m\n\u001b[1;32m   4040\u001b[0m             \u001b[0;32melse\u001b[0m\u001b[0;34m:\u001b[0m\u001b[0;34m\u001b[0m\u001b[0;34m\u001b[0m\u001b[0m\n\u001b[1;32m   4041\u001b[0m                 \u001b[0mvalues\u001b[0m \u001b[0;34m=\u001b[0m \u001b[0mself\u001b[0m\u001b[0;34m.\u001b[0m\u001b[0mastype\u001b[0m\u001b[0;34m(\u001b[0m\u001b[0mobject\u001b[0m\u001b[0;34m)\u001b[0m\u001b[0;34m.\u001b[0m\u001b[0mvalues\u001b[0m\u001b[0;34m\u001b[0m\u001b[0;34m\u001b[0m\u001b[0m\n\u001b[0;32m-> 4042\u001b[0;31m                 \u001b[0mmapped\u001b[0m \u001b[0;34m=\u001b[0m \u001b[0mlib\u001b[0m\u001b[0;34m.\u001b[0m\u001b[0mmap_infer\u001b[0m\u001b[0;34m(\u001b[0m\u001b[0mvalues\u001b[0m\u001b[0;34m,\u001b[0m \u001b[0mf\u001b[0m\u001b[0;34m,\u001b[0m \u001b[0mconvert\u001b[0m\u001b[0;34m=\u001b[0m\u001b[0mconvert_dtype\u001b[0m\u001b[0;34m)\u001b[0m\u001b[0;34m\u001b[0m\u001b[0;34m\u001b[0m\u001b[0m\n\u001b[0m\u001b[1;32m   4043\u001b[0m \u001b[0;34m\u001b[0m\u001b[0m\n\u001b[1;32m   4044\u001b[0m         \u001b[0;32mif\u001b[0m \u001b[0mlen\u001b[0m\u001b[0;34m(\u001b[0m\u001b[0mmapped\u001b[0m\u001b[0;34m)\u001b[0m \u001b[0;32mand\u001b[0m \u001b[0misinstance\u001b[0m\u001b[0;34m(\u001b[0m\u001b[0mmapped\u001b[0m\u001b[0;34m[\u001b[0m\u001b[0;36m0\u001b[0m\u001b[0;34m]\u001b[0m\u001b[0;34m,\u001b[0m \u001b[0mSeries\u001b[0m\u001b[0;34m)\u001b[0m\u001b[0;34m:\u001b[0m\u001b[0;34m\u001b[0m\u001b[0;34m\u001b[0m\u001b[0m\n",
      "\u001b[0;32mpandas/_libs/lib.pyx\u001b[0m in \u001b[0;36mpandas._libs.lib.map_infer\u001b[0;34m()\u001b[0m\n",
      "\u001b[0;32m<ipython-input-45-5801f81a5a21>\u001b[0m in \u001b[0;36m<lambda>\u001b[0;34m(x)\u001b[0m\n\u001b[0;32m----> 1\u001b[0;31m \u001b[0medges\u001b[0m\u001b[0;34m[\u001b[0m\u001b[0;34m'src_node2'\u001b[0m\u001b[0;34m]\u001b[0m \u001b[0;34m=\u001b[0m \u001b[0medges\u001b[0m\u001b[0;34m.\u001b[0m\u001b[0msrc_node\u001b[0m\u001b[0;34m.\u001b[0m\u001b[0mapply\u001b[0m\u001b[0;34m(\u001b[0m\u001b[0;32mlambda\u001b[0m \u001b[0mx\u001b[0m\u001b[0;34m:\u001b[0m \u001b[0;34m[\u001b[0m\u001b[0mn\u001b[0m \u001b[0;32mfor\u001b[0m \u001b[0mn\u001b[0m \u001b[0;32min\u001b[0m \u001b[0mnode_col\u001b[0m \u001b[0;32mif\u001b[0m \u001b[0mn\u001b[0m \u001b[0;34m==\u001b[0m \u001b[0mx\u001b[0m\u001b[0;34m]\u001b[0m\u001b[0;34m[\u001b[0m\u001b[0;36m0\u001b[0m\u001b[0;34m]\u001b[0m\u001b[0;34m)\u001b[0m\u001b[0;34m\u001b[0m\u001b[0;34m\u001b[0m\u001b[0m\n\u001b[0m\u001b[1;32m      2\u001b[0m \u001b[0medges\u001b[0m\u001b[0;34m\u001b[0m\u001b[0;34m\u001b[0m\u001b[0m\n",
      "\u001b[0;31mIndexError\u001b[0m: list index out of range"
     ]
    }
   ],
   "source": [
    "edges['src_node2'] = edges.src_node.apply(lambda x: [n for n in node_col if n == x][0])\n",
    "edges"
   ]
  },
  {
   "cell_type": "code",
   "execution_count": 58,
   "metadata": {},
   "outputs": [
    {
     "data": {
      "text/plain": [
       "{(n:Cat {name: \"Pip\"}),\n",
       " (n:Dog {name: \"Ralph\"}),\n",
       " (n:Fish {name: \"Bubbles\"}),\n",
       " (n:Horse {name: \"Freckles\"}),\n",
       " (n:Pig {name: \"Babe\"})}"
      ]
     },
     "execution_count": 58,
     "metadata": {},
     "output_type": "execute_result"
    }
   ],
   "source": [
    "set_test = set(node_col)\n",
    "set_test"
   ]
  },
  {
   "cell_type": "code",
   "execution_count": 64,
   "metadata": {},
   "outputs": [
    {
     "data": {
      "text/plain": [
       "(n:Pet:Dog {name: \"Ralph\"})"
      ]
     },
     "execution_count": 64,
     "metadata": {},
     "output_type": "execute_result"
    }
   ],
   "source": [
    "test = Node(('Pet', 'Dog'), 'name', 'Ralph')\n",
    "test"
   ]
  },
  {
   "cell_type": "code",
   "execution_count": 65,
   "metadata": {},
   "outputs": [
    {
     "data": {
      "text/plain": [
       "{(n:Pet:Dog {name: \"Ralph\"})}"
      ]
     },
     "execution_count": 65,
     "metadata": {},
     "output_type": "execute_result"
    }
   ],
   "source": [
    "set_test.intersection({test})"
   ]
  },
  {
   "cell_type": "code",
   "execution_count": 66,
   "metadata": {},
   "outputs": [
    {
     "data": {
      "text/plain": [
       "{(n:Pet:Dog {name: \"Ralph\"})}"
      ]
     },
     "execution_count": 66,
     "metadata": {},
     "output_type": "execute_result"
    }
   ],
   "source": [
    "set_test & {test}"
   ]
  },
  {
   "cell_type": "code",
   "execution_count": null,
   "metadata": {},
   "outputs": [],
   "source": [
    "class Shirt:\n",
    "    def __init__(self, size, color):\n",
    "        self.size = size\n",
    "        self.color = color\n",
    "        \n",
    "    def __eq__(self, other_shirt):\n",
    "        if isinstance(other_shirt, self.__class__):\n",
    "            return self.size == other_shirt.size and self.color == other_shirt.color\n",
    "        else:\n",
    "            return False\n",
    "        \n",
    "    def __hash__(self):\n",
    "        return hash((self.size, self.color))"
   ]
  },
  {
   "cell_type": "code",
   "execution_count": null,
   "metadata": {},
   "outputs": [],
   "source": [
    "my_shirt = Shirt('small', 'blue')\n",
    "his_shirt = Shirt('small', 'blue')"
   ]
  },
  {
   "cell_type": "code",
   "execution_count": null,
   "metadata": {},
   "outputs": [],
   "source": [
    "my_shirt == his_shirt"
   ]
  },
  {
   "cell_type": "code",
   "execution_count": null,
   "metadata": {},
   "outputs": [],
   "source": [
    "my_shirt.__hash__()"
   ]
  },
  {
   "cell_type": "code",
   "execution_count": null,
   "metadata": {},
   "outputs": [],
   "source": [
    "his_shirt.__hash__()"
   ]
  },
  {
   "cell_type": "code",
   "execution_count": null,
   "metadata": {},
   "outputs": [],
   "source": [
    "tuple({'name': 'ralph'})"
   ]
  },
  {
   "cell_type": "code",
   "execution_count": 30,
   "metadata": {},
   "outputs": [],
   "source": [
    "a_set = {'dog'}\n",
    "b_set = {'dog', 'pet'}"
   ]
  },
  {
   "cell_type": "code",
   "execution_count": 31,
   "metadata": {},
   "outputs": [
    {
     "data": {
      "text/plain": [
       "False"
      ]
     },
     "execution_count": 31,
     "metadata": {},
     "output_type": "execute_result"
    }
   ],
   "source": [
    "a_set == b_set"
   ]
  },
  {
   "cell_type": "code",
   "execution_count": 98,
   "metadata": {},
   "outputs": [
    {
     "data": {
      "text/html": [
       "<div>\n",
       "<style scoped>\n",
       "    .dataframe tbody tr th:only-of-type {\n",
       "        vertical-align: middle;\n",
       "    }\n",
       "\n",
       "    .dataframe tbody tr th {\n",
       "        vertical-align: top;\n",
       "    }\n",
       "\n",
       "    .dataframe thead th {\n",
       "        text-align: right;\n",
       "    }\n",
       "</style>\n",
       "<table border=\"1\" class=\"dataframe\">\n",
       "  <thead>\n",
       "    <tr style=\"text-align: right;\">\n",
       "      <th></th>\n",
       "      <th>name</th>\n",
       "      <th>labels</th>\n",
       "      <th>behavior</th>\n",
       "    </tr>\n",
       "  </thead>\n",
       "  <tbody>\n",
       "    <tr>\n",
       "      <td>0</td>\n",
       "      <td>Ralph</td>\n",
       "      <td>[Dog, Pet]</td>\n",
       "      <td>bad</td>\n",
       "    </tr>\n",
       "    <tr>\n",
       "      <td>1</td>\n",
       "      <td>Pip</td>\n",
       "      <td>[Cat, Pet]</td>\n",
       "      <td>good</td>\n",
       "    </tr>\n",
       "    <tr>\n",
       "      <td>2</td>\n",
       "      <td>Bubbles</td>\n",
       "      <td>[Fish, Pet]</td>\n",
       "      <td>irrelevant</td>\n",
       "    </tr>\n",
       "    <tr>\n",
       "      <td>3</td>\n",
       "      <td>Freckles</td>\n",
       "      <td>[Horse, Pet]</td>\n",
       "      <td>obstinate</td>\n",
       "    </tr>\n",
       "  </tbody>\n",
       "</table>\n",
       "</div>"
      ],
      "text/plain": [
       "       name        labels    behavior\n",
       "0     Ralph    [Dog, Pet]         bad\n",
       "1       Pip    [Cat, Pet]        good\n",
       "2   Bubbles   [Fish, Pet]  irrelevant\n",
       "3  Freckles  [Horse, Pet]   obstinate"
      ]
     },
     "execution_count": 98,
     "metadata": {},
     "output_type": "execute_result"
    }
   ],
   "source": [
    "pets = pd.DataFrame([\n",
    "    {'name': 'Ralph', 'labels': {'Pet', 'Dog'}, 'behavior': 'bad'},\n",
    "    {'name': 'Pip', 'labels': {'Pet', 'Cat'}, 'behavior': 'good'},\n",
    "    {'name': 'Bubbles', 'labels': {'Pet', 'Fish'}, 'behavior': 'irrelevant'},\n",
    "    {'name': 'Freckles', 'labels': {'Pet', 'Horse'}, 'behavior': 'obstinate'}\n",
    "])\n",
    "pets['labels'] = pets.labels.apply(lambda x: list(x))\n",
    "pets"
   ]
  },
  {
   "cell_type": "code",
   "execution_count": 122,
   "metadata": {},
   "outputs": [
    {
     "data": {
      "text/html": [
       "<div>\n",
       "<style scoped>\n",
       "    .dataframe tbody tr th:only-of-type {\n",
       "        vertical-align: middle;\n",
       "    }\n",
       "\n",
       "    .dataframe tbody tr th {\n",
       "        vertical-align: top;\n",
       "    }\n",
       "\n",
       "    .dataframe thead th {\n",
       "        text-align: right;\n",
       "    }\n",
       "</style>\n",
       "<table border=\"1\" class=\"dataframe\">\n",
       "  <thead>\n",
       "    <tr style=\"text-align: right;\">\n",
       "      <th></th>\n",
       "      <th>src</th>\n",
       "      <th>rel_type</th>\n",
       "      <th>dest</th>\n",
       "      <th>reporter</th>\n",
       "    </tr>\n",
       "  </thead>\n",
       "  <tbody>\n",
       "    <tr>\n",
       "      <td>0</td>\n",
       "      <td>Ralph</td>\n",
       "      <td>FRIENDLY_WITH</td>\n",
       "      <td>Bubbles</td>\n",
       "      <td>Jenny</td>\n",
       "    </tr>\n",
       "    <tr>\n",
       "      <td>1</td>\n",
       "      <td>Pip</td>\n",
       "      <td>MEAN_TO</td>\n",
       "      <td>Ralph</td>\n",
       "      <td>Frank</td>\n",
       "    </tr>\n",
       "    <tr>\n",
       "      <td>2</td>\n",
       "      <td>Ralph</td>\n",
       "      <td>MEAN_TO</td>\n",
       "      <td>Freckles</td>\n",
       "      <td>Frank</td>\n",
       "    </tr>\n",
       "  </tbody>\n",
       "</table>\n",
       "</div>"
      ],
      "text/plain": [
       "     src       rel_type      dest reporter\n",
       "0  Ralph  FRIENDLY_WITH   Bubbles    Jenny\n",
       "1    Pip        MEAN_TO     Ralph    Frank\n",
       "2  Ralph        MEAN_TO  Freckles    Frank"
      ]
     },
     "execution_count": 122,
     "metadata": {},
     "output_type": "execute_result"
    }
   ],
   "source": [
    "edges = pd.DataFrame([\n",
    "    {'src': 'Ralph', 'rel_type': 'FRIENDLY_WITH', 'dest': 'Bubbles', 'reporter': 'Jenny'},\n",
    "    {'src': 'Pip', 'rel_type': 'MEAN_TO', 'dest': 'Ralph', 'reporter': 'Frank'},\n",
    "    {'src': 'Ralph', 'rel_type': 'MEAN_TO', 'dest': 'Freckles', 'reporter': 'Frank'},\n",
    "])\n",
    "edges"
   ]
  },
  {
   "cell_type": "code",
   "execution_count": 107,
   "metadata": {},
   "outputs": [
    {
     "data": {
      "text/html": [
       "<div>\n",
       "<style scoped>\n",
       "    .dataframe tbody tr th:only-of-type {\n",
       "        vertical-align: middle;\n",
       "    }\n",
       "\n",
       "    .dataframe tbody tr th {\n",
       "        vertical-align: top;\n",
       "    }\n",
       "\n",
       "    .dataframe thead th {\n",
       "        text-align: right;\n",
       "    }\n",
       "</style>\n",
       "<table border=\"1\" class=\"dataframe\">\n",
       "  <thead>\n",
       "    <tr style=\"text-align: right;\">\n",
       "      <th></th>\n",
       "      <th>name</th>\n",
       "      <th>labels</th>\n",
       "    </tr>\n",
       "  </thead>\n",
       "  <tbody>\n",
       "    <tr>\n",
       "      <td>0</td>\n",
       "      <td>Ralph</td>\n",
       "      <td>Dog</td>\n",
       "    </tr>\n",
       "    <tr>\n",
       "      <td>0</td>\n",
       "      <td>Ralph</td>\n",
       "      <td>Pet</td>\n",
       "    </tr>\n",
       "    <tr>\n",
       "      <td>1</td>\n",
       "      <td>Pip</td>\n",
       "      <td>Cat</td>\n",
       "    </tr>\n",
       "    <tr>\n",
       "      <td>1</td>\n",
       "      <td>Pip</td>\n",
       "      <td>Pet</td>\n",
       "    </tr>\n",
       "    <tr>\n",
       "      <td>2</td>\n",
       "      <td>Bubbles</td>\n",
       "      <td>Fish</td>\n",
       "    </tr>\n",
       "    <tr>\n",
       "      <td>2</td>\n",
       "      <td>Bubbles</td>\n",
       "      <td>Pet</td>\n",
       "    </tr>\n",
       "    <tr>\n",
       "      <td>3</td>\n",
       "      <td>Freckles</td>\n",
       "      <td>Horse</td>\n",
       "    </tr>\n",
       "    <tr>\n",
       "      <td>3</td>\n",
       "      <td>Freckles</td>\n",
       "      <td>Pet</td>\n",
       "    </tr>\n",
       "  </tbody>\n",
       "</table>\n",
       "</div>"
      ],
      "text/plain": [
       "       name labels\n",
       "0     Ralph    Dog\n",
       "0     Ralph    Pet\n",
       "1       Pip    Cat\n",
       "1       Pip    Pet\n",
       "2   Bubbles   Fish\n",
       "2   Bubbles    Pet\n",
       "3  Freckles  Horse\n",
       "3  Freckles    Pet"
      ]
     },
     "execution_count": 107,
     "metadata": {},
     "output_type": "execute_result"
    }
   ],
   "source": [
    "pet_lbls = pets[['name', 'labels']].explode(column='labels')\n",
    "pet_lbls"
   ]
  },
  {
   "cell_type": "code",
   "execution_count": 112,
   "metadata": {},
   "outputs": [
    {
     "data": {
      "text/html": [
       "<div>\n",
       "<style scoped>\n",
       "    .dataframe tbody tr th:only-of-type {\n",
       "        vertical-align: middle;\n",
       "    }\n",
       "\n",
       "    .dataframe tbody tr th {\n",
       "        vertical-align: top;\n",
       "    }\n",
       "\n",
       "    .dataframe thead th {\n",
       "        text-align: right;\n",
       "    }\n",
       "</style>\n",
       "<table border=\"1\" class=\"dataframe\">\n",
       "  <thead>\n",
       "    <tr style=\"text-align: right;\">\n",
       "      <th></th>\n",
       "      <th>name</th>\n",
       "      <th>labels</th>\n",
       "      <th>src</th>\n",
       "      <th>rel_type</th>\n",
       "      <th>dest</th>\n",
       "      <th>reporter</th>\n",
       "      <th>src_lbls</th>\n",
       "      <th>dest_lbls</th>\n",
       "    </tr>\n",
       "  </thead>\n",
       "  <tbody>\n",
       "    <tr>\n",
       "      <td>0</td>\n",
       "      <td>Ralph</td>\n",
       "      <td>Pet</td>\n",
       "      <td>Ralph</td>\n",
       "      <td>FRIENDLY_WITH</td>\n",
       "      <td>Bubbles</td>\n",
       "      <td>Jenny</td>\n",
       "      <td>Pet</td>\n",
       "      <td>Pet</td>\n",
       "    </tr>\n",
       "    <tr>\n",
       "      <td>1</td>\n",
       "      <td>Ralph</td>\n",
       "      <td>Pet</td>\n",
       "      <td>Ralph</td>\n",
       "      <td>MEAN_TO</td>\n",
       "      <td>Freckles</td>\n",
       "      <td>Frank</td>\n",
       "      <td>Pet</td>\n",
       "      <td>Pet</td>\n",
       "    </tr>\n",
       "    <tr>\n",
       "      <td>2</td>\n",
       "      <td>Pip</td>\n",
       "      <td>Pet</td>\n",
       "      <td>Pip</td>\n",
       "      <td>MEAN_TO</td>\n",
       "      <td>Ralph</td>\n",
       "      <td>Frank</td>\n",
       "      <td>Pet</td>\n",
       "      <td>Pet</td>\n",
       "    </tr>\n",
       "  </tbody>\n",
       "</table>\n",
       "</div>"
      ],
      "text/plain": [
       "    name labels    src       rel_type      dest reporter src_lbls dest_lbls\n",
       "0  Ralph    Pet  Ralph  FRIENDLY_WITH   Bubbles    Jenny      Pet       Pet\n",
       "1  Ralph    Pet  Ralph        MEAN_TO  Freckles    Frank      Pet       Pet\n",
       "2    Pip    Pet    Pip        MEAN_TO     Ralph    Frank      Pet       Pet"
      ]
     },
     "execution_count": 112,
     "metadata": {},
     "output_type": "execute_result"
    }
   ],
   "source": [
    "pd.merge(pet_lbls, edges,\n",
    "        left_on=['labels', 'name'],\n",
    "        right_on=['src_lbls', 'src'],\n",
    "        how='inner')"
   ]
  },
  {
   "cell_type": "code",
   "execution_count": 113,
   "metadata": {},
   "outputs": [
    {
     "data": {
      "text/html": [
       "<div>\n",
       "<style scoped>\n",
       "    .dataframe tbody tr th:only-of-type {\n",
       "        vertical-align: middle;\n",
       "    }\n",
       "\n",
       "    .dataframe tbody tr th {\n",
       "        vertical-align: top;\n",
       "    }\n",
       "\n",
       "    .dataframe thead th {\n",
       "        text-align: right;\n",
       "    }\n",
       "</style>\n",
       "<table border=\"1\" class=\"dataframe\">\n",
       "  <thead>\n",
       "    <tr style=\"text-align: right;\">\n",
       "      <th></th>\n",
       "      <th>name</th>\n",
       "      <th>labels</th>\n",
       "      <th>behavior</th>\n",
       "    </tr>\n",
       "  </thead>\n",
       "  <tbody>\n",
       "    <tr>\n",
       "      <td>0</td>\n",
       "      <td>Ralph</td>\n",
       "      <td>[Dog, Pet]</td>\n",
       "      <td>bad</td>\n",
       "    </tr>\n",
       "    <tr>\n",
       "      <td>1</td>\n",
       "      <td>Pip</td>\n",
       "      <td>[Cat, Pet]</td>\n",
       "      <td>good</td>\n",
       "    </tr>\n",
       "    <tr>\n",
       "      <td>2</td>\n",
       "      <td>Bubbles</td>\n",
       "      <td>[Fish, Pet]</td>\n",
       "      <td>irrelevant</td>\n",
       "    </tr>\n",
       "    <tr>\n",
       "      <td>3</td>\n",
       "      <td>Freckles</td>\n",
       "      <td>[Horse, Pet]</td>\n",
       "      <td>obstinate</td>\n",
       "    </tr>\n",
       "  </tbody>\n",
       "</table>\n",
       "</div>"
      ],
      "text/plain": [
       "       name        labels    behavior\n",
       "0     Ralph    [Dog, Pet]         bad\n",
       "1       Pip    [Cat, Pet]        good\n",
       "2   Bubbles   [Fish, Pet]  irrelevant\n",
       "3  Freckles  [Horse, Pet]   obstinate"
      ]
     },
     "execution_count": 113,
     "metadata": {},
     "output_type": "execute_result"
    }
   ],
   "source": [
    "pets"
   ]
  },
  {
   "cell_type": "markdown",
   "metadata": {},
   "source": [
    "## Broken-Down Loop Way"
   ]
  },
  {
   "cell_type": "code",
   "execution_count": 123,
   "metadata": {},
   "outputs": [
    {
     "data": {
      "text/html": [
       "<div>\n",
       "<style scoped>\n",
       "    .dataframe tbody tr th:only-of-type {\n",
       "        vertical-align: middle;\n",
       "    }\n",
       "\n",
       "    .dataframe tbody tr th {\n",
       "        vertical-align: top;\n",
       "    }\n",
       "\n",
       "    .dataframe thead th {\n",
       "        text-align: right;\n",
       "    }\n",
       "</style>\n",
       "<table border=\"1\" class=\"dataframe\">\n",
       "  <thead>\n",
       "    <tr style=\"text-align: right;\">\n",
       "      <th></th>\n",
       "      <th>rel_type</th>\n",
       "      <th>reporter</th>\n",
       "      <th>src_node</th>\n",
       "      <th>dest_node</th>\n",
       "    </tr>\n",
       "  </thead>\n",
       "  <tbody>\n",
       "    <tr>\n",
       "      <td>0</td>\n",
       "      <td>FRIENDLY_WITH</td>\n",
       "      <td>Jenny</td>\n",
       "      <td>(n:Pet {name: \"Ralph\"})</td>\n",
       "      <td>(n:Pet {name: \"Bubbles\"})</td>\n",
       "    </tr>\n",
       "    <tr>\n",
       "      <td>1</td>\n",
       "      <td>MEAN_TO</td>\n",
       "      <td>Frank</td>\n",
       "      <td>(n:Pet {name: \"Pip\"})</td>\n",
       "      <td>(n:Pet {name: \"Ralph\"})</td>\n",
       "    </tr>\n",
       "    <tr>\n",
       "      <td>2</td>\n",
       "      <td>MEAN_TO</td>\n",
       "      <td>Frank</td>\n",
       "      <td>(n:Pet {name: \"Ralph\"})</td>\n",
       "      <td>(n:Pet {name: \"Freckles\"})</td>\n",
       "    </tr>\n",
       "  </tbody>\n",
       "</table>\n",
       "</div>"
      ],
      "text/plain": [
       "        rel_type reporter                 src_node                   dest_node\n",
       "0  FRIENDLY_WITH    Jenny  (n:Pet {name: \"Ralph\"})   (n:Pet {name: \"Bubbles\"})\n",
       "1        MEAN_TO    Frank    (n:Pet {name: \"Pip\"})     (n:Pet {name: \"Ralph\"})\n",
       "2        MEAN_TO    Frank  (n:Pet {name: \"Ralph\"})  (n:Pet {name: \"Freckles\"})"
      ]
     },
     "execution_count": 123,
     "metadata": {},
     "output_type": "execute_result"
    }
   ],
   "source": [
    "edges['src_node'] = edges.src.apply(lambda x: Node('Pet', 'name', x))\n",
    "edges['dest_node'] = edges.dest.apply(lambda x: Node('Pet', 'name', x))\n",
    "edges.drop(columns=['src', 'dest'], inplace=True)\n",
    "edges"
   ]
  },
  {
   "cell_type": "code",
   "execution_count": 139,
   "metadata": {},
   "outputs": [],
   "source": [
    "matches = []\n",
    "for src in edges.src_node:\n",
    "    for n in pets.node:\n",
    "        if src == n:\n",
    "            matches.append(n)"
   ]
  },
  {
   "cell_type": "code",
   "execution_count": 146,
   "metadata": {},
   "outputs": [],
   "source": []
  },
  {
   "cell_type": "code",
   "execution_count": 144,
   "metadata": {},
   "outputs": [],
   "source": [
    "src_nodes = [find_match(src, pets.node) for src in edges.src_node]"
   ]
  },
  {
   "cell_type": "code",
   "execution_count": 147,
   "metadata": {},
   "outputs": [
    {
     "data": {
      "text/html": [
       "<div>\n",
       "<style scoped>\n",
       "    .dataframe tbody tr th:only-of-type {\n",
       "        vertical-align: middle;\n",
       "    }\n",
       "\n",
       "    .dataframe tbody tr th {\n",
       "        vertical-align: top;\n",
       "    }\n",
       "\n",
       "    .dataframe thead th {\n",
       "        text-align: right;\n",
       "    }\n",
       "</style>\n",
       "<table border=\"1\" class=\"dataframe\">\n",
       "  <thead>\n",
       "    <tr style=\"text-align: right;\">\n",
       "      <th></th>\n",
       "      <th>rel_type</th>\n",
       "      <th>reporter</th>\n",
       "      <th>src_node</th>\n",
       "      <th>dest_node</th>\n",
       "      <th>src_nodes2</th>\n",
       "      <th>dest_nodes2</th>\n",
       "    </tr>\n",
       "  </thead>\n",
       "  <tbody>\n",
       "    <tr>\n",
       "      <td>0</td>\n",
       "      <td>FRIENDLY_WITH</td>\n",
       "      <td>Jenny</td>\n",
       "      <td>(n:Pet {name: \"Ralph\"})</td>\n",
       "      <td>(n:Pet {name: \"Bubbles\"})</td>\n",
       "      <td>(n:Pet:Dog {name: \"Ralph\"})</td>\n",
       "      <td>(n:Pet:Fish {name: \"Bubbles\"})</td>\n",
       "    </tr>\n",
       "    <tr>\n",
       "      <td>1</td>\n",
       "      <td>MEAN_TO</td>\n",
       "      <td>Frank</td>\n",
       "      <td>(n:Pet {name: \"Pip\"})</td>\n",
       "      <td>(n:Pet {name: \"Ralph\"})</td>\n",
       "      <td>(n:Pet:Cat {name: \"Pip\"})</td>\n",
       "      <td>(n:Pet:Dog {name: \"Ralph\"})</td>\n",
       "    </tr>\n",
       "    <tr>\n",
       "      <td>2</td>\n",
       "      <td>MEAN_TO</td>\n",
       "      <td>Frank</td>\n",
       "      <td>(n:Pet {name: \"Ralph\"})</td>\n",
       "      <td>(n:Pet {name: \"Freckles\"})</td>\n",
       "      <td>(n:Pet:Dog {name: \"Ralph\"})</td>\n",
       "      <td>(n:Pet:Horse {name: \"Freckles\"})</td>\n",
       "    </tr>\n",
       "  </tbody>\n",
       "</table>\n",
       "</div>"
      ],
      "text/plain": [
       "        rel_type reporter                 src_node  \\\n",
       "0  FRIENDLY_WITH    Jenny  (n:Pet {name: \"Ralph\"})   \n",
       "1        MEAN_TO    Frank    (n:Pet {name: \"Pip\"})   \n",
       "2        MEAN_TO    Frank  (n:Pet {name: \"Ralph\"})   \n",
       "\n",
       "                    dest_node                   src_nodes2  \\\n",
       "0   (n:Pet {name: \"Bubbles\"})  (n:Pet:Dog {name: \"Ralph\"})   \n",
       "1     (n:Pet {name: \"Ralph\"})    (n:Pet:Cat {name: \"Pip\"})   \n",
       "2  (n:Pet {name: \"Freckles\"})  (n:Pet:Dog {name: \"Ralph\"})   \n",
       "\n",
       "                        dest_nodes2  \n",
       "0    (n:Pet:Fish {name: \"Bubbles\"})  \n",
       "1       (n:Pet:Dog {name: \"Ralph\"})  \n",
       "2  (n:Pet:Horse {name: \"Freckles\"})  "
      ]
     },
     "execution_count": 147,
     "metadata": {},
     "output_type": "execute_result"
    }
   ],
   "source": [
    "edges['src_nodes2'] = edges.src_node.apply(lambda x: node.find_match(x, pets.node))\n",
    "edges['dest_nodes2'] = edges.dest_node.apply(lambda x: node.find_match(x, pets.node))\n",
    "edges"
   ]
  },
  {
   "cell_type": "code",
   "execution_count": null,
   "metadata": {},
   "outputs": [],
   "source": []
  }
 ],
 "metadata": {
  "kernelspec": {
   "display_name": "Python 3",
   "language": "python",
   "name": "python3"
  },
  "language_info": {
   "codemirror_mode": {
    "name": "ipython",
    "version": 3
   },
   "file_extension": ".py",
   "mimetype": "text/x-python",
   "name": "python",
   "nbconvert_exporter": "python",
   "pygments_lexer": "ipython3",
   "version": "3.7.4"
  }
 },
 "nbformat": 4,
 "nbformat_minor": 2
}
