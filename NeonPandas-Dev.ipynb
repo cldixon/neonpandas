{
 "cells": [
  {
   "cell_type": "markdown",
   "metadata": {},
   "source": [
    "# Development for NeonPandas"
   ]
  },
  {
   "cell_type": "code",
   "execution_count": 1,
   "metadata": {},
   "outputs": [],
   "source": [
    "import neo4j\n",
    "import pandas as pd \n",
    "from lib.graph import Graph\n",
    "\n",
    "from utils import df_tools\n",
    "from utils import cypher\n",
    "from utils import neo_utils"
   ]
  },
  {
   "cell_type": "markdown",
   "metadata": {},
   "source": [
    "## Load Pets Dataset"
   ]
  },
  {
   "cell_type": "code",
   "execution_count": 2,
   "metadata": {},
   "outputs": [
    {
     "data": {
      "text/html": [
       "<div>\n",
       "<style scoped>\n",
       "    .dataframe tbody tr th:only-of-type {\n",
       "        vertical-align: middle;\n",
       "    }\n",
       "\n",
       "    .dataframe tbody tr th {\n",
       "        vertical-align: top;\n",
       "    }\n",
       "\n",
       "    .dataframe thead th {\n",
       "        text-align: right;\n",
       "    }\n",
       "</style>\n",
       "<table border=\"1\" class=\"dataframe\">\n",
       "  <thead>\n",
       "    <tr style=\"text-align: right;\">\n",
       "      <th></th>\n",
       "      <th>name</th>\n",
       "      <th>species</th>\n",
       "      <th>color</th>\n",
       "      <th>age</th>\n",
       "      <th>behavior</th>\n",
       "    </tr>\n",
       "  </thead>\n",
       "  <tbody>\n",
       "    <tr>\n",
       "      <td>0</td>\n",
       "      <td>Ralph</td>\n",
       "      <td>Dog</td>\n",
       "      <td>black</td>\n",
       "      <td>10.0</td>\n",
       "      <td>NaN</td>\n",
       "    </tr>\n",
       "    <tr>\n",
       "      <td>1</td>\n",
       "      <td>Pip</td>\n",
       "      <td>Cat</td>\n",
       "      <td>yellow</td>\n",
       "      <td>6.0</td>\n",
       "      <td>good</td>\n",
       "    </tr>\n",
       "    <tr>\n",
       "      <td>2</td>\n",
       "      <td>Babe</td>\n",
       "      <td>Pig</td>\n",
       "      <td>NaN</td>\n",
       "      <td>3.0</td>\n",
       "      <td>NaN</td>\n",
       "    </tr>\n",
       "    <tr>\n",
       "      <td>3</td>\n",
       "      <td>Bubbles</td>\n",
       "      <td>Fish</td>\n",
       "      <td>red</td>\n",
       "      <td>NaN</td>\n",
       "      <td>acceptable</td>\n",
       "    </tr>\n",
       "    <tr>\n",
       "      <td>4</td>\n",
       "      <td>Freckles</td>\n",
       "      <td>Horse</td>\n",
       "      <td>brown</td>\n",
       "      <td>NaN</td>\n",
       "      <td>NaN</td>\n",
       "    </tr>\n",
       "  </tbody>\n",
       "</table>\n",
       "</div>"
      ],
      "text/plain": [
       "       name species   color   age    behavior\n",
       "0     Ralph     Dog   black  10.0         NaN\n",
       "1       Pip     Cat  yellow   6.0        good\n",
       "2      Babe     Pig     NaN   3.0         NaN\n",
       "3   Bubbles    Fish     red   NaN  acceptable\n",
       "4  Freckles   Horse   brown   NaN         NaN"
      ]
     },
     "execution_count": 2,
     "metadata": {},
     "output_type": "execute_result"
    }
   ],
   "source": [
    "pets = pd.read_csv('pets.csv')\n",
    "pets"
   ]
  },
  {
   "cell_type": "markdown",
   "metadata": {},
   "source": [
    "## Prepare Dataset for NeonPandas"
   ]
  },
  {
   "cell_type": "raw",
   "metadata": {},
   "source": [
    "# example code in final product\n",
    "pets = npd.DataFrame(pets, use_column='species', label={'Pet'})"
   ]
  },
  {
   "cell_type": "code",
   "execution_count": 3,
   "metadata": {},
   "outputs": [
    {
     "data": {
      "text/html": [
       "<div>\n",
       "<style scoped>\n",
       "    .dataframe tbody tr th:only-of-type {\n",
       "        vertical-align: middle;\n",
       "    }\n",
       "\n",
       "    .dataframe tbody tr th {\n",
       "        vertical-align: top;\n",
       "    }\n",
       "\n",
       "    .dataframe thead th {\n",
       "        text-align: right;\n",
       "    }\n",
       "</style>\n",
       "<table border=\"1\" class=\"dataframe\">\n",
       "  <thead>\n",
       "    <tr style=\"text-align: right;\">\n",
       "      <th></th>\n",
       "      <th>labels</th>\n",
       "      <th>name</th>\n",
       "      <th>color</th>\n",
       "      <th>age</th>\n",
       "      <th>behavior</th>\n",
       "    </tr>\n",
       "  </thead>\n",
       "  <tbody>\n",
       "    <tr>\n",
       "      <td>0</td>\n",
       "      <td>{Pet, Dog}</td>\n",
       "      <td>Ralph</td>\n",
       "      <td>black</td>\n",
       "      <td>10.0</td>\n",
       "      <td>NaN</td>\n",
       "    </tr>\n",
       "    <tr>\n",
       "      <td>1</td>\n",
       "      <td>{Pet, Cat}</td>\n",
       "      <td>Pip</td>\n",
       "      <td>yellow</td>\n",
       "      <td>6.0</td>\n",
       "      <td>good</td>\n",
       "    </tr>\n",
       "    <tr>\n",
       "      <td>2</td>\n",
       "      <td>{Pig, Pet}</td>\n",
       "      <td>Babe</td>\n",
       "      <td>NaN</td>\n",
       "      <td>3.0</td>\n",
       "      <td>NaN</td>\n",
       "    </tr>\n",
       "    <tr>\n",
       "      <td>3</td>\n",
       "      <td>{Pet, Fish}</td>\n",
       "      <td>Bubbles</td>\n",
       "      <td>red</td>\n",
       "      <td>NaN</td>\n",
       "      <td>acceptable</td>\n",
       "    </tr>\n",
       "    <tr>\n",
       "      <td>4</td>\n",
       "      <td>{Pet, Horse}</td>\n",
       "      <td>Freckles</td>\n",
       "      <td>brown</td>\n",
       "      <td>NaN</td>\n",
       "      <td>NaN</td>\n",
       "    </tr>\n",
       "  </tbody>\n",
       "</table>\n",
       "</div>"
      ],
      "text/plain": [
       "         labels      name   color   age    behavior\n",
       "0    {Pet, Dog}     Ralph   black  10.0         NaN\n",
       "1    {Pet, Cat}       Pip  yellow   6.0        good\n",
       "2    {Pig, Pet}      Babe     NaN   3.0         NaN\n",
       "3   {Pet, Fish}   Bubbles     red   NaN  acceptable\n",
       "4  {Pet, Horse}  Freckles   brown   NaN         NaN"
      ]
     },
     "execution_count": 3,
     "metadata": {},
     "output_type": "execute_result"
    }
   ],
   "source": [
    "pets = df_tools.set_labels(pets, column='species', labels='Pet')\n",
    "pets"
   ]
  },
  {
   "cell_type": "markdown",
   "metadata": {},
   "source": [
    "## Set up Graph"
   ]
  },
  {
   "cell_type": "code",
   "execution_count": 4,
   "metadata": {},
   "outputs": [],
   "source": [
    "graph = Graph(uri='bolt://localhost:7687', auth=('neo4j', 'neonpandas'))"
   ]
  },
  {
   "cell_type": "markdown",
   "metadata": {},
   "source": [
    "### Creates Nodes via DataFrame"
   ]
  },
  {
   "cell_type": "code",
   "execution_count": null,
   "metadata": {},
   "outputs": [],
   "source": [
    "graph.create_nodes(pets)"
   ]
  },
  {
   "cell_type": "markdown",
   "metadata": {},
   "source": [
    "\n",
    "### Create Constraints via DataFrame"
   ]
  },
  {
   "cell_type": "code",
   "execution_count": null,
   "metadata": {},
   "outputs": [],
   "source": [
    "constraints = pd.DataFrame([\n",
    "    {'labels': 'Pet', 'property': 'name'}, \n",
    "    {'labels': 'Owner', 'property': 'name'}\n",
    "])\n",
    "constraints = df_tools.set_labels(constraints, column='labels')\n",
    "constraints"
   ]
  },
  {
   "cell_type": "code",
   "execution_count": null,
   "metadata": {},
   "outputs": [],
   "source": [
    "# create from dataframe\n",
    "graph.create_node_constraints(constraints)"
   ]
  },
  {
   "cell_type": "markdown",
   "metadata": {},
   "source": [
    "### Create Edges"
   ]
  },
  {
   "cell_type": "code",
   "execution_count": null,
   "metadata": {},
   "outputs": [],
   "source": [
    "edges = pd.DataFrame([\n",
    "    {'src': 'Ralph', 'rel_type': 'SHARES_OWNER', 'dest': 'Bubbles'},\n",
    "    {'src': 'Pip', 'rel_type': 'SHARES_OWNER', 'dest': 'Babe'},\n",
    "    {'src': 'Ralph', 'rel_type': 'SHARES_OWNER', 'dest': 'Freckles'}\n",
    "])\n",
    "edges"
   ]
  },
  {
   "cell_type": "code",
   "execution_count": null,
   "metadata": {},
   "outputs": [],
   "source": [
    "query = \"\"\"UNWIND $edges AS edge\n",
    "        MATCH (s:Pet {name: edge.src})\n",
    "        MATCH (d:Pet {name: edge.dest})\n",
    "        WITH s,d,edge\n",
    "        CALL apoc.merge.relationship(s, edge.rel_type, {}, {}, d) YIELD rel\n",
    "        RETURN COUNT(rel)\"\"\""
   ]
  },
  {
   "cell_type": "code",
   "execution_count": null,
   "metadata": {},
   "outputs": [],
   "source": [
    "graph.create_relationships(edges, query)"
   ]
  },
  {
   "cell_type": "markdown",
   "metadata": {},
   "source": [
    "### Node Joining\n",
    "Perform _join_ operations with an input DataFrame against nodes in Neo4j."
   ]
  },
  {
   "cell_type": "code",
   "execution_count": null,
   "metadata": {},
   "outputs": [],
   "source": [
    "new_pets = pd.DataFrame([\n",
    "    {'name': 'Betsy', 'age': 2, 'species': 'Cow'},\n",
    "    {'name': 'Carrie', 'species': 'Rabbit'}\n",
    "])\n",
    "new_pets = df_tools.set_labels(new_pets, labels={'Pet'}, column='species')\n",
    "all_pets = pd.concat([pets, new_pets], sort=False).reset_index(drop=True)\n",
    "all_pets"
   ]
  },
  {
   "cell_type": "markdown",
   "metadata": {},
   "source": [
    "### Semi-Join\n",
    "Check which nodes in DataFrame exist in Neo4j."
   ]
  },
  {
   "cell_type": "code",
   "execution_count": null,
   "metadata": {},
   "outputs": [],
   "source": [
    "graph.semi_join(all_pets, on='name', labels='Pet')"
   ]
  },
  {
   "cell_type": "markdown",
   "metadata": {},
   "source": [
    "### Anti-Join\n",
    "Check which nodes in DataFrame do not exist in Neo4j."
   ]
  },
  {
   "cell_type": "code",
   "execution_count": null,
   "metadata": {},
   "outputs": [],
   "source": [
    "graph.anti_join(all_pets, on='name', labels='Pet')"
   ]
  },
  {
   "cell_type": "markdown",
   "metadata": {},
   "source": [
    "## Match Nodes\n",
    "Search for nodes via `MATCH` statement"
   ]
  },
  {
   "cell_type": "code",
   "execution_count": 5,
   "metadata": {},
   "outputs": [
    {
     "data": {
      "text/html": [
       "<div>\n",
       "<style scoped>\n",
       "    .dataframe tbody tr th:only-of-type {\n",
       "        vertical-align: middle;\n",
       "    }\n",
       "\n",
       "    .dataframe tbody tr th {\n",
       "        vertical-align: top;\n",
       "    }\n",
       "\n",
       "    .dataframe thead th {\n",
       "        text-align: right;\n",
       "    }\n",
       "</style>\n",
       "<table border=\"1\" class=\"dataframe\">\n",
       "  <thead>\n",
       "    <tr style=\"text-align: right;\">\n",
       "      <th></th>\n",
       "      <th>labels</th>\n",
       "      <th>color</th>\n",
       "      <th>name</th>\n",
       "      <th>age</th>\n",
       "      <th>behavior</th>\n",
       "    </tr>\n",
       "  </thead>\n",
       "  <tbody>\n",
       "    <tr>\n",
       "      <td>0</td>\n",
       "      <td>{Pet, Dog}</td>\n",
       "      <td>black</td>\n",
       "      <td>Ralph</td>\n",
       "      <td>10.0</td>\n",
       "      <td>NaN</td>\n",
       "    </tr>\n",
       "    <tr>\n",
       "      <td>1</td>\n",
       "      <td>{Pet, Cat}</td>\n",
       "      <td>yellow</td>\n",
       "      <td>Pip</td>\n",
       "      <td>6.0</td>\n",
       "      <td>good</td>\n",
       "    </tr>\n",
       "    <tr>\n",
       "      <td>2</td>\n",
       "      <td>{Pig, Pet}</td>\n",
       "      <td>NaN</td>\n",
       "      <td>Babe</td>\n",
       "      <td>3.0</td>\n",
       "      <td>NaN</td>\n",
       "    </tr>\n",
       "  </tbody>\n",
       "</table>\n",
       "</div>"
      ],
      "text/plain": [
       "       labels   color   name   age behavior\n",
       "0  {Pet, Dog}   black  Ralph  10.0      NaN\n",
       "1  {Pet, Cat}  yellow    Pip   6.0     good\n",
       "2  {Pig, Pet}     NaN   Babe   3.0      NaN"
      ]
     },
     "execution_count": 5,
     "metadata": {},
     "output_type": "execute_result"
    }
   ],
   "source": [
    "graph.match_nodes(labels={'Pet'}, limit=3)"
   ]
  },
  {
   "cell_type": "code",
   "execution_count": 7,
   "metadata": {},
   "outputs": [
    {
     "data": {
      "text/html": [
       "<div>\n",
       "<style scoped>\n",
       "    .dataframe tbody tr th:only-of-type {\n",
       "        vertical-align: middle;\n",
       "    }\n",
       "\n",
       "    .dataframe tbody tr th {\n",
       "        vertical-align: top;\n",
       "    }\n",
       "\n",
       "    .dataframe thead th {\n",
       "        text-align: right;\n",
       "    }\n",
       "</style>\n",
       "<table border=\"1\" class=\"dataframe\">\n",
       "  <thead>\n",
       "    <tr style=\"text-align: right;\">\n",
       "      <th></th>\n",
       "      <th>labels</th>\n",
       "      <th>color</th>\n",
       "      <th>name</th>\n",
       "      <th>age</th>\n",
       "    </tr>\n",
       "  </thead>\n",
       "  <tbody>\n",
       "    <tr>\n",
       "      <td>0</td>\n",
       "      <td>{Pet, Dog}</td>\n",
       "      <td>black</td>\n",
       "      <td>Ralph</td>\n",
       "      <td>10.0</td>\n",
       "    </tr>\n",
       "  </tbody>\n",
       "</table>\n",
       "</div>"
      ],
      "text/plain": [
       "       labels  color   name   age\n",
       "0  {Pet, Dog}  black  Ralph  10.0"
      ]
     },
     "execution_count": 7,
     "metadata": {},
     "output_type": "execute_result"
    }
   ],
   "source": [
    "## add properties to search\n",
    "graph.match_nodes(labels={'Pet'}, properties={'name': 'Ralph'})"
   ]
  },
  {
   "cell_type": "code",
   "execution_count": null,
   "metadata": {},
   "outputs": [],
   "source": []
  }
 ],
 "metadata": {
  "kernelspec": {
   "display_name": "Python 3",
   "language": "python",
   "name": "python3"
  },
  "language_info": {
   "codemirror_mode": {
    "name": "ipython",
    "version": 3
   },
   "file_extension": ".py",
   "mimetype": "text/x-python",
   "name": "python",
   "nbconvert_exporter": "python",
   "pygments_lexer": "ipython3",
   "version": "3.7.4"
  }
 },
 "nbformat": 4,
 "nbformat_minor": 2
}
