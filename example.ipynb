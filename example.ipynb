{
 "cells": [
  {
   "cell_type": "markdown",
   "metadata": {},
   "source": [
    "# NeonPandas Example"
   ]
  },
  {
   "cell_type": "code",
   "execution_count": 1,
   "metadata": {},
   "outputs": [],
   "source": [
    "import pandas as pd \n",
    "import neonpandas as npd"
   ]
  },
  {
   "cell_type": "markdown",
   "metadata": {},
   "source": [
    "## Create NodeFrame"
   ]
  },
  {
   "cell_type": "code",
   "execution_count": 14,
   "metadata": {},
   "outputs": [],
   "source": [
    "pets = pd.read_csv('datasets/pets.csv')"
   ]
  },
  {
   "cell_type": "code",
   "execution_count": 15,
   "metadata": {},
   "outputs": [
    {
     "data": {
      "text/html": [
       "<div>\n",
       "<style scoped>\n",
       "    .dataframe tbody tr th:only-of-type {\n",
       "        vertical-align: middle;\n",
       "    }\n",
       "\n",
       "    .dataframe tbody tr th {\n",
       "        vertical-align: top;\n",
       "    }\n",
       "\n",
       "    .dataframe thead th {\n",
       "        text-align: right;\n",
       "    }\n",
       "</style>\n",
       "<table border=\"1\" class=\"dataframe\">\n",
       "  <thead>\n",
       "    <tr style=\"text-align: right;\">\n",
       "      <th></th>\n",
       "      <th>labels</th>\n",
       "      <th>name</th>\n",
       "      <th>color</th>\n",
       "      <th>age</th>\n",
       "      <th>behavior</th>\n",
       "    </tr>\n",
       "  </thead>\n",
       "  <tbody>\n",
       "    <tr>\n",
       "      <td>0</td>\n",
       "      <td>{Dog, Pet}</td>\n",
       "      <td>Ralph</td>\n",
       "      <td>black</td>\n",
       "      <td>10.0</td>\n",
       "      <td>NaN</td>\n",
       "    </tr>\n",
       "    <tr>\n",
       "      <td>1</td>\n",
       "      <td>{Cat, Pet}</td>\n",
       "      <td>Pip</td>\n",
       "      <td>yellow</td>\n",
       "      <td>6.0</td>\n",
       "      <td>good</td>\n",
       "    </tr>\n",
       "    <tr>\n",
       "      <td>2</td>\n",
       "      <td>{Pig, Pet}</td>\n",
       "      <td>Babe</td>\n",
       "      <td>NaN</td>\n",
       "      <td>3.0</td>\n",
       "      <td>NaN</td>\n",
       "    </tr>\n",
       "    <tr>\n",
       "      <td>3</td>\n",
       "      <td>{Fish, Pet}</td>\n",
       "      <td>Bubbles</td>\n",
       "      <td>red</td>\n",
       "      <td>NaN</td>\n",
       "      <td>acceptable</td>\n",
       "    </tr>\n",
       "    <tr>\n",
       "      <td>4</td>\n",
       "      <td>{Horse, Pet}</td>\n",
       "      <td>Freckles</td>\n",
       "      <td>brown</td>\n",
       "      <td>NaN</td>\n",
       "      <td>NaN</td>\n",
       "    </tr>\n",
       "  </tbody>\n",
       "</table>\n",
       "</div>"
      ],
      "text/plain": [
       "         labels      name   color   age    behavior\n",
       "0    {Dog, Pet}     Ralph   black  10.0         NaN\n",
       "1    {Cat, Pet}       Pip  yellow   6.0        good\n",
       "2    {Pig, Pet}      Babe     NaN   3.0         NaN\n",
       "3   {Fish, Pet}   Bubbles     red   NaN  acceptable\n",
       "4  {Horse, Pet}  Freckles   brown   NaN         NaN"
      ]
     },
     "execution_count": 15,
     "metadata": {},
     "output_type": "execute_result"
    }
   ],
   "source": [
    "## can convert existing dataframe or any input data that Pandas DataFrame can accept\n",
    "nodes = npd.NodeFrame(pets, id_col='name', labels={'Pet'}, lbl_col='species')\n",
    "nodes"
   ]
  },
  {
   "cell_type": "markdown",
   "metadata": {},
   "source": [
    "## Create EdgeFrame"
   ]
  },
  {
   "cell_type": "code",
   "execution_count": 4,
   "metadata": {},
   "outputs": [],
   "source": [
    "data = pd.read_csv('datasets/edges.csv')"
   ]
  },
  {
   "cell_type": "code",
   "execution_count": 5,
   "metadata": {},
   "outputs": [
    {
     "data": {
      "text/html": [
       "<div>\n",
       "<style scoped>\n",
       "    .dataframe tbody tr th:only-of-type {\n",
       "        vertical-align: middle;\n",
       "    }\n",
       "\n",
       "    .dataframe tbody tr th {\n",
       "        vertical-align: top;\n",
       "    }\n",
       "\n",
       "    .dataframe thead th {\n",
       "        text-align: right;\n",
       "    }\n",
       "</style>\n",
       "<table border=\"1\" class=\"dataframe\">\n",
       "  <thead>\n",
       "    <tr style=\"text-align: right;\">\n",
       "      <th></th>\n",
       "      <th>rel_type</th>\n",
       "      <th>src</th>\n",
       "      <th>dest</th>\n",
       "      <th>reporter</th>\n",
       "      <th>length</th>\n",
       "    </tr>\n",
       "  </thead>\n",
       "  <tbody>\n",
       "    <tr>\n",
       "      <td>0</td>\n",
       "      <td>FRIENDLY_WITH</td>\n",
       "      <td>(s:Pet {name: \"Ralph\"})</td>\n",
       "      <td>(d:Pet {name: \"Bubbles\"})</td>\n",
       "      <td>Jenny</td>\n",
       "      <td>2 years</td>\n",
       "    </tr>\n",
       "    <tr>\n",
       "      <td>1</td>\n",
       "      <td>MEAN_TO</td>\n",
       "      <td>(s:Pet {name: \"Pip\"})</td>\n",
       "      <td>(d:Pet {name: \"Babe\"})</td>\n",
       "      <td>Frank</td>\n",
       "      <td>1 month</td>\n",
       "    </tr>\n",
       "    <tr>\n",
       "      <td>2</td>\n",
       "      <td>MEAN_TO</td>\n",
       "      <td>(s:Pet {name: \"Ralph\"})</td>\n",
       "      <td>(d:Pet {name: \"Freckles\"})</td>\n",
       "      <td>Frank</td>\n",
       "      <td>1 day</td>\n",
       "    </tr>\n",
       "    <tr>\n",
       "      <td>3</td>\n",
       "      <td>FRIENDLY_WITH</td>\n",
       "      <td>(s:Pet {name: \"Freckles\"})</td>\n",
       "      <td>(d:Pet {name: \"Babe\"})</td>\n",
       "      <td>Tommy</td>\n",
       "      <td>10 months</td>\n",
       "    </tr>\n",
       "    <tr>\n",
       "      <td>4</td>\n",
       "      <td>JUST_MET</td>\n",
       "      <td>(s:Pet {name: \"Pip\"})</td>\n",
       "      <td>(d:Pet {name: \"Barney\"})</td>\n",
       "      <td>Jenny</td>\n",
       "      <td>NaN</td>\n",
       "    </tr>\n",
       "  </tbody>\n",
       "</table>\n",
       "</div>"
      ],
      "text/plain": [
       "        rel_type                         src                        dest  \\\n",
       "0  FRIENDLY_WITH     (s:Pet {name: \"Ralph\"})   (d:Pet {name: \"Bubbles\"})   \n",
       "1        MEAN_TO       (s:Pet {name: \"Pip\"})      (d:Pet {name: \"Babe\"})   \n",
       "2        MEAN_TO     (s:Pet {name: \"Ralph\"})  (d:Pet {name: \"Freckles\"})   \n",
       "3  FRIENDLY_WITH  (s:Pet {name: \"Freckles\"})      (d:Pet {name: \"Babe\"})   \n",
       "4       JUST_MET       (s:Pet {name: \"Pip\"})    (d:Pet {name: \"Barney\"})   \n",
       "\n",
       "  reporter     length  \n",
       "0    Jenny    2 years  \n",
       "1    Frank    1 month  \n",
       "2    Frank      1 day  \n",
       "3    Tommy  10 months  \n",
       "4    Jenny        NaN  "
      ]
     },
     "execution_count": 5,
     "metadata": {},
     "output_type": "execute_result"
    }
   ],
   "source": [
    "edges = npd.EdgeFrame(data, rel_col='rel_type', \n",
    "                      src_col='src', dest_col='dest', \n",
    "                      src_id='name', dest_id='name',\n",
    "                      labels={'Pet'})\n",
    "edges"
   ]
  },
  {
   "cell_type": "markdown",
   "metadata": {},
   "source": [
    "## Add Nodes & Edges to Graph"
   ]
  },
  {
   "cell_type": "code",
   "execution_count": 6,
   "metadata": {},
   "outputs": [],
   "source": [
    "graph = npd.Graph(uri='bolt://localhost:7687', auth=('neo4j', 'neonpandas'))"
   ]
  },
  {
   "cell_type": "code",
   "execution_count": null,
   "metadata": {},
   "outputs": [],
   "source": [
    "## add nodes to graph\n",
    "graph.create_nodes(nodes)"
   ]
  },
  {
   "cell_type": "code",
   "execution_count": null,
   "metadata": {},
   "outputs": [],
   "source": [
    "## add edges to graph\n",
    "graph.create_edges(edges)"
   ]
  },
  {
   "cell_type": "markdown",
   "metadata": {},
   "source": [
    "## Neo4j Bolt Output\n",
    "![](src/bolt_vis.png)"
   ]
  },
  {
   "cell_type": "markdown",
   "metadata": {},
   "source": [
    "## Matching"
   ]
  },
  {
   "cell_type": "code",
   "execution_count": 9,
   "metadata": {},
   "outputs": [
    {
     "data": {
      "text/html": [
       "<div>\n",
       "<style scoped>\n",
       "    .dataframe tbody tr th:only-of-type {\n",
       "        vertical-align: middle;\n",
       "    }\n",
       "\n",
       "    .dataframe tbody tr th {\n",
       "        vertical-align: top;\n",
       "    }\n",
       "\n",
       "    .dataframe thead th {\n",
       "        text-align: right;\n",
       "    }\n",
       "</style>\n",
       "<table border=\"1\" class=\"dataframe\">\n",
       "  <thead>\n",
       "    <tr style=\"text-align: right;\">\n",
       "      <th></th>\n",
       "      <th>labels</th>\n",
       "      <th>color</th>\n",
       "      <th>name</th>\n",
       "      <th>behavior</th>\n",
       "      <th>age</th>\n",
       "    </tr>\n",
       "  </thead>\n",
       "  <tbody>\n",
       "    <tr>\n",
       "      <td>0</td>\n",
       "      <td>{Fish, Pet}</td>\n",
       "      <td>red</td>\n",
       "      <td>Bubbles</td>\n",
       "      <td>acceptable</td>\n",
       "      <td>NaN</td>\n",
       "    </tr>\n",
       "    <tr>\n",
       "      <td>1</td>\n",
       "      <td>{Pet}</td>\n",
       "      <td>NaN</td>\n",
       "      <td>Barney</td>\n",
       "      <td>NaN</td>\n",
       "      <td>NaN</td>\n",
       "    </tr>\n",
       "    <tr>\n",
       "      <td>2</td>\n",
       "      <td>{Dog, Pet}</td>\n",
       "      <td>black</td>\n",
       "      <td>Ralph</td>\n",
       "      <td>NaN</td>\n",
       "      <td>10.0</td>\n",
       "    </tr>\n",
       "    <tr>\n",
       "      <td>3</td>\n",
       "      <td>{Cat, Pet}</td>\n",
       "      <td>yellow</td>\n",
       "      <td>Pip</td>\n",
       "      <td>good</td>\n",
       "      <td>6.0</td>\n",
       "    </tr>\n",
       "    <tr>\n",
       "      <td>4</td>\n",
       "      <td>{Pig, Pet}</td>\n",
       "      <td>NaN</td>\n",
       "      <td>Babe</td>\n",
       "      <td>NaN</td>\n",
       "      <td>3.0</td>\n",
       "    </tr>\n",
       "    <tr>\n",
       "      <td>5</td>\n",
       "      <td>{Horse, Pet}</td>\n",
       "      <td>brown</td>\n",
       "      <td>Freckles</td>\n",
       "      <td>NaN</td>\n",
       "      <td>NaN</td>\n",
       "    </tr>\n",
       "  </tbody>\n",
       "</table>\n",
       "</div>"
      ],
      "text/plain": [
       "         labels   color      name    behavior   age\n",
       "0   {Fish, Pet}     red   Bubbles  acceptable   NaN\n",
       "1         {Pet}     NaN    Barney         NaN   NaN\n",
       "2    {Dog, Pet}   black     Ralph         NaN  10.0\n",
       "3    {Cat, Pet}  yellow       Pip        good   6.0\n",
       "4    {Pig, Pet}     NaN      Babe         NaN   3.0\n",
       "5  {Horse, Pet}   brown  Freckles         NaN   NaN"
      ]
     },
     "execution_count": 9,
     "metadata": {},
     "output_type": "execute_result"
    }
   ],
   "source": [
    "graph.match_nodes(labels={'Pet'}, id_col='name')"
   ]
  },
  {
   "cell_type": "code",
   "execution_count": 8,
   "metadata": {},
   "outputs": [
    {
     "data": {
      "text/html": [
       "<div>\n",
       "<style scoped>\n",
       "    .dataframe tbody tr th:only-of-type {\n",
       "        vertical-align: middle;\n",
       "    }\n",
       "\n",
       "    .dataframe tbody tr th {\n",
       "        vertical-align: top;\n",
       "    }\n",
       "\n",
       "    .dataframe thead th {\n",
       "        text-align: right;\n",
       "    }\n",
       "</style>\n",
       "<table border=\"1\" class=\"dataframe\">\n",
       "  <thead>\n",
       "    <tr style=\"text-align: right;\">\n",
       "      <th></th>\n",
       "      <th>labels</th>\n",
       "      <th>color</th>\n",
       "      <th>name</th>\n",
       "      <th>age</th>\n",
       "    </tr>\n",
       "  </thead>\n",
       "  <tbody>\n",
       "    <tr>\n",
       "      <td>0</td>\n",
       "      <td>{Dog, Pet}</td>\n",
       "      <td>black</td>\n",
       "      <td>Ralph</td>\n",
       "      <td>10.0</td>\n",
       "    </tr>\n",
       "  </tbody>\n",
       "</table>\n",
       "</div>"
      ],
      "text/plain": [
       "       labels  color   name   age\n",
       "0  {Dog, Pet}  black  Ralph  10.0"
      ]
     },
     "execution_count": 8,
     "metadata": {},
     "output_type": "execute_result"
    }
   ],
   "source": [
    "## add properties to search\n",
    "graph.match_nodes(labels={'Pet'}, properties={'name': 'Ralph'})"
   ]
  },
  {
   "cell_type": "markdown",
   "metadata": {},
   "source": [
    "## Joining\n",
    "Comparing data inside and outside of Neo4j."
   ]
  },
  {
   "cell_type": "code",
   "execution_count": 16,
   "metadata": {},
   "outputs": [],
   "source": [
    "new_pets = pd.DataFrame([\n",
    "    {'name': 'Betsy', 'age': 2, 'species': 'Cow'},\n",
    "    {'name': 'Carrie', 'species': 'Rabbit'}\n",
    "])\n",
    "all_pets = pd.concat([pets, new_pets], sort=False).reset_index(drop=True)"
   ]
  },
  {
   "cell_type": "code",
   "execution_count": 20,
   "metadata": {},
   "outputs": [
    {
     "data": {
      "text/html": [
       "<div>\n",
       "<style scoped>\n",
       "    .dataframe tbody tr th:only-of-type {\n",
       "        vertical-align: middle;\n",
       "    }\n",
       "\n",
       "    .dataframe tbody tr th {\n",
       "        vertical-align: top;\n",
       "    }\n",
       "\n",
       "    .dataframe thead th {\n",
       "        text-align: right;\n",
       "    }\n",
       "</style>\n",
       "<table border=\"1\" class=\"dataframe\">\n",
       "  <thead>\n",
       "    <tr style=\"text-align: right;\">\n",
       "      <th></th>\n",
       "      <th>labels</th>\n",
       "      <th>name</th>\n",
       "      <th>color</th>\n",
       "      <th>age</th>\n",
       "      <th>behavior</th>\n",
       "    </tr>\n",
       "  </thead>\n",
       "  <tbody>\n",
       "    <tr>\n",
       "      <td>0</td>\n",
       "      <td>{Dog, Pet}</td>\n",
       "      <td>Ralph</td>\n",
       "      <td>black</td>\n",
       "      <td>10.0</td>\n",
       "      <td>NaN</td>\n",
       "    </tr>\n",
       "    <tr>\n",
       "      <td>1</td>\n",
       "      <td>{Cat, Pet}</td>\n",
       "      <td>Pip</td>\n",
       "      <td>yellow</td>\n",
       "      <td>6.0</td>\n",
       "      <td>good</td>\n",
       "    </tr>\n",
       "    <tr>\n",
       "      <td>2</td>\n",
       "      <td>{Pig, Pet}</td>\n",
       "      <td>Babe</td>\n",
       "      <td>NaN</td>\n",
       "      <td>3.0</td>\n",
       "      <td>NaN</td>\n",
       "    </tr>\n",
       "    <tr>\n",
       "      <td>3</td>\n",
       "      <td>{Fish, Pet}</td>\n",
       "      <td>Bubbles</td>\n",
       "      <td>red</td>\n",
       "      <td>NaN</td>\n",
       "      <td>acceptable</td>\n",
       "    </tr>\n",
       "    <tr>\n",
       "      <td>4</td>\n",
       "      <td>{Horse, Pet}</td>\n",
       "      <td>Freckles</td>\n",
       "      <td>brown</td>\n",
       "      <td>NaN</td>\n",
       "      <td>NaN</td>\n",
       "    </tr>\n",
       "    <tr>\n",
       "      <td>5</td>\n",
       "      <td>{Cow, Pet}</td>\n",
       "      <td>Betsy</td>\n",
       "      <td>NaN</td>\n",
       "      <td>2.0</td>\n",
       "      <td>NaN</td>\n",
       "    </tr>\n",
       "    <tr>\n",
       "      <td>6</td>\n",
       "      <td>{Rabbit, Pet}</td>\n",
       "      <td>Carrie</td>\n",
       "      <td>NaN</td>\n",
       "      <td>NaN</td>\n",
       "      <td>NaN</td>\n",
       "    </tr>\n",
       "  </tbody>\n",
       "</table>\n",
       "</div>"
      ],
      "text/plain": [
       "          labels      name   color   age    behavior\n",
       "0     {Dog, Pet}     Ralph   black  10.0         NaN\n",
       "1     {Cat, Pet}       Pip  yellow   6.0        good\n",
       "2     {Pig, Pet}      Babe     NaN   3.0         NaN\n",
       "3    {Fish, Pet}   Bubbles     red   NaN  acceptable\n",
       "4   {Horse, Pet}  Freckles   brown   NaN         NaN\n",
       "5     {Cow, Pet}     Betsy     NaN   2.0         NaN\n",
       "6  {Rabbit, Pet}    Carrie     NaN   NaN         NaN"
      ]
     },
     "execution_count": 20,
     "metadata": {},
     "output_type": "execute_result"
    }
   ],
   "source": [
    "# convert to nodeframe\n",
    "all_pets = npd.NodeFrame(all_pets, id_col='name', lbl_col='species', labels={'Pet'})\n",
    "all_pets"
   ]
  },
  {
   "cell_type": "markdown",
   "metadata": {},
   "source": [
    "### Semi-Join"
   ]
  },
  {
   "cell_type": "code",
   "execution_count": 22,
   "metadata": {},
   "outputs": [
    {
     "data": {
      "text/html": [
       "<div>\n",
       "<style scoped>\n",
       "    .dataframe tbody tr th:only-of-type {\n",
       "        vertical-align: middle;\n",
       "    }\n",
       "\n",
       "    .dataframe tbody tr th {\n",
       "        vertical-align: top;\n",
       "    }\n",
       "\n",
       "    .dataframe thead th {\n",
       "        text-align: right;\n",
       "    }\n",
       "</style>\n",
       "<table border=\"1\" class=\"dataframe\">\n",
       "  <thead>\n",
       "    <tr style=\"text-align: right;\">\n",
       "      <th></th>\n",
       "      <th>labels</th>\n",
       "      <th>color</th>\n",
       "      <th>name</th>\n",
       "      <th>age</th>\n",
       "      <th>behavior</th>\n",
       "    </tr>\n",
       "  </thead>\n",
       "  <tbody>\n",
       "    <tr>\n",
       "      <td>0</td>\n",
       "      <td>{Dog, Pet}</td>\n",
       "      <td>black</td>\n",
       "      <td>Ralph</td>\n",
       "      <td>10.0</td>\n",
       "      <td>NaN</td>\n",
       "    </tr>\n",
       "    <tr>\n",
       "      <td>1</td>\n",
       "      <td>{Cat, Pet}</td>\n",
       "      <td>yellow</td>\n",
       "      <td>Pip</td>\n",
       "      <td>6.0</td>\n",
       "      <td>good</td>\n",
       "    </tr>\n",
       "    <tr>\n",
       "      <td>2</td>\n",
       "      <td>{Pig, Pet}</td>\n",
       "      <td>NaN</td>\n",
       "      <td>Babe</td>\n",
       "      <td>3.0</td>\n",
       "      <td>NaN</td>\n",
       "    </tr>\n",
       "    <tr>\n",
       "      <td>3</td>\n",
       "      <td>{Fish, Pet}</td>\n",
       "      <td>red</td>\n",
       "      <td>Bubbles</td>\n",
       "      <td>NaN</td>\n",
       "      <td>acceptable</td>\n",
       "    </tr>\n",
       "    <tr>\n",
       "      <td>4</td>\n",
       "      <td>{Horse, Pet}</td>\n",
       "      <td>brown</td>\n",
       "      <td>Freckles</td>\n",
       "      <td>NaN</td>\n",
       "      <td>NaN</td>\n",
       "    </tr>\n",
       "  </tbody>\n",
       "</table>\n",
       "</div>"
      ],
      "text/plain": [
       "         labels   color      name   age    behavior\n",
       "0    {Dog, Pet}   black     Ralph  10.0         NaN\n",
       "1    {Cat, Pet}  yellow       Pip   6.0        good\n",
       "2    {Pig, Pet}     NaN      Babe   3.0         NaN\n",
       "3   {Fish, Pet}     red   Bubbles   NaN  acceptable\n",
       "4  {Horse, Pet}   brown  Freckles   NaN         NaN"
      ]
     },
     "execution_count": 22,
     "metadata": {},
     "output_type": "execute_result"
    }
   ],
   "source": [
    "graph.semi_join(all_pets, on='name', labels={'Pet'})"
   ]
  },
  {
   "cell_type": "markdown",
   "metadata": {},
   "source": [
    "### Anti-Join"
   ]
  },
  {
   "cell_type": "code",
   "execution_count": 26,
   "metadata": {},
   "outputs": [
    {
     "data": {
      "text/html": [
       "<div>\n",
       "<style scoped>\n",
       "    .dataframe tbody tr th:only-of-type {\n",
       "        vertical-align: middle;\n",
       "    }\n",
       "\n",
       "    .dataframe tbody tr th {\n",
       "        vertical-align: top;\n",
       "    }\n",
       "\n",
       "    .dataframe thead th {\n",
       "        text-align: right;\n",
       "    }\n",
       "</style>\n",
       "<table border=\"1\" class=\"dataframe\">\n",
       "  <thead>\n",
       "    <tr style=\"text-align: right;\">\n",
       "      <th></th>\n",
       "      <th>labels</th>\n",
       "      <th>name</th>\n",
       "      <th>color</th>\n",
       "      <th>age</th>\n",
       "      <th>behavior</th>\n",
       "    </tr>\n",
       "  </thead>\n",
       "  <tbody>\n",
       "    <tr>\n",
       "      <td>0</td>\n",
       "      <td>{Cow, Pet}</td>\n",
       "      <td>Betsy</td>\n",
       "      <td>NaN</td>\n",
       "      <td>2.0</td>\n",
       "      <td>NaN</td>\n",
       "    </tr>\n",
       "    <tr>\n",
       "      <td>1</td>\n",
       "      <td>{Rabbit, Pet}</td>\n",
       "      <td>Carrie</td>\n",
       "      <td>NaN</td>\n",
       "      <td>NaN</td>\n",
       "      <td>NaN</td>\n",
       "    </tr>\n",
       "  </tbody>\n",
       "</table>\n",
       "</div>"
      ],
      "text/plain": [
       "          labels    name color  age behavior\n",
       "0     {Cow, Pet}   Betsy   NaN  2.0      NaN\n",
       "1  {Rabbit, Pet}  Carrie   NaN  NaN      NaN"
      ]
     },
     "execution_count": 26,
     "metadata": {},
     "output_type": "execute_result"
    }
   ],
   "source": [
    "new_pets = graph.anti_join(all_pets, on='name', labels={'Pet'})\n",
    "new_pets"
   ]
  },
  {
   "cell_type": "code",
   "execution_count": null,
   "metadata": {},
   "outputs": [],
   "source": []
  }
 ],
 "metadata": {
  "kernelspec": {
   "display_name": "Python 3",
   "language": "python",
   "name": "python3"
  },
  "language_info": {
   "codemirror_mode": {
    "name": "ipython",
    "version": 3
   },
   "file_extension": ".py",
   "mimetype": "text/x-python",
   "name": "python",
   "nbconvert_exporter": "python",
   "pygments_lexer": "ipython3",
   "version": "3.7.4"
  }
 },
 "nbformat": 4,
 "nbformat_minor": 2
}
