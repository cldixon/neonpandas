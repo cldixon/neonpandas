{
 "cells": [
  {
   "cell_type": "markdown",
   "metadata": {},
   "source": [
    "# Proper Pandas Sub-Classing"
   ]
  },
  {
   "cell_type": "code",
   "execution_count": 1,
   "metadata": {},
   "outputs": [],
   "source": [
    "import pandas as pd \n",
    "from pandas import DataFrame\n",
    "from utils import df_tools\n",
    "\n",
    "import neonpandas as npd\n",
    "from neonpandas import NodeFrame, EdgeFrame\n",
    "from utils.df_tools import conform_to_set"
   ]
  },
  {
   "cell_type": "code",
   "execution_count": null,
   "metadata": {},
   "outputs": [],
   "source": [
    "class EdgeFrame(DataFrame):\n",
    "    def __init__(self, data, rel_col:str=None, src_col:str='src', dest_col:str='dest'):\n",
    "        super(EdgeFrame, self).__init__(data)\n",
    "        self.rel_col = rel_col\n",
    "        if self.rel_col:\n",
    "            self.set_relationship(self.rel_col)\n",
    "        if src_col or dest_col:\n",
    "            self.src_col = self.set_src_column(src_col)\n",
    "            self.dest_col = self.set_dest_column(dest_col)\n",
    "    \n",
    "    @property\n",
    "    def _constructor(self):\n",
    "        return EdgeFrame\n",
    "    \n",
    "    def set_relationship(self, rel_col):\n",
    "        assert rel_col in self\n",
    "        _rels = self[rel_col]\n",
    "        self.drop(columns=[rel_col], inplace=True)\n",
    "        self.insert(0, 'rel_type', _rels)\n",
    "        return\n",
    "    \n",
    "    def _set_node_column(self, node_col:str):\n",
    "        if isinstance(node_col, str):\n",
    "            assert node_col in self\n",
    "            return node_col \n",
    "        elif node_col is None:\n",
    "            return node_col\n",
    "        else:\n",
    "            raise ValueError(\"'{}' column not found in EdgeFrame.\".format(node_col))\n",
    "            \n",
    "    def set_src_column(self, src_col:str):\n",
    "        return self._set_node_column(src_col)\n",
    "    \n",
    "    def set_dest_column(self, dest_col:str):\n",
    "        return self._set_node_column(dest_col)"
   ]
  },
  {
   "cell_type": "code",
   "execution_count": 2,
   "metadata": {},
   "outputs": [],
   "source": [
    "edge_data = [\n",
    "    {'src': 'Ralph', 'rel_type': 'FRIENDLY_WITH', 'dest': 'Pip', 'reporter': 'Frank'},\n",
    "    {'src': 'Ralph', 'rel_type': 'MEAN_TO', 'dest': 'Bubbles', 'reporter': 'Jane'},\n",
    "    {'src': 'Pip', 'rel_type': 'FRIENDLY_WITH', 'dest': 'Babe', 'reporter': 'Frank'}\n",
    "]"
   ]
  },
  {
   "cell_type": "code",
   "execution_count": 3,
   "metadata": {},
   "outputs": [
    {
     "name": "stdout",
     "output_type": "stream",
     "text": [
      "src dest\n"
     ]
    },
    {
     "data": {
      "text/html": [
       "<div>\n",
       "<style scoped>\n",
       "    .dataframe tbody tr th:only-of-type {\n",
       "        vertical-align: middle;\n",
       "    }\n",
       "\n",
       "    .dataframe tbody tr th {\n",
       "        vertical-align: top;\n",
       "    }\n",
       "\n",
       "    .dataframe thead th {\n",
       "        text-align: right;\n",
       "    }\n",
       "</style>\n",
       "<table border=\"1\" class=\"dataframe\">\n",
       "  <thead>\n",
       "    <tr style=\"text-align: right;\">\n",
       "      <th></th>\n",
       "      <th>src</th>\n",
       "      <th>rel_type</th>\n",
       "      <th>dest</th>\n",
       "      <th>reporter</th>\n",
       "    </tr>\n",
       "  </thead>\n",
       "  <tbody>\n",
       "    <tr>\n",
       "      <td>0</td>\n",
       "      <td>Ralph</td>\n",
       "      <td>FRIENDLY_WITH</td>\n",
       "      <td>Pip</td>\n",
       "      <td>Frank</td>\n",
       "    </tr>\n",
       "    <tr>\n",
       "      <td>1</td>\n",
       "      <td>Ralph</td>\n",
       "      <td>MEAN_TO</td>\n",
       "      <td>Bubbles</td>\n",
       "      <td>Jane</td>\n",
       "    </tr>\n",
       "    <tr>\n",
       "      <td>2</td>\n",
       "      <td>Pip</td>\n",
       "      <td>FRIENDLY_WITH</td>\n",
       "      <td>Babe</td>\n",
       "      <td>Frank</td>\n",
       "    </tr>\n",
       "  </tbody>\n",
       "</table>\n",
       "</div>"
      ],
      "text/plain": [
       "     src       rel_type     dest reporter\n",
       "0  Ralph  FRIENDLY_WITH      Pip    Frank\n",
       "1  Ralph        MEAN_TO  Bubbles     Jane\n",
       "2    Pip  FRIENDLY_WITH     Babe    Frank"
      ]
     },
     "execution_count": 3,
     "metadata": {},
     "output_type": "execute_result"
    }
   ],
   "source": [
    "ef = EdgeFrame(edge_data)\n",
    "print(ef.src_col, ef.dest_col)\n",
    "ef"
   ]
  },
  {
   "cell_type": "code",
   "execution_count": 4,
   "metadata": {},
   "outputs": [
    {
     "data": {
      "text/html": [
       "<div>\n",
       "<style scoped>\n",
       "    .dataframe tbody tr th:only-of-type {\n",
       "        vertical-align: middle;\n",
       "    }\n",
       "\n",
       "    .dataframe tbody tr th {\n",
       "        vertical-align: top;\n",
       "    }\n",
       "\n",
       "    .dataframe thead th {\n",
       "        text-align: right;\n",
       "    }\n",
       "</style>\n",
       "<table border=\"1\" class=\"dataframe\">\n",
       "  <thead>\n",
       "    <tr style=\"text-align: right;\">\n",
       "      <th></th>\n",
       "      <th>rel_type</th>\n",
       "      <th>src</th>\n",
       "      <th>dest</th>\n",
       "      <th>reporter</th>\n",
       "    </tr>\n",
       "  </thead>\n",
       "  <tbody>\n",
       "    <tr>\n",
       "      <td>0</td>\n",
       "      <td>FRIENDLY_WITH</td>\n",
       "      <td>Ralph</td>\n",
       "      <td>Pip</td>\n",
       "      <td>Frank</td>\n",
       "    </tr>\n",
       "    <tr>\n",
       "      <td>1</td>\n",
       "      <td>MEAN_TO</td>\n",
       "      <td>Ralph</td>\n",
       "      <td>Bubbles</td>\n",
       "      <td>Jane</td>\n",
       "    </tr>\n",
       "    <tr>\n",
       "      <td>2</td>\n",
       "      <td>FRIENDLY_WITH</td>\n",
       "      <td>Pip</td>\n",
       "      <td>Babe</td>\n",
       "      <td>Frank</td>\n",
       "    </tr>\n",
       "  </tbody>\n",
       "</table>\n",
       "</div>"
      ],
      "text/plain": [
       "        rel_type    src     dest reporter\n",
       "0  FRIENDLY_WITH  Ralph      Pip    Frank\n",
       "1        MEAN_TO  Ralph  Bubbles     Jane\n",
       "2  FRIENDLY_WITH    Pip     Babe    Frank"
      ]
     },
     "execution_count": 4,
     "metadata": {},
     "output_type": "execute_result"
    }
   ],
   "source": [
    "ef = EdgeFrame(edge_data, rel_col='rel_type')\n",
    "ef"
   ]
  },
  {
   "cell_type": "code",
   "execution_count": 5,
   "metadata": {},
   "outputs": [
    {
     "data": {
      "text/html": [
       "<div>\n",
       "<style scoped>\n",
       "    .dataframe tbody tr th:only-of-type {\n",
       "        vertical-align: middle;\n",
       "    }\n",
       "\n",
       "    .dataframe tbody tr th {\n",
       "        vertical-align: top;\n",
       "    }\n",
       "\n",
       "    .dataframe thead th {\n",
       "        text-align: right;\n",
       "    }\n",
       "</style>\n",
       "<table border=\"1\" class=\"dataframe\">\n",
       "  <thead>\n",
       "    <tr style=\"text-align: right;\">\n",
       "      <th></th>\n",
       "      <th>rel_type</th>\n",
       "      <th>src</th>\n",
       "      <th>dest</th>\n",
       "    </tr>\n",
       "  </thead>\n",
       "  <tbody>\n",
       "    <tr>\n",
       "      <td>0</td>\n",
       "      <td>FRIENDLY_WITH</td>\n",
       "      <td>Ralph</td>\n",
       "      <td>Pip</td>\n",
       "    </tr>\n",
       "    <tr>\n",
       "      <td>1</td>\n",
       "      <td>MEAN_TO</td>\n",
       "      <td>Ralph</td>\n",
       "      <td>Bubbles</td>\n",
       "    </tr>\n",
       "    <tr>\n",
       "      <td>2</td>\n",
       "      <td>FRIENDLY_WITH</td>\n",
       "      <td>Pip</td>\n",
       "      <td>Babe</td>\n",
       "    </tr>\n",
       "  </tbody>\n",
       "</table>\n",
       "</div>"
      ],
      "text/plain": [
       "        rel_type    src     dest\n",
       "0  FRIENDLY_WITH  Ralph      Pip\n",
       "1        MEAN_TO  Ralph  Bubbles\n",
       "2  FRIENDLY_WITH    Pip     Babe"
      ]
     },
     "execution_count": 5,
     "metadata": {},
     "output_type": "execute_result"
    }
   ],
   "source": [
    "ef.drop(columns=['reporter'], inplace=True)\n",
    "ef"
   ]
  },
  {
   "cell_type": "code",
   "execution_count": 6,
   "metadata": {},
   "outputs": [
    {
     "data": {
      "text/plain": [
       "neonpandas.EdgeFrame"
      ]
     },
     "execution_count": 6,
     "metadata": {},
     "output_type": "execute_result"
    }
   ],
   "source": [
    "type(ef)"
   ]
  },
  {
   "cell_type": "code",
   "execution_count": null,
   "metadata": {},
   "outputs": [],
   "source": [
    "class NodeFrame(DataFrame):\n",
    "    def __init__(self, data, id_col:str=None, lbl_col:str=None, labels:set=None):\n",
    "        super(NodeFrame, self).__init__(data)\n",
    "        self.id_col = self.set_id_column(id_col)\n",
    "        \n",
    "        if lbl_col or labels:\n",
    "            self.set_labels(lbl_col, labels)\n",
    "    \n",
    "    @property\n",
    "    def _constructor(self):\n",
    "        return NodeFrame\n",
    "    \n",
    "    def set_id_column(self, id_col:str):\n",
    "        if id_col in self:\n",
    "            return id_col\n",
    "        elif id_col is None:\n",
    "            return None\n",
    "        else:\n",
    "            raise ValueError(\"Column '{}' not in NodeFrame.\".format(id_col))\n",
    "        return\n",
    "    \n",
    "    def set_labels(self, lbl_col:str=None, labels:set=None):\n",
    "        if lbl_col is not None and labels is None:\n",
    "            assert lbl_col in self.columns\n",
    "            _lbls = self[lbl_col].apply(lambda x: conform_to_set(x))\n",
    "        elif lbl_col is not None and labels is not None:\n",
    "            assert lbl_col in self.columns\n",
    "            _lbls = self[lbl_col].apply(lambda x: conform_to_set(labels).union(conform_to_set(x)))\n",
    "        elif lbl_col is None and labels is not None:\n",
    "            labels = conform_to_set(labels)\n",
    "            _lbls = [labels for i in range(len(self))]\n",
    "        else:\n",
    "            raise ValueError(\"Must provide either 'labels' or 'column' as input for attribute type.\")\n",
    "        if lbl_col in self:\n",
    "            self.drop(columns=[lbl_col], inplace=True)\n",
    "        self.insert(0, 'labels', _lbls)\n",
    "        return"
   ]
  },
  {
   "cell_type": "code",
   "execution_count": null,
   "metadata": {},
   "outputs": [],
   "source": [
    "data = pd.read_csv('pets.csv')\n",
    "data"
   ]
  },
  {
   "cell_type": "code",
   "execution_count": null,
   "metadata": {},
   "outputs": [],
   "source": [
    "nf = NodeFrame(data)\n",
    "print(nf.id_col)\n",
    "nf"
   ]
  },
  {
   "cell_type": "code",
   "execution_count": null,
   "metadata": {},
   "outputs": [],
   "source": [
    "nf = NodeFrame(data, id_col='name')\n",
    "print(nf.id_col)\n",
    "nf"
   ]
  },
  {
   "cell_type": "code",
   "execution_count": null,
   "metadata": {},
   "outputs": [],
   "source": [
    "nf.set_labels(lbl_col='species', labels={'Pet'})\n",
    "nf"
   ]
  },
  {
   "cell_type": "code",
   "execution_count": null,
   "metadata": {},
   "outputs": [],
   "source": [
    "nf = NodeFrame(data, id_col='name', lbl_col='species', labels={'Pet'})\n",
    "print(nf.id_col)\n",
    "nf"
   ]
  },
  {
   "cell_type": "code",
   "execution_count": null,
   "metadata": {},
   "outputs": [],
   "source": [
    "nf.drop(columns=['behavior'], inplace=True)\n",
    "print(nf.id_col, type(nf))\n",
    "nf"
   ]
  },
  {
   "cell_type": "code",
   "execution_count": null,
   "metadata": {},
   "outputs": [],
   "source": []
  }
 ],
 "metadata": {
  "kernelspec": {
   "display_name": "Python 3",
   "language": "python",
   "name": "python3"
  },
  "language_info": {
   "codemirror_mode": {
    "name": "ipython",
    "version": 3
   },
   "file_extension": ".py",
   "mimetype": "text/x-python",
   "name": "python",
   "nbconvert_exporter": "python",
   "pygments_lexer": "ipython3",
   "version": "3.7.4"
  }
 },
 "nbformat": 4,
 "nbformat_minor": 2
}
