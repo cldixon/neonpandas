{
 "cells": [
  {
   "cell_type": "markdown",
   "metadata": {},
   "source": [
    "# Development for NeonPandas"
   ]
  },
  {
   "cell_type": "code",
   "execution_count": 2,
   "metadata": {},
   "outputs": [],
   "source": [
    "import numpy as np\n",
    "import pandas as pd \n",
    "import neonpandas as npd\n",
    "\n",
    "from utils import cypher\n",
    "from utils import df_tools\n",
    "from utils import node"
   ]
  },
  {
   "cell_type": "markdown",
   "metadata": {},
   "source": [
    "## Load Pets Dataset"
   ]
  },
  {
   "cell_type": "code",
   "execution_count": 3,
   "metadata": {},
   "outputs": [
    {
     "data": {
      "text/html": [
       "<div>\n",
       "<style scoped>\n",
       "    .dataframe tbody tr th:only-of-type {\n",
       "        vertical-align: middle;\n",
       "    }\n",
       "\n",
       "    .dataframe tbody tr th {\n",
       "        vertical-align: top;\n",
       "    }\n",
       "\n",
       "    .dataframe thead th {\n",
       "        text-align: right;\n",
       "    }\n",
       "</style>\n",
       "<table border=\"1\" class=\"dataframe\">\n",
       "  <thead>\n",
       "    <tr style=\"text-align: right;\">\n",
       "      <th></th>\n",
       "      <th>name</th>\n",
       "      <th>species</th>\n",
       "      <th>color</th>\n",
       "      <th>age</th>\n",
       "      <th>behavior</th>\n",
       "    </tr>\n",
       "  </thead>\n",
       "  <tbody>\n",
       "    <tr>\n",
       "      <td>0</td>\n",
       "      <td>Ralph</td>\n",
       "      <td>Dog</td>\n",
       "      <td>black</td>\n",
       "      <td>10.0</td>\n",
       "      <td>NaN</td>\n",
       "    </tr>\n",
       "    <tr>\n",
       "      <td>1</td>\n",
       "      <td>Pip</td>\n",
       "      <td>Cat</td>\n",
       "      <td>yellow</td>\n",
       "      <td>6.0</td>\n",
       "      <td>good</td>\n",
       "    </tr>\n",
       "    <tr>\n",
       "      <td>2</td>\n",
       "      <td>Babe</td>\n",
       "      <td>Pig</td>\n",
       "      <td>NaN</td>\n",
       "      <td>3.0</td>\n",
       "      <td>NaN</td>\n",
       "    </tr>\n",
       "    <tr>\n",
       "      <td>3</td>\n",
       "      <td>Bubbles</td>\n",
       "      <td>Fish</td>\n",
       "      <td>red</td>\n",
       "      <td>NaN</td>\n",
       "      <td>acceptable</td>\n",
       "    </tr>\n",
       "    <tr>\n",
       "      <td>4</td>\n",
       "      <td>Freckles</td>\n",
       "      <td>Horse</td>\n",
       "      <td>brown</td>\n",
       "      <td>NaN</td>\n",
       "      <td>NaN</td>\n",
       "    </tr>\n",
       "  </tbody>\n",
       "</table>\n",
       "</div>"
      ],
      "text/plain": [
       "       name species   color   age    behavior\n",
       "0     Ralph     Dog   black  10.0         NaN\n",
       "1       Pip     Cat  yellow   6.0        good\n",
       "2      Babe     Pig     NaN   3.0         NaN\n",
       "3   Bubbles    Fish     red   NaN  acceptable\n",
       "4  Freckles   Horse   brown   NaN         NaN"
      ]
     },
     "execution_count": 3,
     "metadata": {},
     "output_type": "execute_result"
    }
   ],
   "source": [
    "data = pd.read_csv('pets.csv')\n",
    "data"
   ]
  },
  {
   "cell_type": "markdown",
   "metadata": {},
   "source": [
    "## NeonPandas NodeFrame\n",
    "Look behind the scenes (e.g. `pets`) to see the _neo_node_ index that makes this all work."
   ]
  },
  {
   "cell_type": "code",
   "execution_count": 4,
   "metadata": {
    "scrolled": true
   },
   "outputs": [
    {
     "data": {
      "text/html": [
       "<style  type=\"text/css\" >\n",
       "</style><table id=\"T_ed5f4ce8_c47c_11ea_8ebc_784f43755733\" ><thead>    <tr>        <th class=\"col_heading level0 col0\" >labels</th>        <th class=\"col_heading level0 col1\" >name</th>        <th class=\"col_heading level0 col2\" >color</th>        <th class=\"col_heading level0 col3\" >age</th>        <th class=\"col_heading level0 col4\" >behavior</th>    </tr></thead><tbody>\n",
       "                <tr>\n",
       "                                <td id=\"T_ed5f4ce8_c47c_11ea_8ebc_784f43755733row0_col0\" class=\"data row0 col0\" >('Pet', 'Dog')</td>\n",
       "                        <td id=\"T_ed5f4ce8_c47c_11ea_8ebc_784f43755733row0_col1\" class=\"data row0 col1\" >Ralph</td>\n",
       "                        <td id=\"T_ed5f4ce8_c47c_11ea_8ebc_784f43755733row0_col2\" class=\"data row0 col2\" >black</td>\n",
       "                        <td id=\"T_ed5f4ce8_c47c_11ea_8ebc_784f43755733row0_col3\" class=\"data row0 col3\" >10</td>\n",
       "                        <td id=\"T_ed5f4ce8_c47c_11ea_8ebc_784f43755733row0_col4\" class=\"data row0 col4\" >nan</td>\n",
       "            </tr>\n",
       "            <tr>\n",
       "                                <td id=\"T_ed5f4ce8_c47c_11ea_8ebc_784f43755733row1_col0\" class=\"data row1 col0\" >('Pet', 'Cat')</td>\n",
       "                        <td id=\"T_ed5f4ce8_c47c_11ea_8ebc_784f43755733row1_col1\" class=\"data row1 col1\" >Pip</td>\n",
       "                        <td id=\"T_ed5f4ce8_c47c_11ea_8ebc_784f43755733row1_col2\" class=\"data row1 col2\" >yellow</td>\n",
       "                        <td id=\"T_ed5f4ce8_c47c_11ea_8ebc_784f43755733row1_col3\" class=\"data row1 col3\" >6</td>\n",
       "                        <td id=\"T_ed5f4ce8_c47c_11ea_8ebc_784f43755733row1_col4\" class=\"data row1 col4\" >good</td>\n",
       "            </tr>\n",
       "            <tr>\n",
       "                                <td id=\"T_ed5f4ce8_c47c_11ea_8ebc_784f43755733row2_col0\" class=\"data row2 col0\" >('Pet', 'Pig')</td>\n",
       "                        <td id=\"T_ed5f4ce8_c47c_11ea_8ebc_784f43755733row2_col1\" class=\"data row2 col1\" >Babe</td>\n",
       "                        <td id=\"T_ed5f4ce8_c47c_11ea_8ebc_784f43755733row2_col2\" class=\"data row2 col2\" >nan</td>\n",
       "                        <td id=\"T_ed5f4ce8_c47c_11ea_8ebc_784f43755733row2_col3\" class=\"data row2 col3\" >3</td>\n",
       "                        <td id=\"T_ed5f4ce8_c47c_11ea_8ebc_784f43755733row2_col4\" class=\"data row2 col4\" >nan</td>\n",
       "            </tr>\n",
       "            <tr>\n",
       "                                <td id=\"T_ed5f4ce8_c47c_11ea_8ebc_784f43755733row3_col0\" class=\"data row3 col0\" >('Pet', 'Fish')</td>\n",
       "                        <td id=\"T_ed5f4ce8_c47c_11ea_8ebc_784f43755733row3_col1\" class=\"data row3 col1\" >Bubbles</td>\n",
       "                        <td id=\"T_ed5f4ce8_c47c_11ea_8ebc_784f43755733row3_col2\" class=\"data row3 col2\" >red</td>\n",
       "                        <td id=\"T_ed5f4ce8_c47c_11ea_8ebc_784f43755733row3_col3\" class=\"data row3 col3\" >nan</td>\n",
       "                        <td id=\"T_ed5f4ce8_c47c_11ea_8ebc_784f43755733row3_col4\" class=\"data row3 col4\" >acceptable</td>\n",
       "            </tr>\n",
       "            <tr>\n",
       "                                <td id=\"T_ed5f4ce8_c47c_11ea_8ebc_784f43755733row4_col0\" class=\"data row4 col0\" >('Pet', 'Horse')</td>\n",
       "                        <td id=\"T_ed5f4ce8_c47c_11ea_8ebc_784f43755733row4_col1\" class=\"data row4 col1\" >Freckles</td>\n",
       "                        <td id=\"T_ed5f4ce8_c47c_11ea_8ebc_784f43755733row4_col2\" class=\"data row4 col2\" >brown</td>\n",
       "                        <td id=\"T_ed5f4ce8_c47c_11ea_8ebc_784f43755733row4_col3\" class=\"data row4 col3\" >nan</td>\n",
       "                        <td id=\"T_ed5f4ce8_c47c_11ea_8ebc_784f43755733row4_col4\" class=\"data row4 col4\" >nan</td>\n",
       "            </tr>\n",
       "    </tbody></table>"
      ],
      "text/plain": [
       "<pandas.io.formats.style.Styler at 0x7ffc3386dcd0>"
      ]
     },
     "execution_count": 4,
     "metadata": {},
     "output_type": "execute_result"
    }
   ],
   "source": [
    "pets = npd.NodeFrame(data, id_col='name', lbl_col='species', labels='Pet')\n",
    "pets.show()"
   ]
  },
  {
   "cell_type": "code",
   "execution_count": 5,
   "metadata": {},
   "outputs": [
    {
     "data": {
      "text/html": [
       "<div>\n",
       "<style scoped>\n",
       "    .dataframe tbody tr th:only-of-type {\n",
       "        vertical-align: middle;\n",
       "    }\n",
       "\n",
       "    .dataframe tbody tr th {\n",
       "        vertical-align: top;\n",
       "    }\n",
       "\n",
       "    .dataframe thead th {\n",
       "        text-align: right;\n",
       "    }\n",
       "</style>\n",
       "<table border=\"1\" class=\"dataframe\">\n",
       "  <thead>\n",
       "    <tr style=\"text-align: right;\">\n",
       "      <th></th>\n",
       "      <th>labels</th>\n",
       "      <th>name</th>\n",
       "      <th>color</th>\n",
       "      <th>age</th>\n",
       "      <th>behavior</th>\n",
       "    </tr>\n",
       "    <tr>\n",
       "      <th>node</th>\n",
       "      <th></th>\n",
       "      <th></th>\n",
       "      <th></th>\n",
       "      <th></th>\n",
       "      <th></th>\n",
       "    </tr>\n",
       "  </thead>\n",
       "  <tbody>\n",
       "    <tr>\n",
       "      <td>(n:Pet:Dog {name: \"Ralph\"})</td>\n",
       "      <td>(Pet, Dog)</td>\n",
       "      <td>Ralph</td>\n",
       "      <td>black</td>\n",
       "      <td>10.0</td>\n",
       "      <td>NaN</td>\n",
       "    </tr>\n",
       "    <tr>\n",
       "      <td>(n:Pet:Cat {name: \"Pip\"})</td>\n",
       "      <td>(Pet, Cat)</td>\n",
       "      <td>Pip</td>\n",
       "      <td>yellow</td>\n",
       "      <td>6.0</td>\n",
       "      <td>good</td>\n",
       "    </tr>\n",
       "    <tr>\n",
       "      <td>(n:Pet:Pig {name: \"Babe\"})</td>\n",
       "      <td>(Pet, Pig)</td>\n",
       "      <td>Babe</td>\n",
       "      <td>NaN</td>\n",
       "      <td>3.0</td>\n",
       "      <td>NaN</td>\n",
       "    </tr>\n",
       "    <tr>\n",
       "      <td>(n:Pet:Fish {name: \"Bubbles\"})</td>\n",
       "      <td>(Pet, Fish)</td>\n",
       "      <td>Bubbles</td>\n",
       "      <td>red</td>\n",
       "      <td>NaN</td>\n",
       "      <td>acceptable</td>\n",
       "    </tr>\n",
       "    <tr>\n",
       "      <td>(n:Pet:Horse {name: \"Freckles\"})</td>\n",
       "      <td>(Pet, Horse)</td>\n",
       "      <td>Freckles</td>\n",
       "      <td>brown</td>\n",
       "      <td>NaN</td>\n",
       "      <td>NaN</td>\n",
       "    </tr>\n",
       "  </tbody>\n",
       "</table>\n",
       "</div>"
      ],
      "text/plain": [
       "                                        labels      name   color   age  \\\n",
       "node                                                                     \n",
       "(n:Pet:Dog {name: \"Ralph\"})         (Pet, Dog)     Ralph   black  10.0   \n",
       "(n:Pet:Cat {name: \"Pip\"})           (Pet, Cat)       Pip  yellow   6.0   \n",
       "(n:Pet:Pig {name: \"Babe\"})          (Pet, Pig)      Babe     NaN   3.0   \n",
       "(n:Pet:Fish {name: \"Bubbles\"})     (Pet, Fish)   Bubbles     red   NaN   \n",
       "(n:Pet:Horse {name: \"Freckles\"})  (Pet, Horse)  Freckles   brown   NaN   \n",
       "\n",
       "                                    behavior  \n",
       "node                                          \n",
       "(n:Pet:Dog {name: \"Ralph\"})              NaN  \n",
       "(n:Pet:Cat {name: \"Pip\"})               good  \n",
       "(n:Pet:Pig {name: \"Babe\"})               NaN  \n",
       "(n:Pet:Fish {name: \"Bubbles\"})    acceptable  \n",
       "(n:Pet:Horse {name: \"Freckles\"})         NaN  "
      ]
     },
     "execution_count": 5,
     "metadata": {},
     "output_type": "execute_result"
    }
   ],
   "source": [
    "pets"
   ]
  },
  {
   "cell_type": "markdown",
   "metadata": {},
   "source": [
    "## Set up Graph"
   ]
  },
  {
   "cell_type": "code",
   "execution_count": null,
   "metadata": {},
   "outputs": [],
   "source": [
    "graph = npd.Graph(uri='bolt://localhost:7687', auth=('neo4j', 'neonpandas'))"
   ]
  },
  {
   "cell_type": "markdown",
   "metadata": {},
   "source": [
    "### Creates Nodes"
   ]
  },
  {
   "cell_type": "code",
   "execution_count": null,
   "metadata": {},
   "outputs": [],
   "source": [
    "graph.create_nodes(pets)"
   ]
  },
  {
   "cell_type": "markdown",
   "metadata": {},
   "source": [
    "## NeonPandas EdgeFrame"
   ]
  },
  {
   "cell_type": "code",
   "execution_count": 56,
   "metadata": {},
   "outputs": [
    {
     "data": {
      "text/html": [
       "<div>\n",
       "<style scoped>\n",
       "    .dataframe tbody tr th:only-of-type {\n",
       "        vertical-align: middle;\n",
       "    }\n",
       "\n",
       "    .dataframe tbody tr th {\n",
       "        vertical-align: top;\n",
       "    }\n",
       "\n",
       "    .dataframe thead th {\n",
       "        text-align: right;\n",
       "    }\n",
       "</style>\n",
       "<table border=\"1\" class=\"dataframe\">\n",
       "  <thead>\n",
       "    <tr style=\"text-align: right;\">\n",
       "      <th></th>\n",
       "      <th>src</th>\n",
       "      <th>rel_type</th>\n",
       "      <th>dest</th>\n",
       "      <th>reporter</th>\n",
       "    </tr>\n",
       "  </thead>\n",
       "  <tbody>\n",
       "    <tr>\n",
       "      <td>0</td>\n",
       "      <td>Ralph</td>\n",
       "      <td>FRIENDLY_WITH</td>\n",
       "      <td>Bubbles</td>\n",
       "      <td>Jenny</td>\n",
       "    </tr>\n",
       "    <tr>\n",
       "      <td>1</td>\n",
       "      <td>Pip</td>\n",
       "      <td>MEAN_TO</td>\n",
       "      <td>Babe</td>\n",
       "      <td>Frank</td>\n",
       "    </tr>\n",
       "    <tr>\n",
       "      <td>2</td>\n",
       "      <td>Ralph</td>\n",
       "      <td>MEAN_TO</td>\n",
       "      <td>Freckles</td>\n",
       "      <td>Frank</td>\n",
       "    </tr>\n",
       "    <tr>\n",
       "      <td>3</td>\n",
       "      <td>Freckles</td>\n",
       "      <td>FRIENDLY_WITH</td>\n",
       "      <td>Babe</td>\n",
       "      <td>Tommy</td>\n",
       "    </tr>\n",
       "    <tr>\n",
       "      <td>4</td>\n",
       "      <td>Pip</td>\n",
       "      <td>JUST_MET</td>\n",
       "      <td>Barney</td>\n",
       "      <td>Jenny</td>\n",
       "    </tr>\n",
       "  </tbody>\n",
       "</table>\n",
       "</div>"
      ],
      "text/plain": [
       "        src       rel_type      dest reporter\n",
       "0     Ralph  FRIENDLY_WITH   Bubbles    Jenny\n",
       "1       Pip        MEAN_TO      Babe    Frank\n",
       "2     Ralph        MEAN_TO  Freckles    Frank\n",
       "3  Freckles  FRIENDLY_WITH      Babe    Tommy\n",
       "4       Pip       JUST_MET    Barney    Jenny"
      ]
     },
     "execution_count": 56,
     "metadata": {},
     "output_type": "execute_result"
    }
   ],
   "source": [
    "edges = pd.DataFrame([\n",
    "    {'src': 'Ralph', 'rel_type': 'FRIENDLY_WITH', 'dest': 'Bubbles', 'reporter': 'Jenny'},\n",
    "    {'src': 'Pip', 'rel_type': 'MEAN_TO', 'dest': 'Babe', 'reporter': 'Frank'},\n",
    "    {'src': 'Ralph', 'rel_type': 'MEAN_TO', 'dest': 'Freckles', 'reporter': 'Frank'},\n",
    "    {'src': 'Freckles', 'rel_type': 'FRIENDLY_WITH', 'dest': 'Babe', 'reporter': 'Tommy'},\n",
    "    {'src': 'Pip', 'rel_type': 'JUST_MET', 'dest': 'Barney', 'reporter': 'Jenny'}\n",
    "])\n",
    "edges"
   ]
  },
  {
   "cell_type": "markdown",
   "metadata": {},
   "source": [
    "#### Requirements for EdgeFrame\n",
    "- Designate source, relationship-type, and dest columns (i.e. src, dest, rel_type)\n",
    "- Ability to join **src** and **dest** cols with NodeFrame to get ID info (e.g. labels, id_props, etc.)\n",
    "- `create_edges()` method with option to set **src** and **dest** (individually) to `MATCH` or `MERGE`\n",
    "- Assumes all columns in EdgeFrame beyond **src**, **dest**, and **rel-type** are edge properties"
   ]
  },
  {
   "cell_type": "code",
   "execution_count": 57,
   "metadata": {},
   "outputs": [
    {
     "data": {
      "text/html": [
       "<style  type=\"text/css\" >\n",
       "</style><table id=\"T_c0315c86_c47f_11ea_8ebc_784f43755733\" ><thead>    <tr>        <th class=\"col_heading level0 col0\" >rel_type</th>        <th class=\"col_heading level0 col1\" >src</th>        <th class=\"col_heading level0 col2\" >dest</th>        <th class=\"col_heading level0 col3\" >reporter</th>    </tr></thead><tbody>\n",
       "                <tr>\n",
       "                                <td id=\"T_c0315c86_c47f_11ea_8ebc_784f43755733row0_col0\" class=\"data row0 col0\" >FRIENDLY_WITH</td>\n",
       "                        <td id=\"T_c0315c86_c47f_11ea_8ebc_784f43755733row0_col1\" class=\"data row0 col1\" >Ralph</td>\n",
       "                        <td id=\"T_c0315c86_c47f_11ea_8ebc_784f43755733row0_col2\" class=\"data row0 col2\" >Bubbles</td>\n",
       "                        <td id=\"T_c0315c86_c47f_11ea_8ebc_784f43755733row0_col3\" class=\"data row0 col3\" >Jenny</td>\n",
       "            </tr>\n",
       "            <tr>\n",
       "                                <td id=\"T_c0315c86_c47f_11ea_8ebc_784f43755733row1_col0\" class=\"data row1 col0\" >MEAN_TO</td>\n",
       "                        <td id=\"T_c0315c86_c47f_11ea_8ebc_784f43755733row1_col1\" class=\"data row1 col1\" >Pip</td>\n",
       "                        <td id=\"T_c0315c86_c47f_11ea_8ebc_784f43755733row1_col2\" class=\"data row1 col2\" >Babe</td>\n",
       "                        <td id=\"T_c0315c86_c47f_11ea_8ebc_784f43755733row1_col3\" class=\"data row1 col3\" >Frank</td>\n",
       "            </tr>\n",
       "            <tr>\n",
       "                                <td id=\"T_c0315c86_c47f_11ea_8ebc_784f43755733row2_col0\" class=\"data row2 col0\" >MEAN_TO</td>\n",
       "                        <td id=\"T_c0315c86_c47f_11ea_8ebc_784f43755733row2_col1\" class=\"data row2 col1\" >Ralph</td>\n",
       "                        <td id=\"T_c0315c86_c47f_11ea_8ebc_784f43755733row2_col2\" class=\"data row2 col2\" >Freckles</td>\n",
       "                        <td id=\"T_c0315c86_c47f_11ea_8ebc_784f43755733row2_col3\" class=\"data row2 col3\" >Frank</td>\n",
       "            </tr>\n",
       "            <tr>\n",
       "                                <td id=\"T_c0315c86_c47f_11ea_8ebc_784f43755733row3_col0\" class=\"data row3 col0\" >FRIENDLY_WITH</td>\n",
       "                        <td id=\"T_c0315c86_c47f_11ea_8ebc_784f43755733row3_col1\" class=\"data row3 col1\" >Freckles</td>\n",
       "                        <td id=\"T_c0315c86_c47f_11ea_8ebc_784f43755733row3_col2\" class=\"data row3 col2\" >Babe</td>\n",
       "                        <td id=\"T_c0315c86_c47f_11ea_8ebc_784f43755733row3_col3\" class=\"data row3 col3\" >Tommy</td>\n",
       "            </tr>\n",
       "            <tr>\n",
       "                                <td id=\"T_c0315c86_c47f_11ea_8ebc_784f43755733row4_col0\" class=\"data row4 col0\" >JUST_MET</td>\n",
       "                        <td id=\"T_c0315c86_c47f_11ea_8ebc_784f43755733row4_col1\" class=\"data row4 col1\" >Pip</td>\n",
       "                        <td id=\"T_c0315c86_c47f_11ea_8ebc_784f43755733row4_col2\" class=\"data row4 col2\" >Barney</td>\n",
       "                        <td id=\"T_c0315c86_c47f_11ea_8ebc_784f43755733row4_col3\" class=\"data row4 col3\" >Jenny</td>\n",
       "            </tr>\n",
       "    </tbody></table>"
      ],
      "text/plain": [
       "<pandas.io.formats.style.Styler at 0x7ffc35f5ab90>"
      ]
     },
     "execution_count": 57,
     "metadata": {},
     "output_type": "execute_result"
    }
   ],
   "source": [
    "edges = npd.EdgeFrame(edges, rel_col='rel_type')\n",
    "#edges = npd.EdgeFrame(edges[['src', 'dest']], rel_type='SHARES_OWNER')\n",
    "edges.show()"
   ]
  },
  {
   "cell_type": "code",
   "execution_count": 29,
   "metadata": {},
   "outputs": [],
   "source": [
    "a = pets.index.to_series()"
   ]
  },
  {
   "cell_type": "code",
   "execution_count": 30,
   "metadata": {},
   "outputs": [],
   "source": [
    "b = owners.index.to_series()"
   ]
  },
  {
   "cell_type": "code",
   "execution_count": 36,
   "metadata": {},
   "outputs": [],
   "source": [
    "c = pd.concat([a, b])"
   ]
  },
  {
   "cell_type": "code",
   "execution_count": 38,
   "metadata": {},
   "outputs": [
    {
     "data": {
      "text/plain": [
       "[(n:Pet:Dog {name: \"Ralph\"}),\n",
       " (n:Pet:Cat {name: \"Pip\"}),\n",
       " (n:Pet:Pig {name: \"Babe\"}),\n",
       " (n:Pet:Fish {name: \"Bubbles\"}),\n",
       " (n:Pet:Horse {name: \"Freckles\"}),\n",
       " (n:Owner {name: \"Dan\"}),\n",
       " (n:Owner {name: \"Barbara\"}),\n",
       " (n:Owner {name: \"John\"})]"
      ]
     },
     "execution_count": 38,
     "metadata": {},
     "output_type": "execute_result"
    }
   ],
   "source": [
    "c.to_list()"
   ]
  },
  {
   "cell_type": "code",
   "execution_count": 55,
   "metadata": {},
   "outputs": [],
   "source": [
    "def get_nodeframe_index(nf):\n",
    "    if isinstance(nf, list):\n",
    "        return pd.concat([n.index.to_series() for n in nf]).to_list()\n",
    "    elif isinstance(nf, npd.NodeFrame):\n",
    "        return nf.index.to_list()\n",
    "    else:\n",
    "        raise ValueError(\"Input not recognized.\")\n",
    "\n",
    "def enrich_edgeframe(edges, nodes, src_default:str=None, dest_default:str=None):\n",
    "    src_col, dest_col = edges.src_col, edges.dest_col\n",
    "    # handle nodes\n",
    "    node_idx = get_nodeframe_index(nodes)\n",
    "    # convert src and dest cols to Node type\n",
    "    \n",
    "    ## ** problem here: how to address .id_col when multiple nodeframes are provided (and even smashed into one)??\n",
    "    ## maybe will just have to assign nodeframes to src and dest columns\n",
    "    ## but then perhaps need to re-evaluate entire approach ????\n",
    "    edges[src_col] = edges[src_col].apply(lambda x: node.Node(src_default, nodes.id_col, x))\n",
    "    edges[dest_col] = edges[dest_col].apply(lambda x: node.Node(dest_default, nodes.id_col, x))\n",
    "    \n",
    "    # match to nodes in NodeFrame\n",
    "    edges[src_col] = edges[src_col].apply(lambda x: node.find_match(x, node_idx))\n",
    "    edges[dest_col] = edges[dest_col].apply(lambda x: node.find_match(x, node_idx))\n",
    "    return edges"
   ]
  },
  {
   "cell_type": "code",
   "execution_count": 58,
   "metadata": {},
   "outputs": [
    {
     "data": {
      "text/html": [
       "<div>\n",
       "<style scoped>\n",
       "    .dataframe tbody tr th:only-of-type {\n",
       "        vertical-align: middle;\n",
       "    }\n",
       "\n",
       "    .dataframe tbody tr th {\n",
       "        vertical-align: top;\n",
       "    }\n",
       "\n",
       "    .dataframe thead th {\n",
       "        text-align: right;\n",
       "    }\n",
       "</style>\n",
       "<table border=\"1\" class=\"dataframe\">\n",
       "  <thead>\n",
       "    <tr style=\"text-align: right;\">\n",
       "      <th></th>\n",
       "      <th>rel_type</th>\n",
       "      <th>src</th>\n",
       "      <th>dest</th>\n",
       "      <th>reporter</th>\n",
       "    </tr>\n",
       "  </thead>\n",
       "  <tbody>\n",
       "    <tr>\n",
       "      <td>0</td>\n",
       "      <td>FRIENDLY_WITH</td>\n",
       "      <td>(n:Pet:Dog {name: \"Ralph\"})</td>\n",
       "      <td>(n:Pet:Fish {name: \"Bubbles\"})</td>\n",
       "      <td>Jenny</td>\n",
       "    </tr>\n",
       "    <tr>\n",
       "      <td>1</td>\n",
       "      <td>MEAN_TO</td>\n",
       "      <td>(n:Pet:Cat {name: \"Pip\"})</td>\n",
       "      <td>(n:Pet:Pig {name: \"Babe\"})</td>\n",
       "      <td>Frank</td>\n",
       "    </tr>\n",
       "    <tr>\n",
       "      <td>2</td>\n",
       "      <td>MEAN_TO</td>\n",
       "      <td>(n:Pet:Dog {name: \"Ralph\"})</td>\n",
       "      <td>(n:Pet:Horse {name: \"Freckles\"})</td>\n",
       "      <td>Frank</td>\n",
       "    </tr>\n",
       "    <tr>\n",
       "      <td>3</td>\n",
       "      <td>FRIENDLY_WITH</td>\n",
       "      <td>(n:Pet:Horse {name: \"Freckles\"})</td>\n",
       "      <td>(n:Pet:Pig {name: \"Babe\"})</td>\n",
       "      <td>Tommy</td>\n",
       "    </tr>\n",
       "    <tr>\n",
       "      <td>4</td>\n",
       "      <td>JUST_MET</td>\n",
       "      <td>(n:Pet:Cat {name: \"Pip\"})</td>\n",
       "      <td>(n:Pet {name: \"Barney\"})</td>\n",
       "      <td>Jenny</td>\n",
       "    </tr>\n",
       "  </tbody>\n",
       "</table>\n",
       "</div>"
      ],
      "text/plain": [
       "        rel_type                               src  \\\n",
       "0  FRIENDLY_WITH       (n:Pet:Dog {name: \"Ralph\"})   \n",
       "1        MEAN_TO         (n:Pet:Cat {name: \"Pip\"})   \n",
       "2        MEAN_TO       (n:Pet:Dog {name: \"Ralph\"})   \n",
       "3  FRIENDLY_WITH  (n:Pet:Horse {name: \"Freckles\"})   \n",
       "4       JUST_MET         (n:Pet:Cat {name: \"Pip\"})   \n",
       "\n",
       "                               dest reporter  \n",
       "0    (n:Pet:Fish {name: \"Bubbles\"})    Jenny  \n",
       "1        (n:Pet:Pig {name: \"Babe\"})    Frank  \n",
       "2  (n:Pet:Horse {name: \"Freckles\"})    Frank  \n",
       "3        (n:Pet:Pig {name: \"Babe\"})    Tommy  \n",
       "4          (n:Pet {name: \"Barney\"})    Jenny  "
      ]
     },
     "execution_count": 58,
     "metadata": {},
     "output_type": "execute_result"
    }
   ],
   "source": [
    "test = enrich_edgeframe(edges, pets, src_default='Pet', dest_default='Pet')\n",
    "test"
   ]
  },
  {
   "cell_type": "code",
   "execution_count": 59,
   "metadata": {},
   "outputs": [],
   "source": [
    "owner_data = [\n",
    "    {'name': 'Dan', 'mood': 'good'},\n",
    "    {'name': 'Barbara', 'mood': 'okay'},\n",
    "    {'name': 'John', 'mood': 'bad'}\n",
    "]\n",
    "\n",
    "pet_owner_data = [\n",
    "    {'src': 'Dan', 'rel_type': 'OWNS', 'dest': 'Freckles'},\n",
    "    {'src': 'Barbara', 'rel_type': 'OWNS', 'dest': 'Ralph'},\n",
    "    {'src': 'John', 'rel_type': 'TRAINED', 'dest': 'Babe'},\n",
    "    {'src': 'Barbara', 'rel_type': 'FEEDS', 'dest': 'Pip'}\n",
    "]"
   ]
  },
  {
   "cell_type": "code",
   "execution_count": 60,
   "metadata": {},
   "outputs": [
    {
     "data": {
      "text/html": [
       "<div>\n",
       "<style scoped>\n",
       "    .dataframe tbody tr th:only-of-type {\n",
       "        vertical-align: middle;\n",
       "    }\n",
       "\n",
       "    .dataframe tbody tr th {\n",
       "        vertical-align: top;\n",
       "    }\n",
       "\n",
       "    .dataframe thead th {\n",
       "        text-align: right;\n",
       "    }\n",
       "</style>\n",
       "<table border=\"1\" class=\"dataframe\">\n",
       "  <thead>\n",
       "    <tr style=\"text-align: right;\">\n",
       "      <th></th>\n",
       "      <th>labels</th>\n",
       "      <th>name</th>\n",
       "      <th>mood</th>\n",
       "    </tr>\n",
       "    <tr>\n",
       "      <th>node</th>\n",
       "      <th></th>\n",
       "      <th></th>\n",
       "      <th></th>\n",
       "    </tr>\n",
       "  </thead>\n",
       "  <tbody>\n",
       "    <tr>\n",
       "      <td>(n:Owner {name: \"Dan\"})</td>\n",
       "      <td>(Owner,)</td>\n",
       "      <td>Dan</td>\n",
       "      <td>good</td>\n",
       "    </tr>\n",
       "    <tr>\n",
       "      <td>(n:Owner {name: \"Barbara\"})</td>\n",
       "      <td>(Owner,)</td>\n",
       "      <td>Barbara</td>\n",
       "      <td>okay</td>\n",
       "    </tr>\n",
       "    <tr>\n",
       "      <td>(n:Owner {name: \"John\"})</td>\n",
       "      <td>(Owner,)</td>\n",
       "      <td>John</td>\n",
       "      <td>bad</td>\n",
       "    </tr>\n",
       "  </tbody>\n",
       "</table>\n",
       "</div>"
      ],
      "text/plain": [
       "                               labels     name  mood\n",
       "node                                                \n",
       "(n:Owner {name: \"Dan\"})      (Owner,)      Dan  good\n",
       "(n:Owner {name: \"Barbara\"})  (Owner,)  Barbara  okay\n",
       "(n:Owner {name: \"John\"})     (Owner,)     John   bad"
      ]
     },
     "execution_count": 60,
     "metadata": {},
     "output_type": "execute_result"
    }
   ],
   "source": [
    "owners = npd.NodeFrame(owner_data, id_col='name', labels=('Owner'))\n",
    "owners"
   ]
  },
  {
   "cell_type": "code",
   "execution_count": 61,
   "metadata": {},
   "outputs": [
    {
     "data": {
      "text/html": [
       "<style  type=\"text/css\" >\n",
       "</style><table id=\"T_cbf9d174_c47f_11ea_8ebc_784f43755733\" ><thead>    <tr>        <th class=\"col_heading level0 col0\" >rel_type</th>        <th class=\"col_heading level0 col1\" >src</th>        <th class=\"col_heading level0 col2\" >dest</th>    </tr></thead><tbody>\n",
       "                <tr>\n",
       "                                <td id=\"T_cbf9d174_c47f_11ea_8ebc_784f43755733row0_col0\" class=\"data row0 col0\" >OWNS</td>\n",
       "                        <td id=\"T_cbf9d174_c47f_11ea_8ebc_784f43755733row0_col1\" class=\"data row0 col1\" >Dan</td>\n",
       "                        <td id=\"T_cbf9d174_c47f_11ea_8ebc_784f43755733row0_col2\" class=\"data row0 col2\" >Freckles</td>\n",
       "            </tr>\n",
       "            <tr>\n",
       "                                <td id=\"T_cbf9d174_c47f_11ea_8ebc_784f43755733row1_col0\" class=\"data row1 col0\" >OWNS</td>\n",
       "                        <td id=\"T_cbf9d174_c47f_11ea_8ebc_784f43755733row1_col1\" class=\"data row1 col1\" >Barbara</td>\n",
       "                        <td id=\"T_cbf9d174_c47f_11ea_8ebc_784f43755733row1_col2\" class=\"data row1 col2\" >Ralph</td>\n",
       "            </tr>\n",
       "            <tr>\n",
       "                                <td id=\"T_cbf9d174_c47f_11ea_8ebc_784f43755733row2_col0\" class=\"data row2 col0\" >TRAINED</td>\n",
       "                        <td id=\"T_cbf9d174_c47f_11ea_8ebc_784f43755733row2_col1\" class=\"data row2 col1\" >John</td>\n",
       "                        <td id=\"T_cbf9d174_c47f_11ea_8ebc_784f43755733row2_col2\" class=\"data row2 col2\" >Babe</td>\n",
       "            </tr>\n",
       "            <tr>\n",
       "                                <td id=\"T_cbf9d174_c47f_11ea_8ebc_784f43755733row3_col0\" class=\"data row3 col0\" >FEEDS</td>\n",
       "                        <td id=\"T_cbf9d174_c47f_11ea_8ebc_784f43755733row3_col1\" class=\"data row3 col1\" >Barbara</td>\n",
       "                        <td id=\"T_cbf9d174_c47f_11ea_8ebc_784f43755733row3_col2\" class=\"data row3 col2\" >Pip</td>\n",
       "            </tr>\n",
       "    </tbody></table>"
      ],
      "text/plain": [
       "<pandas.io.formats.style.Styler at 0x7ffc35204510>"
      ]
     },
     "execution_count": 61,
     "metadata": {},
     "output_type": "execute_result"
    }
   ],
   "source": [
    "pet_owner_edges = npd.EdgeFrame(pet_owner_data, rel_col='rel_type')\n",
    "pet_owner_edges.show()"
   ]
  },
  {
   "cell_type": "code",
   "execution_count": 62,
   "metadata": {},
   "outputs": [
    {
     "ename": "AttributeError",
     "evalue": "'list' object has no attribute 'id_col'",
     "output_type": "error",
     "traceback": [
      "\u001b[0;31m---------------------------------------------------------------------------\u001b[0m",
      "\u001b[0;31mAttributeError\u001b[0m                            Traceback (most recent call last)",
      "\u001b[0;32m<ipython-input-62-eb2b26c6d5d6>\u001b[0m in \u001b[0;36m<module>\u001b[0;34m\u001b[0m\n\u001b[0;32m----> 1\u001b[0;31m \u001b[0mtest\u001b[0m \u001b[0;34m=\u001b[0m \u001b[0menrich_edgeframe\u001b[0m\u001b[0;34m(\u001b[0m\u001b[0mpet_owner_edges\u001b[0m\u001b[0;34m,\u001b[0m \u001b[0mnodes\u001b[0m\u001b[0;34m=\u001b[0m\u001b[0;34m[\u001b[0m\u001b[0mpets\u001b[0m\u001b[0;34m,\u001b[0m \u001b[0mowners\u001b[0m\u001b[0;34m]\u001b[0m\u001b[0;34m,\u001b[0m \u001b[0msrc_default\u001b[0m\u001b[0;34m=\u001b[0m\u001b[0;34m'Owner'\u001b[0m\u001b[0;34m,\u001b[0m \u001b[0mdest_default\u001b[0m\u001b[0;34m=\u001b[0m\u001b[0;34m'Pet'\u001b[0m\u001b[0;34m)\u001b[0m\u001b[0;34m\u001b[0m\u001b[0;34m\u001b[0m\u001b[0m\n\u001b[0m\u001b[1;32m      2\u001b[0m \u001b[0mtest\u001b[0m\u001b[0;34m\u001b[0m\u001b[0;34m\u001b[0m\u001b[0m\n",
      "\u001b[0;32m<ipython-input-55-6fafe3066523>\u001b[0m in \u001b[0;36menrich_edgeframe\u001b[0;34m(edges, nodes, src_default, dest_default)\u001b[0m\n\u001b[1;32m     12\u001b[0m     \u001b[0mnode_idx\u001b[0m \u001b[0;34m=\u001b[0m \u001b[0mget_nodeframe_index\u001b[0m\u001b[0;34m(\u001b[0m\u001b[0mnodes\u001b[0m\u001b[0;34m)\u001b[0m\u001b[0;34m\u001b[0m\u001b[0;34m\u001b[0m\u001b[0m\n\u001b[1;32m     13\u001b[0m     \u001b[0;31m# convert src and dest cols to Node type\u001b[0m\u001b[0;34m\u001b[0m\u001b[0;34m\u001b[0m\u001b[0;34m\u001b[0m\u001b[0m\n\u001b[0;32m---> 14\u001b[0;31m     \u001b[0medges\u001b[0m\u001b[0;34m[\u001b[0m\u001b[0msrc_col\u001b[0m\u001b[0;34m]\u001b[0m \u001b[0;34m=\u001b[0m \u001b[0medges\u001b[0m\u001b[0;34m[\u001b[0m\u001b[0msrc_col\u001b[0m\u001b[0;34m]\u001b[0m\u001b[0;34m.\u001b[0m\u001b[0mapply\u001b[0m\u001b[0;34m(\u001b[0m\u001b[0;32mlambda\u001b[0m \u001b[0mx\u001b[0m\u001b[0;34m:\u001b[0m \u001b[0mnode\u001b[0m\u001b[0;34m.\u001b[0m\u001b[0mNode\u001b[0m\u001b[0;34m(\u001b[0m\u001b[0msrc_default\u001b[0m\u001b[0;34m,\u001b[0m \u001b[0mnodes\u001b[0m\u001b[0;34m.\u001b[0m\u001b[0mid_col\u001b[0m\u001b[0;34m,\u001b[0m \u001b[0mx\u001b[0m\u001b[0;34m)\u001b[0m\u001b[0;34m)\u001b[0m\u001b[0;34m\u001b[0m\u001b[0;34m\u001b[0m\u001b[0m\n\u001b[0m\u001b[1;32m     15\u001b[0m     \u001b[0medges\u001b[0m\u001b[0;34m[\u001b[0m\u001b[0mdest_col\u001b[0m\u001b[0;34m]\u001b[0m \u001b[0;34m=\u001b[0m \u001b[0medges\u001b[0m\u001b[0;34m[\u001b[0m\u001b[0mdest_col\u001b[0m\u001b[0;34m]\u001b[0m\u001b[0;34m.\u001b[0m\u001b[0mapply\u001b[0m\u001b[0;34m(\u001b[0m\u001b[0;32mlambda\u001b[0m \u001b[0mx\u001b[0m\u001b[0;34m:\u001b[0m \u001b[0mnode\u001b[0m\u001b[0;34m.\u001b[0m\u001b[0mNode\u001b[0m\u001b[0;34m(\u001b[0m\u001b[0mdest_default\u001b[0m\u001b[0;34m,\u001b[0m \u001b[0mnodes\u001b[0m\u001b[0;34m.\u001b[0m\u001b[0mid_col\u001b[0m\u001b[0;34m,\u001b[0m \u001b[0mx\u001b[0m\u001b[0;34m)\u001b[0m\u001b[0;34m)\u001b[0m\u001b[0;34m\u001b[0m\u001b[0;34m\u001b[0m\u001b[0m\n\u001b[1;32m     16\u001b[0m \u001b[0;34m\u001b[0m\u001b[0m\n",
      "\u001b[0;32m/opt/anaconda3/lib/python3.7/site-packages/pandas/core/series.py\u001b[0m in \u001b[0;36mapply\u001b[0;34m(self, func, convert_dtype, args, **kwds)\u001b[0m\n\u001b[1;32m   4040\u001b[0m             \u001b[0;32melse\u001b[0m\u001b[0;34m:\u001b[0m\u001b[0;34m\u001b[0m\u001b[0;34m\u001b[0m\u001b[0m\n\u001b[1;32m   4041\u001b[0m                 \u001b[0mvalues\u001b[0m \u001b[0;34m=\u001b[0m \u001b[0mself\u001b[0m\u001b[0;34m.\u001b[0m\u001b[0mastype\u001b[0m\u001b[0;34m(\u001b[0m\u001b[0mobject\u001b[0m\u001b[0;34m)\u001b[0m\u001b[0;34m.\u001b[0m\u001b[0mvalues\u001b[0m\u001b[0;34m\u001b[0m\u001b[0;34m\u001b[0m\u001b[0m\n\u001b[0;32m-> 4042\u001b[0;31m                 \u001b[0mmapped\u001b[0m \u001b[0;34m=\u001b[0m \u001b[0mlib\u001b[0m\u001b[0;34m.\u001b[0m\u001b[0mmap_infer\u001b[0m\u001b[0;34m(\u001b[0m\u001b[0mvalues\u001b[0m\u001b[0;34m,\u001b[0m \u001b[0mf\u001b[0m\u001b[0;34m,\u001b[0m \u001b[0mconvert\u001b[0m\u001b[0;34m=\u001b[0m\u001b[0mconvert_dtype\u001b[0m\u001b[0;34m)\u001b[0m\u001b[0;34m\u001b[0m\u001b[0;34m\u001b[0m\u001b[0m\n\u001b[0m\u001b[1;32m   4043\u001b[0m \u001b[0;34m\u001b[0m\u001b[0m\n\u001b[1;32m   4044\u001b[0m         \u001b[0;32mif\u001b[0m \u001b[0mlen\u001b[0m\u001b[0;34m(\u001b[0m\u001b[0mmapped\u001b[0m\u001b[0;34m)\u001b[0m \u001b[0;32mand\u001b[0m \u001b[0misinstance\u001b[0m\u001b[0;34m(\u001b[0m\u001b[0mmapped\u001b[0m\u001b[0;34m[\u001b[0m\u001b[0;36m0\u001b[0m\u001b[0;34m]\u001b[0m\u001b[0;34m,\u001b[0m \u001b[0mSeries\u001b[0m\u001b[0;34m)\u001b[0m\u001b[0;34m:\u001b[0m\u001b[0;34m\u001b[0m\u001b[0;34m\u001b[0m\u001b[0m\n",
      "\u001b[0;32mpandas/_libs/lib.pyx\u001b[0m in \u001b[0;36mpandas._libs.lib.map_infer\u001b[0;34m()\u001b[0m\n",
      "\u001b[0;32m<ipython-input-55-6fafe3066523>\u001b[0m in \u001b[0;36m<lambda>\u001b[0;34m(x)\u001b[0m\n\u001b[1;32m     12\u001b[0m     \u001b[0mnode_idx\u001b[0m \u001b[0;34m=\u001b[0m \u001b[0mget_nodeframe_index\u001b[0m\u001b[0;34m(\u001b[0m\u001b[0mnodes\u001b[0m\u001b[0;34m)\u001b[0m\u001b[0;34m\u001b[0m\u001b[0;34m\u001b[0m\u001b[0m\n\u001b[1;32m     13\u001b[0m     \u001b[0;31m# convert src and dest cols to Node type\u001b[0m\u001b[0;34m\u001b[0m\u001b[0;34m\u001b[0m\u001b[0;34m\u001b[0m\u001b[0m\n\u001b[0;32m---> 14\u001b[0;31m     \u001b[0medges\u001b[0m\u001b[0;34m[\u001b[0m\u001b[0msrc_col\u001b[0m\u001b[0;34m]\u001b[0m \u001b[0;34m=\u001b[0m \u001b[0medges\u001b[0m\u001b[0;34m[\u001b[0m\u001b[0msrc_col\u001b[0m\u001b[0;34m]\u001b[0m\u001b[0;34m.\u001b[0m\u001b[0mapply\u001b[0m\u001b[0;34m(\u001b[0m\u001b[0;32mlambda\u001b[0m \u001b[0mx\u001b[0m\u001b[0;34m:\u001b[0m \u001b[0mnode\u001b[0m\u001b[0;34m.\u001b[0m\u001b[0mNode\u001b[0m\u001b[0;34m(\u001b[0m\u001b[0msrc_default\u001b[0m\u001b[0;34m,\u001b[0m \u001b[0mnodes\u001b[0m\u001b[0;34m.\u001b[0m\u001b[0mid_col\u001b[0m\u001b[0;34m,\u001b[0m \u001b[0mx\u001b[0m\u001b[0;34m)\u001b[0m\u001b[0;34m)\u001b[0m\u001b[0;34m\u001b[0m\u001b[0;34m\u001b[0m\u001b[0m\n\u001b[0m\u001b[1;32m     15\u001b[0m     \u001b[0medges\u001b[0m\u001b[0;34m[\u001b[0m\u001b[0mdest_col\u001b[0m\u001b[0;34m]\u001b[0m \u001b[0;34m=\u001b[0m \u001b[0medges\u001b[0m\u001b[0;34m[\u001b[0m\u001b[0mdest_col\u001b[0m\u001b[0;34m]\u001b[0m\u001b[0;34m.\u001b[0m\u001b[0mapply\u001b[0m\u001b[0;34m(\u001b[0m\u001b[0;32mlambda\u001b[0m \u001b[0mx\u001b[0m\u001b[0;34m:\u001b[0m \u001b[0mnode\u001b[0m\u001b[0;34m.\u001b[0m\u001b[0mNode\u001b[0m\u001b[0;34m(\u001b[0m\u001b[0mdest_default\u001b[0m\u001b[0;34m,\u001b[0m \u001b[0mnodes\u001b[0m\u001b[0;34m.\u001b[0m\u001b[0mid_col\u001b[0m\u001b[0;34m,\u001b[0m \u001b[0mx\u001b[0m\u001b[0;34m)\u001b[0m\u001b[0;34m)\u001b[0m\u001b[0;34m\u001b[0m\u001b[0;34m\u001b[0m\u001b[0m\n\u001b[1;32m     16\u001b[0m \u001b[0;34m\u001b[0m\u001b[0m\n",
      "\u001b[0;31mAttributeError\u001b[0m: 'list' object has no attribute 'id_col'"
     ]
    }
   ],
   "source": [
    "test = enrich_edgeframe(pet_owner_edges, nodes=[pets, owners], src_default='Owner', dest_default='Pet')\n",
    "test"
   ]
  },
  {
   "cell_type": "markdown",
   "metadata": {},
   "source": [
    "## EdgeFrame Joins to NodeFrame\n",
    "There are 2 proposed approaches:\n",
    "1. Join via the Node-Index created already in the NodeFrame (via the Node class)\n",
    "    - Allows for more dynamic/flexible joining (e.g. variable labels)\n",
    "    - Incorporates node labels into join; not exclusively relying on column names\n",
    "    - Provides a kind of hidden link between specific nodes across node and edge frames\n",
    "    \n",
    "\n",
    "2. Join via designated id columns provided within NodeFrame object(s)\n",
    "    - More explicit to user; but also requires a little more attention"
   ]
  },
  {
   "cell_type": "code",
   "execution_count": null,
   "metadata": {},
   "outputs": [],
   "source": [
    "def enrich_edgeframe(edges, nodes, default=None):\n",
    "    src_default, dest_default = _parse_default_param(default)\n",
    "    src_lbls = '{}_labels'.format(edges.src_col)\n",
    "    dest_lbls = '{}_labels'.format(edges.dest_col)\n",
    "    # src join\n",
    "    test = edges.merge(nodes[[nodes.id_col, 'labels']],\n",
    "                      left_on=edges.src_col, right_on=nodes.id_col,\n",
    "                      how='left').rename(columns={'labels': src_lbls})\n",
    "    # dest join\n",
    "    test = test.merge(nodes[[nodes.id_col, 'labels']],\n",
    "                     left_on=edges.dest_col, right_on=nodes.id_col,\n",
    "                     how='left', suffixes=('_src', '_dest')).rename(columns={'labels': dest_lbls})\n",
    "    # drop extraneous columns\n",
    "    test.drop(test.filter(regex='(_src|_dest)').columns, axis=1, inplace=True)\n",
    "    # if some nodes from edgeframe were not matched to nodeframe\n",
    "    # fill in default labels (src & dest)\n",
    "    test = handle_nan_nodes(test, src_lbls, src_default)\n",
    "    test = handle_nan_nodes(test, dest_lbls, dest_default)\n",
    "    # convert src field and labels to Node object\n",
    "    test[edges.src_col] = df_tools._generate_node_idx(test, key=nodes.id_col, \n",
    "                                                      value_col=edges.src_col, \n",
    "                                                      lbls_col=src_lbls, var='s')\n",
    "    test[edges.dest_col] = df_tools._generate_node_idx(test, key=nodes.id_col, \n",
    "                                                       value_col=edges.dest_col, \n",
    "                                                       lbls_col=dest_lbls, var='d')\n",
    "    test.drop(test.filter(regex='_labels').columns, axis=1, inplace=True)\n",
    "    return test\n",
    "\n",
    "def _parse_default_param(default):\n",
    "    if isinstance(default, tuple):\n",
    "        src_default, dest_default = default\n",
    "    elif isinstance(default, str):\n",
    "        src_default = default\n",
    "        dest_default = default\n",
    "    else:\n",
    "        src_default = None\n",
    "        dest_default = None\n",
    "    return src_default, dest_default\n",
    "\n",
    "def handle_nan_nodes(edges, col, col_default):\n",
    "    _nans = edges[col].isnull().values\n",
    "    if _nans.any():\n",
    "        if col_default:\n",
    "            # get indices of nan values\n",
    "            nan_idx = np.where(_nans == True)[0]\n",
    "            edges[col][nan_idx] = df_tools.conform_to_tuple(col_default,)\n",
    "        else:\n",
    "            error_msg = \"\"\"{s} column contains {n} nan values after merge with NodeFrame.\n",
    "            This may be because a node in the {s} column is not present in\n",
    "            the NodeFrame. Use the 'src_default' parameter to provide a\n",
    "            default Node Label for {s} nodes not found in NodeFrame.\"\"\".format(s=col, n=_nans.shape[0])\n",
    "            raise ValueError(error_msg)\n",
    "    return edges"
   ]
  },
  {
   "cell_type": "code",
   "execution_count": null,
   "metadata": {},
   "outputs": [],
   "source": [
    "test = enrich_edgeframe(edges, pets, default='Pet')\n",
    "test"
   ]
  },
  {
   "cell_type": "code",
   "execution_count": null,
   "metadata": {},
   "outputs": [],
   "source": [
    "## left to do ----\n",
    "## 1. Merge with multiple NodeFrames (ie an array)\n",
    "##    this is essential for EdgeFrame that contain edges\n",
    "##    going from one node class to another (e.g. Pets --> Owners)\n",
    "## 2. [DONE] how to insert EdgeFrame into cypher query\n",
    "## 3. Revisit joining/merging between EdgeFrame & NodeFrame\n",
    "##.   consider how to use Node Match feature"
   ]
  },
  {
   "cell_type": "markdown",
   "metadata": {},
   "source": [
    "### Node Joining\n",
    "Perform _join_ operations with an input DataFrame against nodes in Neo4j."
   ]
  },
  {
   "cell_type": "code",
   "execution_count": null,
   "metadata": {},
   "outputs": [],
   "source": [
    "new_pets = pd.DataFrame([\n",
    "    {'name': 'Betsy', 'age': 2, 'species': 'Cow'},\n",
    "    {'name': 'Carrie', 'species': 'Rabbit'}\n",
    "])\n",
    "all_pets = pd.concat([data, new_pets], sort=False).reset_index(drop=True)"
   ]
  },
  {
   "cell_type": "code",
   "execution_count": null,
   "metadata": {},
   "outputs": [],
   "source": [
    "all_pets = npd.NodeFrame(all_pets, id_col='name', lbl_col='species', labels={'Pet'})\n",
    "all_pets"
   ]
  },
  {
   "cell_type": "markdown",
   "metadata": {},
   "source": [
    "### Semi-Join\n",
    "Check which nodes in DataFrame exist in Neo4j."
   ]
  },
  {
   "cell_type": "code",
   "execution_count": null,
   "metadata": {},
   "outputs": [],
   "source": [
    "graph.semi_join(all_pets, on='name', labels='Pet')"
   ]
  },
  {
   "cell_type": "markdown",
   "metadata": {},
   "source": [
    "### Anti-Join\n",
    "Check which nodes in DataFrame do not exist in Neo4j."
   ]
  },
  {
   "cell_type": "code",
   "execution_count": null,
   "metadata": {},
   "outputs": [],
   "source": [
    "graph.anti_join(all_pets, on='name', labels='Pet')"
   ]
  },
  {
   "cell_type": "markdown",
   "metadata": {},
   "source": [
    "## Match Nodes\n",
    "Search for nodes via `MATCH` statement"
   ]
  },
  {
   "cell_type": "code",
   "execution_count": null,
   "metadata": {},
   "outputs": [],
   "source": [
    "graph.match_nodes(labels={'Pet'}, limit=3)"
   ]
  },
  {
   "cell_type": "code",
   "execution_count": null,
   "metadata": {},
   "outputs": [],
   "source": [
    "## add properties to search\n",
    "graph.match_nodes(labels={'Pet'}, properties={'name': 'Ralph'})"
   ]
  },
  {
   "cell_type": "markdown",
   "metadata": {},
   "source": [
    "## Dynamic Relationship Merge Via APOC\n",
    "Holy cow this works!"
   ]
  },
  {
   "cell_type": "code",
   "execution_count": null,
   "metadata": {},
   "outputs": [],
   "source": [
    "test"
   ]
  },
  {
   "cell_type": "code",
   "execution_count": null,
   "metadata": {},
   "outputs": [],
   "source": [
    "# try to recreate below loop via pandas dataframe\n",
    "test['src_lbls'] = test[edges.src_col].apply(lambda x: x.labels.tolist())\n",
    "test['src_id'] = test[edges.src_col].apply(lambda x: x._get_id())\n",
    "test['dest_lbls'] = test[edges.dest_col].apply(lambda x: x.labels.tolist())\n",
    "test['dest_id'] = test[edges.dest_col].apply(lambda x: x._get_id())\n",
    "test.drop(columns=[edges.src_col, edges.dest_col], inplace=True)\n",
    "test"
   ]
  },
  {
   "cell_type": "code",
   "execution_count": null,
   "metadata": {},
   "outputs": [],
   "source": [
    "properties= test[[col for col in test.columns \n",
    "                  if col not in ['rel_type', 'src_lbls', 'dest_lbls', 'src_id', 'dest_id']]]\n",
    "properties = df_tools.convert_to_records(properties)\n",
    "test['properties'] = properties\n",
    "test"
   ]
  },
  {
   "cell_type": "code",
   "execution_count": null,
   "metadata": {},
   "outputs": [],
   "source": [
    "apoc_edges = test.to_dict('records')\n",
    "apoc_edges[0]"
   ]
  },
  {
   "cell_type": "code",
   "execution_count": null,
   "metadata": {},
   "outputs": [],
   "source": [
    "query = \"\"\"UNWIND $edges AS edge\n",
    "            CALL apoc.merge.node(edge.src_lbls, edge.src_id) YIELD node AS src\n",
    "            WITH src, edge\n",
    "            CALL apoc.merge.node(edge.dest_lbls, edge.dest_id) YIELD node AS dest\n",
    "            WITH src, dest, edge\n",
    "            CALL apoc.merge.relationship(src, edge.rel_type, edge.properties, {}, dest) YIELD rel\n",
    "            RETURN COUNT(rel)\"\"\""
   ]
  },
  {
   "cell_type": "code",
   "execution_count": null,
   "metadata": {},
   "outputs": [],
   "source": [
    "graph.run(query, {'edges': apoc_edges})"
   ]
  },
  {
   "cell_type": "code",
   "execution_count": null,
   "metadata": {},
   "outputs": [],
   "source": []
  },
  {
   "cell_type": "code",
   "execution_count": null,
   "metadata": {},
   "outputs": [],
   "source": []
  },
  {
   "cell_type": "code",
   "execution_count": null,
   "metadata": {},
   "outputs": [],
   "source": []
  }
 ],
 "metadata": {
  "kernelspec": {
   "display_name": "Python 3",
   "language": "python",
   "name": "python3"
  },
  "language_info": {
   "codemirror_mode": {
    "name": "ipython",
    "version": 3
   },
   "file_extension": ".py",
   "mimetype": "text/x-python",
   "name": "python",
   "nbconvert_exporter": "python",
   "pygments_lexer": "ipython3",
   "version": "3.7.4"
  }
 },
 "nbformat": 4,
 "nbformat_minor": 2
}
