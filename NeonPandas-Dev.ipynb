{
 "cells": [
  {
   "cell_type": "code",
   "execution_count": 1,
   "metadata": {},
   "outputs": [],
   "source": [
    "import pandas as pd \n",
    "from lib.graph import Graph\n",
    "\n",
    "from utils import df_tools\n",
    "from utils import cypher\n",
    "from utils import neo_utils"
   ]
  },
  {
   "cell_type": "code",
   "execution_count": 2,
   "metadata": {},
   "outputs": [
    {
     "data": {
      "text/html": [
       "<div>\n",
       "<style scoped>\n",
       "    .dataframe tbody tr th:only-of-type {\n",
       "        vertical-align: middle;\n",
       "    }\n",
       "\n",
       "    .dataframe tbody tr th {\n",
       "        vertical-align: top;\n",
       "    }\n",
       "\n",
       "    .dataframe thead th {\n",
       "        text-align: right;\n",
       "    }\n",
       "</style>\n",
       "<table border=\"1\" class=\"dataframe\">\n",
       "  <thead>\n",
       "    <tr style=\"text-align: right;\">\n",
       "      <th></th>\n",
       "      <th>name</th>\n",
       "      <th>species</th>\n",
       "      <th>color</th>\n",
       "      <th>age</th>\n",
       "      <th>behavior</th>\n",
       "    </tr>\n",
       "  </thead>\n",
       "  <tbody>\n",
       "    <tr>\n",
       "      <td>0</td>\n",
       "      <td>Ralph</td>\n",
       "      <td>Dog</td>\n",
       "      <td>black</td>\n",
       "      <td>10.0</td>\n",
       "      <td>NaN</td>\n",
       "    </tr>\n",
       "    <tr>\n",
       "      <td>1</td>\n",
       "      <td>Pip</td>\n",
       "      <td>Cat</td>\n",
       "      <td>yellow</td>\n",
       "      <td>6.0</td>\n",
       "      <td>good</td>\n",
       "    </tr>\n",
       "    <tr>\n",
       "      <td>2</td>\n",
       "      <td>Babe</td>\n",
       "      <td>Pig</td>\n",
       "      <td>NaN</td>\n",
       "      <td>3.0</td>\n",
       "      <td>NaN</td>\n",
       "    </tr>\n",
       "    <tr>\n",
       "      <td>3</td>\n",
       "      <td>Bubbles</td>\n",
       "      <td>Fish</td>\n",
       "      <td>red</td>\n",
       "      <td>NaN</td>\n",
       "      <td>acceptable</td>\n",
       "    </tr>\n",
       "    <tr>\n",
       "      <td>4</td>\n",
       "      <td>Freckles</td>\n",
       "      <td>Horse</td>\n",
       "      <td>brown</td>\n",
       "      <td>NaN</td>\n",
       "      <td>NaN</td>\n",
       "    </tr>\n",
       "  </tbody>\n",
       "</table>\n",
       "</div>"
      ],
      "text/plain": [
       "       name species   color   age    behavior\n",
       "0     Ralph     Dog   black  10.0         NaN\n",
       "1       Pip     Cat  yellow   6.0        good\n",
       "2      Babe     Pig     NaN   3.0         NaN\n",
       "3   Bubbles    Fish     red   NaN  acceptable\n",
       "4  Freckles   Horse   brown   NaN         NaN"
      ]
     },
     "execution_count": 2,
     "metadata": {},
     "output_type": "execute_result"
    }
   ],
   "source": [
    "pets = pd.read_csv('pets.csv')\n",
    "pets"
   ]
  },
  {
   "cell_type": "markdown",
   "metadata": {},
   "source": [
    "## Set up Graph"
   ]
  },
  {
   "cell_type": "code",
   "execution_count": 3,
   "metadata": {},
   "outputs": [],
   "source": [
    "uri = 'bolt://localhost:7687'\n",
    "auth = ('neo4j', 'neonpandas')"
   ]
  },
  {
   "cell_type": "code",
   "execution_count": 4,
   "metadata": {},
   "outputs": [],
   "source": [
    "graph = Graph(uri, auth)"
   ]
  },
  {
   "cell_type": "markdown",
   "metadata": {},
   "source": [
    "### Creates Nodes via DataFrame"
   ]
  },
  {
   "cell_type": "code",
   "execution_count": null,
   "metadata": {},
   "outputs": [],
   "source": [
    "graph.create_nodes(pets, attr='Pet', use_column='species')"
   ]
  },
  {
   "cell_type": "markdown",
   "metadata": {},
   "source": [
    "### Create Constraints via DataFrame"
   ]
  },
  {
   "cell_type": "code",
   "execution_count": null,
   "metadata": {},
   "outputs": [],
   "source": [
    "constraints = pd.DataFrame([\n",
    "    {'attr': 'Pet', 'property': 'name'}, \n",
    "    {'attr': 'Owner', 'property': 'name'}\n",
    "])\n",
    "constraints"
   ]
  },
  {
   "cell_type": "code",
   "execution_count": null,
   "metadata": {},
   "outputs": [],
   "source": [
    "# create from dataframe\n",
    "graph.create_node_constraints(constraints)"
   ]
  },
  {
   "cell_type": "markdown",
   "metadata": {},
   "source": [
    "### Create Edges"
   ]
  },
  {
   "cell_type": "code",
   "execution_count": null,
   "metadata": {},
   "outputs": [],
   "source": [
    "edges = pd.DataFrame([\n",
    "    {'src': 'Ralph', 'rel_type': 'SHARES_OWNER', 'dest': 'Bubbles'},\n",
    "    {'src': 'Pip', 'rel_type': 'SHARES_OWNER', 'dest': 'Babe'},\n",
    "    {'src': 'Ralph', 'rel_type': 'SHARES_OWNER', 'dest': 'Freckles'}\n",
    "])\n",
    "edges"
   ]
  },
  {
   "cell_type": "code",
   "execution_count": null,
   "metadata": {},
   "outputs": [],
   "source": [
    "query = \"\"\"UNWIND $edges AS edge\n",
    "        MATCH (s:Pet {name: edge.src})\n",
    "        MATCH (d:Pet {name: edge.dest})\n",
    "        WITH s,d,edge\n",
    "        CALL apoc.merge.relationship(s, edge.rel_type, {}, {}, d) YIELD rel\n",
    "        RETURN COUNT(rel)\"\"\""
   ]
  },
  {
   "cell_type": "code",
   "execution_count": null,
   "metadata": {},
   "outputs": [],
   "source": [
    "graph.create_relationships(edges, query)"
   ]
  },
  {
   "cell_type": "markdown",
   "metadata": {},
   "source": [
    "### Node Matching"
   ]
  },
  {
   "cell_type": "code",
   "execution_count": 5,
   "metadata": {},
   "outputs": [
    {
     "data": {
      "text/html": [
       "<div>\n",
       "<style scoped>\n",
       "    .dataframe tbody tr th:only-of-type {\n",
       "        vertical-align: middle;\n",
       "    }\n",
       "\n",
       "    .dataframe tbody tr th {\n",
       "        vertical-align: top;\n",
       "    }\n",
       "\n",
       "    .dataframe thead th {\n",
       "        text-align: right;\n",
       "    }\n",
       "</style>\n",
       "<table border=\"1\" class=\"dataframe\">\n",
       "  <thead>\n",
       "    <tr style=\"text-align: right;\">\n",
       "      <th></th>\n",
       "      <th>name</th>\n",
       "      <th>species</th>\n",
       "      <th>color</th>\n",
       "      <th>age</th>\n",
       "      <th>behavior</th>\n",
       "    </tr>\n",
       "  </thead>\n",
       "  <tbody>\n",
       "    <tr>\n",
       "      <td>0</td>\n",
       "      <td>Ralph</td>\n",
       "      <td>Dog</td>\n",
       "      <td>black</td>\n",
       "      <td>10.0</td>\n",
       "      <td>NaN</td>\n",
       "    </tr>\n",
       "    <tr>\n",
       "      <td>1</td>\n",
       "      <td>Pip</td>\n",
       "      <td>Cat</td>\n",
       "      <td>yellow</td>\n",
       "      <td>6.0</td>\n",
       "      <td>good</td>\n",
       "    </tr>\n",
       "    <tr>\n",
       "      <td>2</td>\n",
       "      <td>Babe</td>\n",
       "      <td>Pig</td>\n",
       "      <td>NaN</td>\n",
       "      <td>3.0</td>\n",
       "      <td>NaN</td>\n",
       "    </tr>\n",
       "    <tr>\n",
       "      <td>3</td>\n",
       "      <td>Bubbles</td>\n",
       "      <td>Fish</td>\n",
       "      <td>red</td>\n",
       "      <td>NaN</td>\n",
       "      <td>acceptable</td>\n",
       "    </tr>\n",
       "    <tr>\n",
       "      <td>4</td>\n",
       "      <td>Freckles</td>\n",
       "      <td>Horse</td>\n",
       "      <td>brown</td>\n",
       "      <td>NaN</td>\n",
       "      <td>NaN</td>\n",
       "    </tr>\n",
       "    <tr>\n",
       "      <td>0</td>\n",
       "      <td>Betsy</td>\n",
       "      <td>Cow</td>\n",
       "      <td>NaN</td>\n",
       "      <td>2.0</td>\n",
       "      <td>NaN</td>\n",
       "    </tr>\n",
       "    <tr>\n",
       "      <td>1</td>\n",
       "      <td>Carrie</td>\n",
       "      <td>Rabbit</td>\n",
       "      <td>NaN</td>\n",
       "      <td>NaN</td>\n",
       "      <td>NaN</td>\n",
       "    </tr>\n",
       "  </tbody>\n",
       "</table>\n",
       "</div>"
      ],
      "text/plain": [
       "       name species   color   age    behavior\n",
       "0     Ralph     Dog   black  10.0         NaN\n",
       "1       Pip     Cat  yellow   6.0        good\n",
       "2      Babe     Pig     NaN   3.0         NaN\n",
       "3   Bubbles    Fish     red   NaN  acceptable\n",
       "4  Freckles   Horse   brown   NaN         NaN\n",
       "0     Betsy     Cow     NaN   2.0         NaN\n",
       "1    Carrie  Rabbit     NaN   NaN         NaN"
      ]
     },
     "execution_count": 5,
     "metadata": {},
     "output_type": "execute_result"
    }
   ],
   "source": [
    "new_pets = pd.DataFrame([\n",
    "    {'name': 'Betsy', 'age': 2, 'species': 'Cow'},\n",
    "    {'name': 'Carrie', 'species': 'Rabbit'}\n",
    "])\n",
    "all_pets = pd.concat([pets, new_pets], sort=False)\n",
    "all_pets"
   ]
  },
  {
   "cell_type": "code",
   "execution_count": 23,
   "metadata": {},
   "outputs": [],
   "source": [
    "def node_match(nodes:pd.DataFrame, on:str, attr:str, return_all=True) -> pd.DataFrame:\n",
    "    query = cypher.bulk_node_match_query(attr=attr, field=on)\n",
    "    print(query)\n",
    "    nodes = df_tools.convert_to_records(nodes)\n",
    "    with graph.driver.session() as session:\n",
    "        result = session.read_transaction(neo_utils._bulk_node_match, nodes, query)\n",
    "    return result"
   ]
  },
  {
   "cell_type": "code",
   "execution_count": 24,
   "metadata": {},
   "outputs": [
    {
     "name": "stdout",
     "output_type": "stream",
     "text": [
      "UNWIND $nodes AS node\n",
      "    MATCH (n:Pet { name: node.name })\n",
      "    RETURN n.name AS name\n"
     ]
    }
   ],
   "source": [
    "test = node_match(all_pets, on='name', attr='Pet')"
   ]
  },
  {
   "cell_type": "code",
   "execution_count": 41,
   "metadata": {},
   "outputs": [],
   "source": [
    "def print_friends(tx, name):\n",
    "    for record in tx.run(\"MATCH (a:Person)-[:KNOWS]->(friend) WHERE a.name = $name \"\n",
    "                         \"RETURN friend.name ORDER BY friend.name\", name=name):\n",
    "        print(record[\"friend.name\"])\n",
    "        \n",
    "def get_nodes(tx):\n",
    "    return tx.run('MATCH (n) RETURN n')"
   ]
  },
  {
   "cell_type": "code",
   "execution_count": 69,
   "metadata": {},
   "outputs": [],
   "source": [
    "## this works!\n",
    "session = graph.driver.session()\n",
    "result = session.run('MATCH (n) RETURN n')"
   ]
  },
  {
   "cell_type": "code",
   "execution_count": 71,
   "metadata": {},
   "outputs": [
    {
     "data": {
      "text/plain": [
       "[<Node id=10 labels=frozenset({'Dog', 'Pet'}) properties={'color': 'black', 'name': 'Ralph', 'age': 10.0}>,\n",
       " <Node id=11 labels=frozenset({'Cat', 'Pet'}) properties={'name': 'Pip', 'color': 'yellow', 'behavior': 'good', 'age': 6.0}>,\n",
       " <Node id=12 labels=frozenset({'Pig', 'Pet'}) properties={'name': 'Babe', 'age': 3.0}>,\n",
       " <Node id=13 labels=frozenset({'Fish', 'Pet'}) properties={'color': 'red', 'name': 'Bubbles', 'behavior': 'acceptable'}>,\n",
       " <Node id=14 labels=frozenset({'Horse', 'Pet'}) properties={'color': 'brown', 'name': 'Freckles'}>]"
      ]
     },
     "execution_count": 71,
     "metadata": {},
     "output_type": "execute_result"
    }
   ],
   "source": [
    "[n for n in result.graph().nodes]"
   ]
  },
  {
   "cell_type": "code",
   "execution_count": 65,
   "metadata": {},
   "outputs": [],
   "source": [
    "## need to construct a dataframe from these results\n",
    "## change attributes to labels (re: terminology)\n",
    "## re-work session/runs/transactions using above approach\n",
    "## push repo to git (after creating README and .gitignore)"
   ]
  },
  {
   "cell_type": "code",
   "execution_count": 66,
   "metadata": {},
   "outputs": [
    {
     "ename": "IndexError",
     "evalue": "list index out of range",
     "output_type": "error",
     "traceback": [
      "\u001b[0;31m---------------------------------------------------------------------------\u001b[0m",
      "\u001b[0;31mIndexError\u001b[0m                                Traceback (most recent call last)",
      "\u001b[0;32m<ipython-input-66-6caaab14b5ef>\u001b[0m in \u001b[0;36m<module>\u001b[0;34m\u001b[0m\n\u001b[0;32m----> 1\u001b[0;31m \u001b[0mtest\u001b[0m\u001b[0;34m[\u001b[0m\u001b[0;36m0\u001b[0m\u001b[0;34m]\u001b[0m\u001b[0;34m\u001b[0m\u001b[0;34m\u001b[0m\u001b[0m\n\u001b[0m",
      "\u001b[0;31mIndexError\u001b[0m: list index out of range"
     ]
    }
   ],
   "source": [
    "test[0]"
   ]
  },
  {
   "cell_type": "code",
   "execution_count": null,
   "metadata": {},
   "outputs": [],
   "source": [
    "test[0]."
   ]
  }
 ],
 "metadata": {
  "kernelspec": {
   "display_name": "Python 3",
   "language": "python",
   "name": "python3"
  },
  "language_info": {
   "codemirror_mode": {
    "name": "ipython",
    "version": 3
   },
   "file_extension": ".py",
   "mimetype": "text/x-python",
   "name": "python",
   "nbconvert_exporter": "python",
   "pygments_lexer": "ipython3",
   "version": "3.7.4"
  }
 },
 "nbformat": 4,
 "nbformat_minor": 2
}
