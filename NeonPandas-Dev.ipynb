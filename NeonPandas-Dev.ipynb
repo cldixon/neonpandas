{
 "cells": [
  {
   "cell_type": "markdown",
   "metadata": {},
   "source": [
    "# Development for NeonPandas"
   ]
  },
  {
   "cell_type": "code",
   "execution_count": 1,
   "metadata": {},
   "outputs": [],
   "source": [
    "import numpy as np\n",
    "import pandas as pd \n",
    "import neonpandas as npd\n",
    "\n",
    "from utils import cypher\n",
    "from utils import df_tools\n",
    "from utils.node_tools import Node, find_match\n",
    "from utils import edge_tools"
   ]
  },
  {
   "cell_type": "markdown",
   "metadata": {},
   "source": [
    "## Load Pets Dataset"
   ]
  },
  {
   "cell_type": "code",
   "execution_count": 2,
   "metadata": {},
   "outputs": [
    {
     "data": {
      "text/html": [
       "<div>\n",
       "<style scoped>\n",
       "    .dataframe tbody tr th:only-of-type {\n",
       "        vertical-align: middle;\n",
       "    }\n",
       "\n",
       "    .dataframe tbody tr th {\n",
       "        vertical-align: top;\n",
       "    }\n",
       "\n",
       "    .dataframe thead th {\n",
       "        text-align: right;\n",
       "    }\n",
       "</style>\n",
       "<table border=\"1\" class=\"dataframe\">\n",
       "  <thead>\n",
       "    <tr style=\"text-align: right;\">\n",
       "      <th></th>\n",
       "      <th>name</th>\n",
       "      <th>species</th>\n",
       "      <th>color</th>\n",
       "      <th>age</th>\n",
       "      <th>behavior</th>\n",
       "    </tr>\n",
       "  </thead>\n",
       "  <tbody>\n",
       "    <tr>\n",
       "      <td>0</td>\n",
       "      <td>Ralph</td>\n",
       "      <td>Dog</td>\n",
       "      <td>black</td>\n",
       "      <td>10.0</td>\n",
       "      <td>NaN</td>\n",
       "    </tr>\n",
       "    <tr>\n",
       "      <td>1</td>\n",
       "      <td>Pip</td>\n",
       "      <td>Cat</td>\n",
       "      <td>yellow</td>\n",
       "      <td>6.0</td>\n",
       "      <td>good</td>\n",
       "    </tr>\n",
       "    <tr>\n",
       "      <td>2</td>\n",
       "      <td>Babe</td>\n",
       "      <td>Pig</td>\n",
       "      <td>NaN</td>\n",
       "      <td>3.0</td>\n",
       "      <td>NaN</td>\n",
       "    </tr>\n",
       "    <tr>\n",
       "      <td>3</td>\n",
       "      <td>Bubbles</td>\n",
       "      <td>Fish</td>\n",
       "      <td>red</td>\n",
       "      <td>NaN</td>\n",
       "      <td>acceptable</td>\n",
       "    </tr>\n",
       "    <tr>\n",
       "      <td>4</td>\n",
       "      <td>Freckles</td>\n",
       "      <td>Horse</td>\n",
       "      <td>brown</td>\n",
       "      <td>NaN</td>\n",
       "      <td>NaN</td>\n",
       "    </tr>\n",
       "  </tbody>\n",
       "</table>\n",
       "</div>"
      ],
      "text/plain": [
       "       name species   color   age    behavior\n",
       "0     Ralph     Dog   black  10.0         NaN\n",
       "1       Pip     Cat  yellow   6.0        good\n",
       "2      Babe     Pig     NaN   3.0         NaN\n",
       "3   Bubbles    Fish     red   NaN  acceptable\n",
       "4  Freckles   Horse   brown   NaN         NaN"
      ]
     },
     "execution_count": 2,
     "metadata": {},
     "output_type": "execute_result"
    }
   ],
   "source": [
    "data = pd.read_csv('pets.csv')\n",
    "data"
   ]
  },
  {
   "cell_type": "markdown",
   "metadata": {},
   "source": [
    "## NeonPandas NodeFrame\n",
    "Look behind the scenes (e.g. `pets`) to see the _neo_node_ index that makes this all work."
   ]
  },
  {
   "cell_type": "code",
   "execution_count": 3,
   "metadata": {
    "scrolled": true
   },
   "outputs": [
    {
     "data": {
      "text/html": [
       "<div>\n",
       "<style scoped>\n",
       "    .dataframe tbody tr th:only-of-type {\n",
       "        vertical-align: middle;\n",
       "    }\n",
       "\n",
       "    .dataframe tbody tr th {\n",
       "        vertical-align: top;\n",
       "    }\n",
       "\n",
       "    .dataframe thead th {\n",
       "        text-align: right;\n",
       "    }\n",
       "</style>\n",
       "<table border=\"1\" class=\"dataframe\">\n",
       "  <thead>\n",
       "    <tr style=\"text-align: right;\">\n",
       "      <th></th>\n",
       "      <th>name</th>\n",
       "      <th>species</th>\n",
       "      <th>color</th>\n",
       "      <th>age</th>\n",
       "      <th>behavior</th>\n",
       "    </tr>\n",
       "  </thead>\n",
       "  <tbody>\n",
       "    <tr>\n",
       "      <td>0</td>\n",
       "      <td>Ralph</td>\n",
       "      <td>Dog</td>\n",
       "      <td>black</td>\n",
       "      <td>10.0</td>\n",
       "      <td>NaN</td>\n",
       "    </tr>\n",
       "    <tr>\n",
       "      <td>1</td>\n",
       "      <td>Pip</td>\n",
       "      <td>Cat</td>\n",
       "      <td>yellow</td>\n",
       "      <td>6.0</td>\n",
       "      <td>good</td>\n",
       "    </tr>\n",
       "    <tr>\n",
       "      <td>2</td>\n",
       "      <td>Babe</td>\n",
       "      <td>Pig</td>\n",
       "      <td>NaN</td>\n",
       "      <td>3.0</td>\n",
       "      <td>NaN</td>\n",
       "    </tr>\n",
       "    <tr>\n",
       "      <td>3</td>\n",
       "      <td>Bubbles</td>\n",
       "      <td>Fish</td>\n",
       "      <td>red</td>\n",
       "      <td>NaN</td>\n",
       "      <td>acceptable</td>\n",
       "    </tr>\n",
       "    <tr>\n",
       "      <td>4</td>\n",
       "      <td>Freckles</td>\n",
       "      <td>Horse</td>\n",
       "      <td>brown</td>\n",
       "      <td>NaN</td>\n",
       "      <td>NaN</td>\n",
       "    </tr>\n",
       "  </tbody>\n",
       "</table>\n",
       "</div>"
      ],
      "text/plain": [
       "       name species   color   age    behavior\n",
       "0     Ralph     Dog   black  10.0         NaN\n",
       "1       Pip     Cat  yellow   6.0        good\n",
       "2      Babe     Pig     NaN   3.0         NaN\n",
       "3   Bubbles    Fish     red   NaN  acceptable\n",
       "4  Freckles   Horse   brown   NaN         NaN"
      ]
     },
     "execution_count": 3,
     "metadata": {},
     "output_type": "execute_result"
    }
   ],
   "source": [
    "pets = npd.NodeFrame(data, id_col='name', lbl_col='species', labels={'Pet'})\n",
    "pets"
   ]
  },
  {
   "cell_type": "code",
   "execution_count": 5,
   "metadata": {},
   "outputs": [
    {
     "data": {
      "text/html": [
       "<div>\n",
       "<style scoped>\n",
       "    .dataframe tbody tr th:only-of-type {\n",
       "        vertical-align: middle;\n",
       "    }\n",
       "\n",
       "    .dataframe tbody tr th {\n",
       "        vertical-align: top;\n",
       "    }\n",
       "\n",
       "    .dataframe thead th {\n",
       "        text-align: right;\n",
       "    }\n",
       "</style>\n",
       "<table border=\"1\" class=\"dataframe\">\n",
       "  <thead>\n",
       "    <tr style=\"text-align: right;\">\n",
       "      <th></th>\n",
       "      <th>name</th>\n",
       "      <th>species</th>\n",
       "      <th>color</th>\n",
       "      <th>age</th>\n",
       "      <th>behavior</th>\n",
       "      <th>labels</th>\n",
       "    </tr>\n",
       "  </thead>\n",
       "  <tbody>\n",
       "    <tr>\n",
       "      <td>0</td>\n",
       "      <td>Ralph</td>\n",
       "      <td>Dog</td>\n",
       "      <td>black</td>\n",
       "      <td>10.0</td>\n",
       "      <td>NaN</td>\n",
       "      <td>{Pet, Dog}</td>\n",
       "    </tr>\n",
       "    <tr>\n",
       "      <td>1</td>\n",
       "      <td>Pip</td>\n",
       "      <td>Cat</td>\n",
       "      <td>yellow</td>\n",
       "      <td>6.0</td>\n",
       "      <td>good</td>\n",
       "      <td>{Cat, Pet}</td>\n",
       "    </tr>\n",
       "    <tr>\n",
       "      <td>2</td>\n",
       "      <td>Babe</td>\n",
       "      <td>Pig</td>\n",
       "      <td>NaN</td>\n",
       "      <td>3.0</td>\n",
       "      <td>NaN</td>\n",
       "      <td>{Pet, Pig}</td>\n",
       "    </tr>\n",
       "    <tr>\n",
       "      <td>3</td>\n",
       "      <td>Bubbles</td>\n",
       "      <td>Fish</td>\n",
       "      <td>red</td>\n",
       "      <td>NaN</td>\n",
       "      <td>acceptable</td>\n",
       "      <td>{Fish, Pet}</td>\n",
       "    </tr>\n",
       "    <tr>\n",
       "      <td>4</td>\n",
       "      <td>Freckles</td>\n",
       "      <td>Horse</td>\n",
       "      <td>brown</td>\n",
       "      <td>NaN</td>\n",
       "      <td>NaN</td>\n",
       "      <td>{Horse, Pet}</td>\n",
       "    </tr>\n",
       "  </tbody>\n",
       "</table>\n",
       "</div>"
      ],
      "text/plain": [
       "       name species   color   age    behavior        labels\n",
       "0     Ralph     Dog   black  10.0         NaN    {Pet, Dog}\n",
       "1       Pip     Cat  yellow   6.0        good    {Cat, Pet}\n",
       "2      Babe     Pig     NaN   3.0         NaN    {Pet, Pig}\n",
       "3   Bubbles    Fish     red   NaN  acceptable   {Fish, Pet}\n",
       "4  Freckles   Horse   brown   NaN         NaN  {Horse, Pet}"
      ]
     },
     "execution_count": 5,
     "metadata": {},
     "output_type": "execute_result"
    }
   ],
   "source": [
    "pets['labels'] = df_tools._merge_labels(pets, column='species', labels={'Pet'})\n",
    "pets"
   ]
  },
  {
   "cell_type": "code",
   "execution_count": 6,
   "metadata": {},
   "outputs": [
    {
     "data": {
      "text/html": [
       "<div>\n",
       "<style scoped>\n",
       "    .dataframe tbody tr th:only-of-type {\n",
       "        vertical-align: middle;\n",
       "    }\n",
       "\n",
       "    .dataframe tbody tr th {\n",
       "        vertical-align: top;\n",
       "    }\n",
       "\n",
       "    .dataframe thead th {\n",
       "        text-align: right;\n",
       "    }\n",
       "</style>\n",
       "<table border=\"1\" class=\"dataframe\">\n",
       "  <thead>\n",
       "    <tr style=\"text-align: right;\">\n",
       "      <th></th>\n",
       "      <th>name</th>\n",
       "      <th>species</th>\n",
       "      <th>color</th>\n",
       "      <th>age</th>\n",
       "      <th>behavior</th>\n",
       "      <th>labels</th>\n",
       "      <th>node</th>\n",
       "    </tr>\n",
       "  </thead>\n",
       "  <tbody>\n",
       "    <tr>\n",
       "      <td>0</td>\n",
       "      <td>Ralph</td>\n",
       "      <td>Dog</td>\n",
       "      <td>black</td>\n",
       "      <td>10.0</td>\n",
       "      <td>NaN</td>\n",
       "      <td>{Pet, Dog}</td>\n",
       "      <td>(n:Pet:Dog {name: \"Ralph\"})</td>\n",
       "    </tr>\n",
       "    <tr>\n",
       "      <td>1</td>\n",
       "      <td>Pip</td>\n",
       "      <td>Cat</td>\n",
       "      <td>yellow</td>\n",
       "      <td>6.0</td>\n",
       "      <td>good</td>\n",
       "      <td>{Cat, Pet}</td>\n",
       "      <td>(n:Cat:Pet {name: \"Pip\"})</td>\n",
       "    </tr>\n",
       "    <tr>\n",
       "      <td>2</td>\n",
       "      <td>Babe</td>\n",
       "      <td>Pig</td>\n",
       "      <td>NaN</td>\n",
       "      <td>3.0</td>\n",
       "      <td>NaN</td>\n",
       "      <td>{Pet, Pig}</td>\n",
       "      <td>(n:Pet:Pig {name: \"Babe\"})</td>\n",
       "    </tr>\n",
       "    <tr>\n",
       "      <td>3</td>\n",
       "      <td>Bubbles</td>\n",
       "      <td>Fish</td>\n",
       "      <td>red</td>\n",
       "      <td>NaN</td>\n",
       "      <td>acceptable</td>\n",
       "      <td>{Fish, Pet}</td>\n",
       "      <td>(n:Fish:Pet {name: \"Bubbles\"})</td>\n",
       "    </tr>\n",
       "    <tr>\n",
       "      <td>4</td>\n",
       "      <td>Freckles</td>\n",
       "      <td>Horse</td>\n",
       "      <td>brown</td>\n",
       "      <td>NaN</td>\n",
       "      <td>NaN</td>\n",
       "      <td>{Horse, Pet}</td>\n",
       "      <td>(n:Horse:Pet {name: \"Freckles\"})</td>\n",
       "    </tr>\n",
       "  </tbody>\n",
       "</table>\n",
       "</div>"
      ],
      "text/plain": [
       "       name species   color   age    behavior        labels  \\\n",
       "0     Ralph     Dog   black  10.0         NaN    {Pet, Dog}   \n",
       "1       Pip     Cat  yellow   6.0        good    {Cat, Pet}   \n",
       "2      Babe     Pig     NaN   3.0         NaN    {Pet, Pig}   \n",
       "3   Bubbles    Fish     red   NaN  acceptable   {Fish, Pet}   \n",
       "4  Freckles   Horse   brown   NaN         NaN  {Horse, Pet}   \n",
       "\n",
       "                               node  \n",
       "0       (n:Pet:Dog {name: \"Ralph\"})  \n",
       "1         (n:Cat:Pet {name: \"Pip\"})  \n",
       "2        (n:Pet:Pig {name: \"Babe\"})  \n",
       "3    (n:Fish:Pet {name: \"Bubbles\"})  \n",
       "4  (n:Horse:Pet {name: \"Freckles\"})  "
      ]
     },
     "execution_count": 6,
     "metadata": {},
     "output_type": "execute_result"
    }
   ],
   "source": [
    "pets['node'] = pets.apply(lambda x: Node(x.labels, pets.id_col, x[pets.id_col]), axis=1)\n",
    "pets"
   ]
  },
  {
   "cell_type": "code",
   "execution_count": 9,
   "metadata": {},
   "outputs": [
    {
     "data": {
      "text/html": [
       "<div>\n",
       "<style scoped>\n",
       "    .dataframe tbody tr th:only-of-type {\n",
       "        vertical-align: middle;\n",
       "    }\n",
       "\n",
       "    .dataframe tbody tr th {\n",
       "        vertical-align: top;\n",
       "    }\n",
       "\n",
       "    .dataframe thead th {\n",
       "        text-align: right;\n",
       "    }\n",
       "</style>\n",
       "<table border=\"1\" class=\"dataframe\">\n",
       "  <thead>\n",
       "    <tr style=\"text-align: right;\">\n",
       "      <th></th>\n",
       "      <th>name</th>\n",
       "      <th>color</th>\n",
       "      <th>age</th>\n",
       "      <th>behavior</th>\n",
       "      <th>labels</th>\n",
       "      <th>node</th>\n",
       "    </tr>\n",
       "  </thead>\n",
       "  <tbody>\n",
       "    <tr>\n",
       "      <td>0</td>\n",
       "      <td>Ralph</td>\n",
       "      <td>black</td>\n",
       "      <td>10.0</td>\n",
       "      <td>NaN</td>\n",
       "      <td>{Pet, Dog}</td>\n",
       "      <td>(n:Pet:Dog {name: \"Ralph\"})</td>\n",
       "    </tr>\n",
       "    <tr>\n",
       "      <td>1</td>\n",
       "      <td>Pip</td>\n",
       "      <td>yellow</td>\n",
       "      <td>6.0</td>\n",
       "      <td>good</td>\n",
       "      <td>{Cat, Pet}</td>\n",
       "      <td>(n:Cat:Pet {name: \"Pip\"})</td>\n",
       "    </tr>\n",
       "    <tr>\n",
       "      <td>2</td>\n",
       "      <td>Babe</td>\n",
       "      <td>NaN</td>\n",
       "      <td>3.0</td>\n",
       "      <td>NaN</td>\n",
       "      <td>{Pet, Pig}</td>\n",
       "      <td>(n:Pet:Pig {name: \"Babe\"})</td>\n",
       "    </tr>\n",
       "    <tr>\n",
       "      <td>3</td>\n",
       "      <td>Bubbles</td>\n",
       "      <td>red</td>\n",
       "      <td>NaN</td>\n",
       "      <td>acceptable</td>\n",
       "      <td>{Fish, Pet}</td>\n",
       "      <td>(n:Fish:Pet {name: \"Bubbles\"})</td>\n",
       "    </tr>\n",
       "    <tr>\n",
       "      <td>4</td>\n",
       "      <td>Freckles</td>\n",
       "      <td>brown</td>\n",
       "      <td>NaN</td>\n",
       "      <td>NaN</td>\n",
       "      <td>{Horse, Pet}</td>\n",
       "      <td>(n:Horse:Pet {name: \"Freckles\"})</td>\n",
       "    </tr>\n",
       "  </tbody>\n",
       "</table>\n",
       "</div>"
      ],
      "text/plain": [
       "       name   color   age    behavior        labels  \\\n",
       "0     Ralph   black  10.0         NaN    {Pet, Dog}   \n",
       "1       Pip  yellow   6.0        good    {Cat, Pet}   \n",
       "2      Babe     NaN   3.0         NaN    {Pet, Pig}   \n",
       "3   Bubbles     red   NaN  acceptable   {Fish, Pet}   \n",
       "4  Freckles   brown   NaN         NaN  {Horse, Pet}   \n",
       "\n",
       "                               node  \n",
       "0       (n:Pet:Dog {name: \"Ralph\"})  \n",
       "1         (n:Cat:Pet {name: \"Pip\"})  \n",
       "2        (n:Pet:Pig {name: \"Babe\"})  \n",
       "3    (n:Fish:Pet {name: \"Bubbles\"})  \n",
       "4  (n:Horse:Pet {name: \"Freckles\"})  "
      ]
     },
     "execution_count": 9,
     "metadata": {},
     "output_type": "execute_result"
    }
   ],
   "source": [
    "pets.drop(columns=['species'], inplace=True)\n",
    "pets"
   ]
  },
  {
   "cell_type": "code",
   "execution_count": 10,
   "metadata": {},
   "outputs": [
    {
     "data": {
      "text/plain": [
       "neonpandas.NodeFrame"
      ]
     },
     "execution_count": 10,
     "metadata": {},
     "output_type": "execute_result"
    }
   ],
   "source": [
    "type(pets)"
   ]
  },
  {
   "cell_type": "markdown",
   "metadata": {},
   "source": [
    "## Set up Graph"
   ]
  },
  {
   "cell_type": "code",
   "execution_count": null,
   "metadata": {},
   "outputs": [],
   "source": [
    "graph = npd.Graph(uri='bolt://localhost:7687', auth=('neo4j', 'neonpandas'))"
   ]
  },
  {
   "cell_type": "markdown",
   "metadata": {},
   "source": [
    "### Creates Nodes"
   ]
  },
  {
   "cell_type": "code",
   "execution_count": null,
   "metadata": {},
   "outputs": [],
   "source": [
    "graph.create_nodes(pets)"
   ]
  },
  {
   "cell_type": "markdown",
   "metadata": {},
   "source": [
    "## NeonPandas EdgeFrame"
   ]
  },
  {
   "cell_type": "code",
   "execution_count": null,
   "metadata": {},
   "outputs": [],
   "source": [
    "edge_data = pd.DataFrame([\n",
    "    {'src': 'Ralph', 'rel_type': 'FRIENDLY_WITH', 'dest': 'Bubbles', 'reporter': 'Jenny'},\n",
    "    {'src': 'Pip', 'rel_type': 'MEAN_TO', 'dest': 'Babe', 'reporter': 'Frank'},\n",
    "    {'src': 'Ralph', 'rel_type': 'MEAN_TO', 'dest': 'Freckles', 'reporter': 'Frank'},\n",
    "    {'src': 'Freckles', 'rel_type': 'FRIENDLY_WITH', 'dest': 'Babe', 'reporter': 'Tommy'},\n",
    "    {'src': 'Pip', 'rel_type': 'JUST_MET', 'dest': 'Barney', 'reporter': 'Jenny'}\n",
    "])\n",
    "edge_data"
   ]
  },
  {
   "cell_type": "markdown",
   "metadata": {},
   "source": [
    "### Initiate a Standalone EdgeFrame from Edge Data"
   ]
  },
  {
   "cell_type": "code",
   "execution_count": null,
   "metadata": {},
   "outputs": [],
   "source": [
    "edges = npd.EdgeFrame(edge_data, rel_col='rel_type', lbls={'Pet'})\n",
    "edges"
   ]
  },
  {
   "cell_type": "code",
   "execution_count": null,
   "metadata": {},
   "outputs": [],
   "source": [
    "edges.lbls"
   ]
  },
  {
   "cell_type": "code",
   "execution_count": null,
   "metadata": {},
   "outputs": [],
   "source": [
    "def create_node_column(col, name, lbls:set={}, var:str=None):\n",
    "    if not edge_tools._already_contains_nodes(col):\n",
    "        return col.apply(lambda x: Node(lbls, name, x, var=var))\n",
    "    else:\n",
    "        return col"
   ]
  },
  {
   "cell_type": "code",
   "execution_count": null,
   "metadata": {},
   "outputs": [],
   "source": [
    "edges['src'] = create_node_column(edges[edges.src_col], 'name', lbls=edges.lbls, var=edges.src_col)\n",
    "edges['dest'] = create_node_column(edges[edges.dest_col], 'name', lbls=edges.lbls, var=edges.dest_col)\n",
    "edges"
   ]
  },
  {
   "cell_type": "markdown",
   "metadata": {},
   "source": [
    "#### Requirements for EdgeFrame\n",
    "- Designate source, relationship-type, and dest columns (i.e. src, dest, rel_type)\n",
    "- Ability to join **src** and **dest** cols with NodeFrame to get ID info (e.g. labels, id_props, etc.)\n",
    "- `create_edges()` method with option to set **src** and **dest** (individually) to `MATCH` or `MERGE`\n",
    "- Assumes all columns in EdgeFrame beyond **src**, **dest**, and **rel-type** are edge properties"
   ]
  },
  {
   "cell_type": "code",
   "execution_count": null,
   "metadata": {},
   "outputs": [],
   "source": [
    "edges = edges.merge(pets[['labels', pets.id_col]], \n",
    "                    left_on='src', right_on=pets.id_col, \n",
    "                    how='left', suffixes=('', '_src'))\n",
    "\n",
    "edges = edges.merge(pets[['labels', pets.id_col]], \n",
    "                    left_on='dest', right_on=pets.id_col, \n",
    "                    how='left', suffixes=('_src', '_dest'))\n",
    "edges.rename(columns={'labels_src': 'src_labels', 'labels_dest': 'dest_labels'}, inplace=True)\n",
    "edges.drop(columns=['name_src', 'name_dest'], inplace=True)\n",
    "\n",
    "## address any nan values\n",
    "\n",
    "edges"
   ]
  },
  {
   "cell_type": "code",
   "execution_count": null,
   "metadata": {},
   "outputs": [],
   "source": [
    "edges['dest_labels'] = edges.dest_labels.fillna({'Pet'})\n",
    "edges"
   ]
  },
  {
   "cell_type": "code",
   "execution_count": null,
   "metadata": {},
   "outputs": [],
   "source": [
    "#edges['src_node'] = edges.apply(lambda x: node_tools.Node(x.src_labels, pets.id_col, x.src), axis=1)\n",
    "## ** error here is due to NaN in dest_labels column\n",
    "edges['dest_node'] = edges.apply(lambda x: node_tools.Node(x.dest_labels, pets.id_col, x.dest), axis=1)\n",
    "edges"
   ]
  },
  {
   "cell_type": "code",
   "execution_count": null,
   "metadata": {},
   "outputs": [],
   "source": [
    "list(set(['dog', 'pet']))"
   ]
  },
  {
   "cell_type": "code",
   "execution_count": null,
   "metadata": {},
   "outputs": [],
   "source": [
    "test = {'pet', 'dog'}\n",
    "len(test)"
   ]
  },
  {
   "cell_type": "code",
   "execution_count": null,
   "metadata": {},
   "outputs": [],
   "source": [
    "test = node_tools.Node({'Pet', 'Dog'}, 'name', 'Ralph')"
   ]
  },
  {
   "cell_type": "code",
   "execution_count": null,
   "metadata": {},
   "outputs": [],
   "source": [
    "test"
   ]
  },
  {
   "cell_type": "code",
   "execution_count": null,
   "metadata": {},
   "outputs": [],
   "source": [
    "edges = npd.EdgeFrame(edge_data, rel_col='rel_type')\n",
    "#edges = npd.EdgeFrame(edges[['src', 'dest']], rel_type='SHARES_OWNER')\n",
    "edges.show()"
   ]
  },
  {
   "cell_type": "code",
   "execution_count": null,
   "metadata": {},
   "outputs": [],
   "source": [
    "edges.join_to_nodeframe(pets)"
   ]
  },
  {
   "cell_type": "code",
   "execution_count": null,
   "metadata": {},
   "outputs": [],
   "source": [
    "edges"
   ]
  },
  {
   "cell_type": "code",
   "execution_count": null,
   "metadata": {},
   "outputs": [],
   "source": [
    "owner_data = [\n",
    "    {'name': 'Dan', 'mood': 'good'},\n",
    "    {'name': 'Barbara', 'mood': 'okay'},\n",
    "    {'name': 'John', 'mood': 'bad'}\n",
    "]\n",
    "\n",
    "pet_owner_data = [\n",
    "    {'src': 'Dan', 'rel_type': 'OWNS', 'dest': 'Freckles'},\n",
    "    {'src': 'Barbara', 'rel_type': 'OWNS', 'dest': 'Ralph'},\n",
    "    {'src': 'John', 'rel_type': 'TRAINED', 'dest': 'Babe'},\n",
    "    {'src': 'Barbara', 'rel_type': 'FEEDS', 'dest': 'Pip'}\n",
    "]"
   ]
  },
  {
   "cell_type": "code",
   "execution_count": null,
   "metadata": {},
   "outputs": [],
   "source": [
    "owners = npd.NodeFrame(owner_data, id_col='name', labels=('Owner'))\n",
    "owners"
   ]
  },
  {
   "cell_type": "code",
   "execution_count": null,
   "metadata": {},
   "outputs": [],
   "source": [
    "pet_owner_edges = npd.EdgeFrame(pet_owner_data, rel_col='rel_type')\n",
    "pet_owner_edges.show()"
   ]
  },
  {
   "cell_type": "code",
   "execution_count": null,
   "metadata": {},
   "outputs": [],
   "source": [
    "what = set(what)\n",
    "what"
   ]
  },
  {
   "cell_type": "code",
   "execution_count": null,
   "metadata": {},
   "outputs": [],
   "source": [
    "pet_owner_edges.join_to_nodeframe(src_nodes=owners, dest_nodes=pets)\n",
    "pet_owner_edges"
   ]
  },
  {
   "cell_type": "code",
   "execution_count": null,
   "metadata": {},
   "outputs": [],
   "source": [
    "def _already_contains_nodes(col:pd.Series, num:int=3):\n",
    "    for x in col[:num]:\n",
    "        if not isinstance(x, node.Node):\n",
    "            return False\n",
    "    return True\n",
    "    \n",
    "\n",
    "def enrich_edgeframe(edges, nodes:npd.NodeFrame=None, src_nodes:npd.NodeFrame=None, dest_nodes:npd.NodeFrame=None,\n",
    "                    src_labels=None, dest_labels=None):\n",
    "    for _col,_nf, _default in [(edges.src_col, src_nodes, src_lbls), (edges.dest_col, dest_nodes, dest_lbls)]:\n",
    "        if nodes is None and src_nodes is None and dest_nodes is None:\n",
    "            edges[_col] = edges[_col].apply(lambda x: node.Node())\n",
    "        nf = (_nf if nodes is None and _nf is not None else nodes)\n",
    "        # convert (src|dest) node column to Node type\n",
    "        if not _already_contains_nodes(edges[_col]):\n",
    "            edges[_col] = edges[_col].apply(lambda x: node.Node(nf.default_lbls, nf.id_col, x))\n",
    "            # match to respective NodeFrame\n",
    "            edges[_col] = edges[_col].apply(lambda x: node.find_match(x, nf.index.to_series()))\n",
    "    return edges"
   ]
  },
  {
   "cell_type": "code",
   "execution_count": null,
   "metadata": {},
   "outputs": [],
   "source": [
    "test = enrich_edgeframe(edges, pets)\n",
    "test"
   ]
  },
  {
   "cell_type": "markdown",
   "metadata": {},
   "source": [
    "### Node Joining\n",
    "Perform _join_ operations with an input DataFrame against nodes in Neo4j."
   ]
  },
  {
   "cell_type": "code",
   "execution_count": null,
   "metadata": {},
   "outputs": [],
   "source": [
    "new_pets = pd.DataFrame([\n",
    "    {'name': 'Betsy', 'age': 2, 'species': 'Cow'},\n",
    "    {'name': 'Carrie', 'species': 'Rabbit'}\n",
    "])\n",
    "all_pets = pd.concat([data, new_pets], sort=False).reset_index(drop=True)"
   ]
  },
  {
   "cell_type": "code",
   "execution_count": null,
   "metadata": {},
   "outputs": [],
   "source": [
    "all_pets = npd.NodeFrame(all_pets, id_col='name', lbl_col='species', labels={'Pet'})\n",
    "all_pets"
   ]
  },
  {
   "cell_type": "code",
   "execution_count": null,
   "metadata": {},
   "outputs": [],
   "source": [
    "test = [type(n) for n in test.src]\n",
    "test"
   ]
  },
  {
   "cell_type": "code",
   "execution_count": null,
   "metadata": {},
   "outputs": [],
   "source": [
    "if len(set([type(n) for n in test.src[:5]])) >= 1:\n",
    "    print('yes')"
   ]
  },
  {
   "cell_type": "markdown",
   "metadata": {},
   "source": [
    "### Semi-Join\n",
    "Check which nodes in DataFrame exist in Neo4j."
   ]
  },
  {
   "cell_type": "code",
   "execution_count": null,
   "metadata": {},
   "outputs": [],
   "source": [
    "test = enrich_edgeframe(pet_owner_edges, src_nodes=owners, dest_nodes=pets)\n",
    "test"
   ]
  },
  {
   "cell_type": "markdown",
   "metadata": {},
   "source": [
    "## EdgeFrame Joins to NodeFrame\n",
    "There are 2 proposed approaches:\n",
    "1. Join via the Node-Index created already in the NodeFrame (via the Node class)\n",
    "    - Allows for more dynamic/flexible joining (e.g. variable labels)\n",
    "    - Incorporates node labels into join; not exclusively relying on column names\n",
    "    - Provides a kind of hidden link between specific nodes across node and edge frames\n",
    "    \n",
    "\n",
    "2. Join via designated id columns provided within NodeFrame object(s)\n",
    "    - More explicit to user; but also requires a little more attention"
   ]
  },
  {
   "cell_type": "code",
   "execution_count": null,
   "metadata": {},
   "outputs": [],
   "source": [
    "## left to do ----\n",
    "## 1. Merge with multiple NodeFrames (ie an array)\n",
    "##    this is essential for EdgeFrame that contain edges\n",
    "##    going from one node class to another (e.g. Pets --> Owners)\n",
    "## 2. [DONE] how to insert EdgeFrame into cypher query\n",
    "## 3. Revisit joining/merging between EdgeFrame & NodeFrame\n",
    "##.   consider how to use Node Match feature"
   ]
  },
  {
   "cell_type": "code",
   "execution_count": null,
   "metadata": {},
   "outputs": [],
   "source": [
    "graph.semi_join(all_pets, on='name', labels='Pet')"
   ]
  },
  {
   "cell_type": "markdown",
   "metadata": {},
   "source": [
    "### Anti-Join\n",
    "Check which nodes in DataFrame do not exist in Neo4j."
   ]
  },
  {
   "cell_type": "code",
   "execution_count": null,
   "metadata": {},
   "outputs": [],
   "source": [
    "graph.anti_join(all_pets, on='name', labels='Pet')"
   ]
  },
  {
   "cell_type": "markdown",
   "metadata": {},
   "source": [
    "## Match Nodes\n",
    "Search for nodes via `MATCH` statement"
   ]
  },
  {
   "cell_type": "code",
   "execution_count": null,
   "metadata": {},
   "outputs": [],
   "source": [
    "graph.match_nodes(labels={'Pet'}, limit=3)"
   ]
  },
  {
   "cell_type": "code",
   "execution_count": null,
   "metadata": {},
   "outputs": [],
   "source": [
    "## add properties to search\n",
    "graph.match_nodes(labels={'Pet'}, properties={'name': 'Ralph'})"
   ]
  },
  {
   "cell_type": "markdown",
   "metadata": {},
   "source": [
    "## Dynamic Relationship Merge Via APOC\n",
    "Holy cow this works!"
   ]
  },
  {
   "cell_type": "code",
   "execution_count": null,
   "metadata": {},
   "outputs": [],
   "source": [
    "test"
   ]
  },
  {
   "cell_type": "code",
   "execution_count": null,
   "metadata": {},
   "outputs": [],
   "source": [
    "# try to recreate below loop via pandas dataframe\n",
    "test['src_lbls'] = test[edges.src_col].apply(lambda x: x.labels.tolist())\n",
    "test['src_id'] = test[edges.src_col].apply(lambda x: x._get_id())\n",
    "test['dest_lbls'] = test[edges.dest_col].apply(lambda x: x.labels.tolist())\n",
    "test['dest_id'] = test[edges.dest_col].apply(lambda x: x._get_id())\n",
    "test.drop(columns=[edges.src_col, edges.dest_col], inplace=True)\n",
    "test"
   ]
  },
  {
   "cell_type": "code",
   "execution_count": null,
   "metadata": {},
   "outputs": [],
   "source": [
    "properties= test[[col for col in test.columns \n",
    "                  if col not in ['rel_type', 'src_lbls', 'dest_lbls', 'src_id', 'dest_id']]]\n",
    "properties = df_tools.convert_to_records(properties)\n",
    "test['properties'] = properties\n",
    "test"
   ]
  },
  {
   "cell_type": "code",
   "execution_count": null,
   "metadata": {},
   "outputs": [],
   "source": [
    "apoc_edges = test.to_dict('records')\n",
    "apoc_edges[0]"
   ]
  },
  {
   "cell_type": "code",
   "execution_count": null,
   "metadata": {},
   "outputs": [],
   "source": [
    "query = \"\"\"UNWIND $edges AS edge\n",
    "            CALL apoc.merge.node(edge.src_lbls, edge.src_id) YIELD node AS src\n",
    "            WITH src, edge\n",
    "            CALL apoc.merge.node(edge.dest_lbls, edge.dest_id) YIELD node AS dest\n",
    "            WITH src, dest, edge\n",
    "            CALL apoc.merge.relationship(src, edge.rel_type, edge.properties, {}, dest) YIELD rel\n",
    "            RETURN COUNT(rel)\"\"\""
   ]
  },
  {
   "cell_type": "code",
   "execution_count": null,
   "metadata": {},
   "outputs": [],
   "source": [
    "graph.run(query, {'edges': apoc_edges})"
   ]
  },
  {
   "cell_type": "markdown",
   "metadata": {},
   "source": [
    "## Re-Use this old code: How to handle NAN values with Sets"
   ]
  },
  {
   "cell_type": "code",
   "execution_count": null,
   "metadata": {},
   "outputs": [],
   "source": [
    "def enrich_edgeframe(edges, nodes, default=None):\n",
    "    src_default, dest_default = _parse_default_param(default)\n",
    "    src_lbls = '{}_labels'.format(edges.src_col)\n",
    "    dest_lbls = '{}_labels'.format(edges.dest_col)\n",
    "    # src join\n",
    "    test = edges.merge(nodes[[nodes.id_col, 'labels']],\n",
    "                      left_on=edges.src_col, right_on=nodes.id_col,\n",
    "                      how='left').rename(columns={'labels': src_lbls})\n",
    "    # dest join\n",
    "    test = test.merge(nodes[[nodes.id_col, 'labels']],\n",
    "                     left_on=edges.dest_col, right_on=nodes.id_col,\n",
    "                     how='left', suffixes=('_src', '_dest')).rename(columns={'labels': dest_lbls})\n",
    "    # drop extraneous columns\n",
    "    test.drop(test.filter(regex='(_src|_dest)').columns, axis=1, inplace=True)\n",
    "    # if some nodes from edgeframe were not matched to nodeframe\n",
    "    # fill in default labels (src & dest)\n",
    "    test = handle_nan_nodes(test, src_lbls, src_default)\n",
    "    test = handle_nan_nodes(test, dest_lbls, dest_default)\n",
    "    # convert src field and labels to Node object\n",
    "    test[edges.src_col] = df_tools._generate_node_idx(test, key=nodes.id_col, \n",
    "                                                      value_col=edges.src_col, \n",
    "                                                      lbls_col=src_lbls, var='s')\n",
    "    test[edges.dest_col] = df_tools._generate_node_idx(test, key=nodes.id_col, \n",
    "                                                       value_col=edges.dest_col, \n",
    "                                                       lbls_col=dest_lbls, var='d')\n",
    "    test.drop(test.filter(regex='_labels').columns, axis=1, inplace=True)\n",
    "    return test\n",
    "\n",
    "def _parse_default_param(default):\n",
    "    if isinstance(default, tuple):\n",
    "        src_default, dest_default = default\n",
    "    elif isinstance(default, str):\n",
    "        src_default = default\n",
    "        dest_default = default\n",
    "    else:\n",
    "        src_default = None\n",
    "        dest_default = None\n",
    "    return src_default, dest_default\n",
    "\n",
    "def handle_nan_nodes(edges, col, col_default):\n",
    "    _nans = edges[col].isnull().values\n",
    "    if _nans.any():\n",
    "        if col_default:\n",
    "            # get indices of nan values\n",
    "            nan_idx = np.where(_nans == True)[0]\n",
    "            edges[col][nan_idx] = df_tools.conform_to_tuple(col_default,)\n",
    "        else:\n",
    "            error_msg = \"\"\"{s} column contains {n} nan values after merge with NodeFrame.\n",
    "            This may be because a node in the {s} column is not present in\n",
    "            the NodeFrame. Use the 'src_default' parameter to provide a\n",
    "            default Node Label for {s} nodes not found in NodeFrame.\"\"\".format(s=col, n=_nans.shape[0])\n",
    "            raise ValueError(error_msg)\n",
    "    return edges"
   ]
  },
  {
   "cell_type": "code",
   "execution_count": null,
   "metadata": {},
   "outputs": [],
   "source": []
  }
 ],
 "metadata": {
  "kernelspec": {
   "display_name": "Python 3",
   "language": "python",
   "name": "python3"
  },
  "language_info": {
   "codemirror_mode": {
    "name": "ipython",
    "version": 3
   },
   "file_extension": ".py",
   "mimetype": "text/x-python",
   "name": "python",
   "nbconvert_exporter": "python",
   "pygments_lexer": "ipython3",
   "version": "3.7.4"
  }
 },
 "nbformat": 4,
 "nbformat_minor": 2
}
